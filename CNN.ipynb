{
 "cells": [
  {
   "cell_type": "markdown",
   "metadata": {
    "colab_type": "text",
    "id": "CZN9Sk9DRT3h"
   },
   "source": [
    "## Convolutional Neural Network\n",
    "\n"
   ]
  },
  {
   "cell_type": "code",
   "execution_count": 0,
   "metadata": {
    "colab": {},
    "colab_type": "code",
    "id": "z5jXcWzyF6R5"
   },
   "outputs": [],
   "source": [
    "import numpy as np\n",
    "import matplotlib.pyplot as plt\n",
    "from sklearn.model_selection import train_test_split\n",
    "from tensorflow.keras.models import Sequential\n",
    "from tensorflow.keras.layers import Conv2D, MaxPooling2D, Flatten, Dense, BatchNormalization\n",
    "from tensorflow.keras import datasets\n",
    "from tensorflow.keras.callbacks import EarlyStopping\n",
    "import tensorflow.keras as keras\n",
    "import pandas as pd"
   ]
  },
  {
   "cell_type": "code",
   "execution_count": 0,
   "metadata": {
    "colab": {},
    "colab_type": "code",
    "id": "ADWg_nZeIpKV"
   },
   "outputs": [],
   "source": [
    "def plot(filename):\n",
    "  h = np.load(filename, allow_pickle=True).item()\n",
    "  print(h.keys())\n",
    "  plt.figure()\n",
    "  plt.plot(h['loss'], label = \"loss\")\n",
    "  plt.plot(h['val_loss'], label = \"validation loss\")\n",
    "  plt.legend(loc=0)\n",
    "  plt.show()\n"
   ]
  },
  {
   "cell_type": "markdown",
   "metadata": {},
   "source": [
    "## Load CIFAR-10 dataset"
   ]
  },
  {
   "cell_type": "code",
   "execution_count": 0,
   "metadata": {
    "colab": {
     "base_uri": "https://localhost:8080/",
     "height": 69
    },
    "colab_type": "code",
    "executionInfo": {
     "elapsed": 18995,
     "status": "ok",
     "timestamp": 1570614933295,
     "user": {
      "displayName": "2016 01129",
      "photoUrl": "",
      "userId": "05090785799809074727"
     },
     "user_tz": -330
    },
    "id": "-9hz3TQ3F9G-",
    "outputId": "3218888b-7514-4545-b1e8-e28cd069568a"
   },
   "outputs": [
    {
     "name": "stdout",
     "output_type": "stream",
     "text": [
      "Downloading data from https://www.cs.toronto.edu/~kriz/cifar-10-python.tar.gz\n",
      "170500096/170498071 [==============================] - 12s 0us/step\n",
      "(50000, 32, 32, 3) (10000, 32, 32, 3)\n"
     ]
    }
   ],
   "source": [
    "data = datasets.cifar10.load_data()\n",
    "((x_train, y_train), (x_test, y_test)) = data\n",
    "print(x_train.shape, x_test.shape)"
   ]
  },
  {
   "cell_type": "code",
   "execution_count": 0,
   "metadata": {
    "colab": {
     "base_uri": "https://localhost:8080/",
     "height": 34
    },
    "colab_type": "code",
    "executionInfo": {
     "elapsed": 19552,
     "status": "ok",
     "timestamp": 1570614933868,
     "user": {
      "displayName": "2016 01129",
      "photoUrl": "",
      "userId": "05090785799809074727"
     },
     "user_tz": -330
    },
    "id": "74bRbyXkF-Yc",
    "outputId": "9d9aafda-e77e-466b-8102-f2e0940b5854"
   },
   "outputs": [
    {
     "name": "stdout",
     "output_type": "stream",
     "text": [
      "Number of classes =  10\n"
     ]
    }
   ],
   "source": [
    "x_train = x_train.astype('float') / 255\n",
    "x_test = x_test.astype('float') / 255\n",
    "num_classes = len(np.unique(y_train))\n",
    "print(\"Number of classes = \", num_classes)"
   ]
  },
  {
   "cell_type": "code",
   "execution_count": 0,
   "metadata": {
    "colab": {},
    "colab_type": "code",
    "id": "ODkPtFGsF_fy"
   },
   "outputs": [],
   "source": [
    "y_train = keras.utils.to_categorical(y_train, num_classes)\n",
    "y_test = keras.utils.to_categorical(y_test, num_classes)"
   ]
  },
  {
   "cell_type": "markdown",
   "metadata": {},
   "source": [
    "### Model1 : 1 convolution layer with SGD"
   ]
  },
  {
   "cell_type": "code",
   "execution_count": 0,
   "metadata": {
    "colab": {
     "base_uri": "https://localhost:8080/",
     "height": 34
    },
    "colab_type": "code",
    "executionInfo": {
     "elapsed": 232191,
     "status": "ok",
     "timestamp": 1570534151961,
     "user": {
      "displayName": "Kritika Gupta",
      "photoUrl": "https://lh3.googleusercontent.com/a-/AAuE7mCgwK3Moc4SnVPKwBeZeYUEdvlrnhYWLjYp7qtZWQ=s64",
      "userId": "12877228453155369040"
     },
     "user_tz": -330
    },
    "id": "ksaYftQpGHJ9",
    "outputId": "99d38e95-de2f-440e-e00d-b5576dbb004d"
   },
   "outputs": [
    {
     "name": "stdout",
     "output_type": "stream",
     "text": [
      "10000/10000 [==============================] - 2s 179us/sample - loss: 2.9615 - acc: 0.6387\n"
     ]
    }
   ],
   "source": [
    "model = Sequential()\n",
    "model.add(Conv2D(32, (3,3), activation='relu', padding='same', input_shape=x_train.shape[1:]))\n",
    "model.add(Conv2D(32, (3,3), activation='relu', padding='same'))\n",
    "model.add(MaxPooling2D((2, 2)))\n",
    "\n",
    "model.add(Flatten())\n",
    "model.add(Dense(128, activation='relu'))\n",
    "model.add(Dense(num_classes, activation='softmax'))\n",
    "\n",
    "opt = keras.optimizers.SGD(lr=0.01, momentum=0.9)\n",
    "model.compile(optimizer=opt, loss='categorical_crossentropy', metrics=['accuracy'])\n",
    "history = model.fit(x_train, y_train, epochs=25, \\\n",
    "                    batch_size=64, validation_split=0.2, verbose=0)\n",
    "model.save(\"model1.h5\")\n",
    "np.save(\"output1.npy\", history.history)\n",
    "\n",
    "_, acc = model.evaluate(x_test, y_test, verbose=1)"
   ]
  },
  {
   "cell_type": "markdown",
   "metadata": {},
   "source": [
    "### Model2 : 2 convolution layers with SGD"
   ]
  },
  {
   "cell_type": "code",
   "execution_count": 0,
   "metadata": {
    "colab": {
     "base_uri": "https://localhost:8080/",
     "height": 34
    },
    "colab_type": "code",
    "executionInfo": {
     "elapsed": 244005,
     "status": "ok",
     "timestamp": 1570534447455,
     "user": {
      "displayName": "Kritika Gupta",
      "photoUrl": "https://lh3.googleusercontent.com/a-/AAuE7mCgwK3Moc4SnVPKwBeZeYUEdvlrnhYWLjYp7qtZWQ=s64",
      "userId": "12877228453155369040"
     },
     "user_tz": -330
    },
    "id": "eEJRlAOre_hT",
    "outputId": "e8feffde-a2e1-48fc-80ec-982ac6bdefaf"
   },
   "outputs": [
    {
     "name": "stdout",
     "output_type": "stream",
     "text": [
      "10000/10000 [==============================] - 2s 193us/sample - loss: 2.5224 - acc: 0.6475\n"
     ]
    }
   ],
   "source": [
    "model = Sequential()\n",
    "model.add(Conv2D(32, (3,3), activation='relu', padding='same', input_shape=x_train.shape[1:]))\n",
    "model.add(Conv2D(32, (3,3), activation='relu', padding='same'))\n",
    "model.add(MaxPooling2D((2, 2)))\n",
    "\n",
    "model.add(Conv2D(32, (3,3), activation='relu', padding='same'))\n",
    "model.add(Conv2D(32, (3,3), activation='relu', padding='same'))\n",
    "model.add(MaxPooling2D((2, 2)))\n",
    "\n",
    "model.add(Flatten())\n",
    "model.add(Dense(128, activation='relu'))\n",
    "model.add(Dense(num_classes, activation='softmax'))\n",
    "\n",
    "opt = keras.optimizers.SGD(lr=0.01, momentum=0.9)\n",
    "model.compile(optimizer=opt, loss='categorical_crossentropy', metrics=['accuracy'])\n",
    "history = model.fit(x_train, y_train, epochs=25, \\\n",
    "                    batch_size=64, validation_split=0.2, verbose=0)\n",
    "model.save(\"model2.h5\")\n",
    "np.save(\"output2.npy\", history.history)\n",
    "\n",
    "_, acc = model.evaluate(x_test, y_test, verbose=1)"
   ]
  },
  {
   "cell_type": "markdown",
   "metadata": {},
   "source": [
    "### Model3 : 3 convolution layers with SGD"
   ]
  },
  {
   "cell_type": "code",
   "execution_count": 0,
   "metadata": {
    "colab": {
     "base_uri": "https://localhost:8080/",
     "height": 34
    },
    "colab_type": "code",
    "executionInfo": {
     "elapsed": 492313,
     "status": "ok",
     "timestamp": 1570534709546,
     "user": {
      "displayName": "Kritika Gupta",
      "photoUrl": "https://lh3.googleusercontent.com/a-/AAuE7mCgwK3Moc4SnVPKwBeZeYUEdvlrnhYWLjYp7qtZWQ=s64",
      "userId": "12877228453155369040"
     },
     "user_tz": -330
    },
    "id": "DUpc6rUNGIP0",
    "outputId": "b5f4f7e1-20a8-4b89-89ad-a2f12518c8c3"
   },
   "outputs": [
    {
     "name": "stdout",
     "output_type": "stream",
     "text": [
      "10000/10000 [==============================] - 2s 209us/sample - loss: 1.1804 - acc: 0.7033\n"
     ]
    }
   ],
   "source": [
    "model = Sequential()\n",
    "model.add(Conv2D(32, (3,3), activation='relu', padding='same', input_shape=x_train.shape[1:]))\n",
    "model.add(Conv2D(32, (3,3), activation='relu', padding='same'))\n",
    "model.add(MaxPooling2D((2, 2)))\n",
    "\n",
    "model.add(Conv2D(32, (3,3), activation='relu', padding='same'))\n",
    "model.add(Conv2D(32, (3,3), activation='relu', padding='same'))\n",
    "model.add(MaxPooling2D((2, 2)))\n",
    "\n",
    "model.add(Conv2D(32, (3,3), activation='relu', padding='same'))\n",
    "model.add(Conv2D(32, (3,3), activation='relu', padding='same'))\n",
    "model.add(MaxPooling2D((2, 2)))\n",
    "\n",
    "model.add(Flatten())\n",
    "model.add(Dense(128, activation='relu'))\n",
    "model.add(Dense(num_classes, activation='softmax'))\n",
    "\n",
    "opt = keras.optimizers.SGD(lr=0.01, momentum=0.9)\n",
    "model.compile(optimizer=opt, loss='categorical_crossentropy', metrics=['accuracy'])\n",
    "history = model.fit(x_train, y_train, epochs=25, \\\n",
    "                    batch_size=64, validation_split=0.2, verbose=0)\n",
    "\n",
    "model.save(\"model3.h5\")\n",
    "np.save(\"output3.npy\", history.history)\n",
    "\n",
    "_, acc = model.evaluate(x_test, y_test, verbose=1)"
   ]
  },
  {
   "cell_type": "markdown",
   "metadata": {},
   "source": [
    "### Model4 : 4 convolution layers with SGD"
   ]
  },
  {
   "cell_type": "code",
   "execution_count": 0,
   "metadata": {
    "colab": {
     "base_uri": "https://localhost:8080/",
     "height": 34
    },
    "colab_type": "code",
    "executionInfo": {
     "elapsed": 563057,
     "status": "ok",
     "timestamp": 1570535459674,
     "user": {
      "displayName": "Kritika Gupta",
      "photoUrl": "https://lh3.googleusercontent.com/a-/AAuE7mCgwK3Moc4SnVPKwBeZeYUEdvlrnhYWLjYp7qtZWQ=s64",
      "userId": "12877228453155369040"
     },
     "user_tz": -330
    },
    "id": "zvVm3ViZLHKF",
    "outputId": "c7fc876d-08fd-4015-988c-cd1a34a0de28"
   },
   "outputs": [
    {
     "name": "stdout",
     "output_type": "stream",
     "text": [
      "10000/10000 [==============================] - 2s 215us/sample - loss: 0.9741 - acc: 0.7033\n"
     ]
    }
   ],
   "source": [
    "model = Sequential()\n",
    "model.add(Conv2D(32, (3,3), activation='relu', padding='same', input_shape=x_train.shape[1:]))\n",
    "model.add(Conv2D(32, (3,3), activation='relu', padding='same'))\n",
    "model.add(MaxPooling2D((2, 2)))\n",
    "\n",
    "model.add(Conv2D(32, (3,3), activation='relu', padding='same'))\n",
    "model.add(Conv2D(32, (3,3), activation='relu', padding='same'))\n",
    "model.add(MaxPooling2D((2, 2)))\n",
    "\n",
    "model.add(Conv2D(32, (3,3), activation='relu', padding='same'))\n",
    "model.add(Conv2D(32, (3,3), activation='relu', padding='same'))\n",
    "model.add(MaxPooling2D((2, 2)))\n",
    "\n",
    "model.add(Conv2D(32, (3,3), activation='relu', padding='same'))\n",
    "model.add(Conv2D(32, (3,3), activation='relu', padding='same'))\n",
    "model.add(MaxPooling2D((2, 2)))\n",
    "\n",
    "model.add(Flatten())\n",
    "model.add(Dense(128, activation='relu'))\n",
    "model.add(Dense(num_classes, activation='softmax'))\n",
    "\n",
    "opt = keras.optimizers.SGD(lr=0.01, momentum=0.9)\n",
    "model.compile(optimizer=opt, loss='categorical_crossentropy', metrics=['accuracy'])\n",
    "history = model.fit(x_train, y_train, epochs=50, \\\n",
    "                    batch_size=64, validation_split=0.2, verbose=0)\n",
    "\n",
    "model.save(\"model4.h5\")\n",
    "np.save(\"output4.npy\", history.history)\n",
    "\n",
    "_, acc = model.evaluate(x_test, y_test, verbose=1)"
   ]
  },
  {
   "cell_type": "code",
   "execution_count": 0,
   "metadata": {
    "colab": {
     "base_uri": "https://localhost:8080/",
     "height": 825
    },
    "colab_type": "code",
    "executionInfo": {
     "elapsed": 443913,
     "status": "ok",
     "timestamp": 1570534711018,
     "user": {
      "displayName": "Kritika Gupta",
      "photoUrl": "https://lh3.googleusercontent.com/a-/AAuE7mCgwK3Moc4SnVPKwBeZeYUEdvlrnhYWLjYp7qtZWQ=s64",
      "userId": "12877228453155369040"
     },
     "user_tz": -330
    },
    "id": "epqEP2fSIx72",
    "outputId": "2f558d5b-fd03-48ef-fdcb-ff32c06f2034"
   },
   "outputs": [
    {
     "name": "stdout",
     "output_type": "stream",
     "text": [
      "dict_keys(['loss', 'acc', 'val_loss', 'val_acc'])\n"
     ]
    },
    {
     "data": {
      "image/png": "[encoded data removed]",
      "text/plain": [
       "<Figure size 432x288 with 1 Axes>"
      ]
     },
     "metadata": {
      "tags": []
     },
     "output_type": "display_data"
    },
    {
     "name": "stdout",
     "output_type": "stream",
     "text": [
      "dict_keys(['loss', 'acc', 'val_loss', 'val_acc'])\n"
     ]
    },
    {
     "data": {
      "image/png": "[encoded data removed]",
      "text/plain": [
       "<Figure size 432x288 with 1 Axes>"
      ]
     },
     "metadata": {
      "tags": []
     },
     "output_type": "display_data"
    },
    {
     "name": "stdout",
     "output_type": "stream",
     "text": [
      "dict_keys(['loss', 'acc', 'val_loss', 'val_acc'])\n"
     ]
    },
    {
     "data": {
      "image/png": "[encoded data removed]",
      "text/plain": [
       "<Figure size 432x288 with 1 Axes>"
      ]
     },
     "metadata": {
      "tags": []
     },
     "output_type": "display_data"
    }
   ],
   "source": [
    "plot(\"output1.npy\")\n",
    "plot(\"output2.npy\")\n",
    "plot(\"output3.npy\")\n",
    "plot(\"output4.npy\")"
   ]
  },
  {
   "cell_type": "code",
   "execution_count": 0,
   "metadata": {
    "colab": {
     "base_uri": "https://localhost:8080/",
     "height": 286
    },
    "colab_type": "code",
    "executionInfo": {
     "elapsed": 548773,
     "status": "ok",
     "timestamp": 1570535460141,
     "user": {
      "displayName": "Kritika Gupta",
      "photoUrl": "https://lh3.googleusercontent.com/a-/AAuE7mCgwK3Moc4SnVPKwBeZeYUEdvlrnhYWLjYp7qtZWQ=s64",
      "userId": "12877228453155369040"
     },
     "user_tz": -330
    },
    "id": "PFoihoXS5NSm",
    "outputId": "aaf6b304-afb1-4c81-e6ba-b35431ed95ca"
   },
   "outputs": [
    {
     "name": "stdout",
     "output_type": "stream",
     "text": [
      "dict_keys(['loss', 'acc', 'val_loss', 'val_acc'])\n"
     ]
    },
    {
     "data": {
      "image/png": "[encoded data removed]",
      "text/plain": [
       "<Figure size 432x288 with 1 Axes>"
      ]
     },
     "metadata": {
      "tags": []
     },
     "output_type": "display_data"
    }
   ],
   "source": []
  },
  {
   "cell_type": "markdown",
   "metadata": {},
   "source": [
    "### OBSERVATION \n",
    "- Adding more convolution layers and making the network deeper improves the performance (as seen by lower validation loss)"
   ]
  },
  {
   "cell_type": "markdown",
   "metadata": {},
   "source": [
    "### Model5 : 1 convolution layer with Adam optimizer"
   ]
  },
  {
   "cell_type": "code",
   "execution_count": 0,
   "metadata": {
    "colab": {
     "base_uri": "https://localhost:8080/",
     "height": 278
    },
    "colab_type": "code",
    "executionInfo": {
     "elapsed": 50620,
     "status": "ok",
     "timestamp": 1570615192595,
     "user": {
      "displayName": "2016 01129",
      "photoUrl": "",
      "userId": "05090785799809074727"
     },
     "user_tz": -330
    },
    "id": "my6RJRMLLOzY",
    "outputId": "275ae86f-5e9d-435a-d8a9-803ce68e054d"
   },
   "outputs": [
    {
     "name": "stdout",
     "output_type": "stream",
     "text": [
      "Train on 40000 samples, validate on 10000 samples\n",
      "Epoch 1/25\n",
      "40000/40000 [==============================] - 8s 203us/sample - loss: 1.4334 - acc: 0.4881 - val_loss: 1.2062 - val_acc: 0.5792\n",
      "Epoch 2/25\n",
      "40000/40000 [==============================] - 8s 196us/sample - loss: 1.0740 - acc: 0.6236 - val_loss: 1.0539 - val_acc: 0.6309\n",
      "Epoch 3/25\n",
      "40000/40000 [==============================] - 8s 195us/sample - loss: 0.9023 - acc: 0.6848 - val_loss: 0.9625 - val_acc: 0.6669\n",
      "Epoch 4/25\n",
      "40000/40000 [==============================] - 8s 191us/sample - loss: 0.7756 - acc: 0.7312 - val_loss: 0.9596 - val_acc: 0.6707\n",
      "Epoch 5/25\n",
      "40000/40000 [==============================] - 8s 191us/sample - loss: 0.6638 - acc: 0.7689 - val_loss: 0.9484 - val_acc: 0.6836\n",
      "Epoch 6/25\n",
      "40000/40000 [==============================] - 8s 197us/sample - loss: 0.5563 - acc: 0.8070 - val_loss: 0.9835 - val_acc: 0.6843\n",
      "Epoch 00006: early stopping\n",
      "10000/10000 [==============================] - 1s 145us/sample - loss: 0.9939 - acc: 0.6731\n"
     ]
    }
   ],
   "source": [
    "model = Sequential()\n",
    "model.add(Conv2D(32, (3,3), activation='relu', padding='same', input_shape=x_train.shape[1:]))\n",
    "model.add(Conv2D(32, (3,3), activation='relu', padding='same'))\n",
    "model.add(MaxPooling2D((2, 2)))\n",
    "\n",
    "model.add(Flatten())\n",
    "model.add(Dense(128, activation='relu'))\n",
    "model.add(Dense(num_classes, activation='softmax'))\n",
    "\n",
    "opt = keras.optimizers.Adam()\n",
    "es = EarlyStopping(monitor='val_loss',\n",
    "                           min_delta=0,\n",
    "                           patience=0,\n",
    "                           verbose=1,\n",
    "                           mode='min')\n",
    "\n",
    "model.compile(optimizer=opt, loss='categorical_crossentropy', metrics=['accuracy'])\n",
    "history = model.fit(x_train, y_train, epochs=25, \\\n",
    "                    batch_size=64, validation_split=0.2, verbose=True, callbacks=[es])\n",
    "\n",
    "model.save(\"model5.h5\")\n",
    "np.save(\"output5.npy\", history.history)\n",
    "\n",
    "_, acc = model.evaluate(x_test, y_test, verbose=1)"
   ]
  },
  {
   "cell_type": "code",
   "execution_count": 0,
   "metadata": {
    "colab": {
     "base_uri": "https://localhost:8080/",
     "height": 69
    },
    "colab_type": "code",
    "id": "ZJSxZD-Q_l0n",
    "outputId": "e5286299-06ac-4a33-caf4-ca642aff3ae1"
   },
   "outputs": [
    {
     "name": "stdout",
     "output_type": "stream",
     "text": [
      "Train on 40000 samples, validate on 10000 samples\n",
      "Epoch 1/25\n",
      "37696/40000 [===========================>..] - ETA: 0s - loss: 1.5059 - acc: 0.4531"
     ]
    }
   ],
   "source": [
    "model = Sequential()\n",
    "model.add(Conv2D(32, (3,3), activation='relu', padding='same', input_shape=x_train.shape[1:]))\n",
    "model.add(BatchNormalization())\n",
    "model.add(Conv2D(32, (3,3), activation='relu', padding='same'))\n",
    "model.add(BatchNormalization())\n",
    "model.add(MaxPooling2D((2, 2)))\n",
    "\n",
    "model.add(Conv2D(32, (3,3), activation='relu', padding='same'))\n",
    "model.add(BatchNormalization())\n",
    "model.add(Conv2D(32, (3,3), activation='relu', padding='same'))\n",
    "model.add(BatchNormalization())\n",
    "model.add(MaxPooling2D((2, 2)))\n",
    "\n",
    "model.add(Conv2D(32, (3,3), activation='relu', padding='same'))\n",
    "model.add(BatchNormalization())\n",
    "model.add(Conv2D(32, (3,3), activation='relu', padding='same'))\n",
    "model.add(BatchNormalization())\n",
    "model.add(MaxPooling2D((2, 2)))\n",
    "\n",
    "model.add(Conv2D(32, (3,3), activation='relu', padding='same'))\n",
    "model.add(BatchNormalization())\n",
    "model.add(Conv2D(32, (3,3), activation='relu', padding='same'))\n",
    "model.add(BatchNormalization())\n",
    "model.add(MaxPooling2D((2, 2)))\n",
    "\n",
    "model.add(Flatten())\n",
    "model.add(Dense(128, activation='relu'))\n",
    "model.add(Dense(num_classes, activation='softmax'))\n",
    "\n",
    "opt = keras.optimizers.Adam()\n",
    "es = EarlyStopping(monitor='val_loss',\n",
    "                           min_delta=0,\n",
    "                           patience=0,\n",
    "                           verbose=1,\n",
    "                           mode='min')\n",
    "\n",
    "model.compile(optimizer=opt, loss='categorical_crossentropy', metrics=['accuracy'])\n",
    "history = model.fit(x_train, y_train, epochs=25, \\\n",
    "                    batch_size=64, shuffle=True, validation_split=0.2, verbose=True, callbacks=[es])\n",
    "\n",
    "model.save(\"model6.h5\")\n",
    "np.save(\"output6.npy\", history.history)\n",
    "\n",
    "_, acc = model.evaluate(x_test, y_test, verbose=1)"
   ]
  },
  {
   "cell_type": "code",
   "execution_count": 0,
   "metadata": {
    "colab": {
     "base_uri": "https://localhost:8080/",
     "height": 286
    },
    "colab_type": "code",
    "executionInfo": {
     "elapsed": 1766,
     "status": "ok",
     "timestamp": 1570616729248,
     "user": {
      "displayName": "2016 01129",
      "photoUrl": "",
      "userId": "05090785799809074727"
     },
     "user_tz": -330
    },
    "id": "Vl8VQ9oK12vU",
    "outputId": "1555bc55-7e09-4dd4-a686-01f6fa9a1d22"
   },
   "outputs": [
    {
     "name": "stdout",
     "output_type": "stream",
     "text": [
      "dict_keys(['loss', 'acc', 'val_loss', 'val_acc'])\n"
     ]
    },
    {
     "data": {
      "image/png": "[encoded data removed]",
      "text/plain": [
       "<Figure size 432x288 with 1 Axes>"
      ]
     },
     "metadata": {
      "tags": []
     },
     "output_type": "display_data"
    }
   ],
   "source": [
    "plot('output6.npy')"
   ]
  },
  {
   "cell_type": "code",
   "execution_count": 0,
   "metadata": {
    "colab": {},
    "colab_type": "code",
    "id": "aLKOjgpDASOd"
   },
   "outputs": [],
   "source": []
  }
 ],
 "metadata": {
  "accelerator": "GPU",
  "colab": {
   "collapsed_sections": [],
   "name": "ML4DM_lab5",
   "provenance": []
  },
  "kernelspec": {
   "display_name": "Python 3",
   "language": "python",
   "name": "python3"
  },
  "language_info": {
   "codemirror_mode": {
    "name": "ipython",
    "version": 3
   },
   "file_extension": ".py",
   "mimetype": "text/x-python",
   "name": "python",
   "nbconvert_exporter": "python",
   "pygments_lexer": "ipython3",
   "version": "3.8.2"
  }
 },
 "nbformat": 4,
 "nbformat_minor": 1
}
