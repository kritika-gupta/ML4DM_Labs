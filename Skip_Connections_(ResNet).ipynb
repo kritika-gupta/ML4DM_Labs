{
 "cells": [
  {
   "cell_type": "markdown",
   "metadata": {
    "colab_type": "text",
    "id": "daFxzKvcUgwR"
   },
   "source": [
    "## Implementation of Skip Connections (ResNet Architecture)"
   ]
  },
  {
   "cell_type": "code",
   "execution_count": 0,
   "metadata": {
    "colab": {
     "base_uri": "https://localhost:8080/",
     "height": 63
    },
    "colab_type": "code",
    "executionInfo": {
     "elapsed": 3044,
     "status": "ok",
     "timestamp": 1573626579042,
     "user": {
      "displayName": "Kritika Gupta",
      "photoUrl": "https://lh3.googleusercontent.com/a-/AAuE7mCgwK3Moc4SnVPKwBeZeYUEdvlrnhYWLjYp7qtZWQ=s64",
      "userId": "12877228453155369040"
     },
     "user_tz": -330
    },
    "id": "UTNcEBqp56H2",
    "outputId": "33009f05-1b71-4f3d-9d79-2a85855c84f4"
   },
   "outputs": [
    {
     "data": {
      "text/html": [
       "<p style=\"color: red;\">\n",
       "The default version of TensorFlow in Colab will soon switch to TensorFlow 2.x.<br>\n",
       "We recommend you <a href=\"https://www.tensorflow.org/guide/migrate\" target=\"_blank\">upgrade</a> now \n",
       "or ensure your notebook will continue to use TensorFlow 1.x via the <code>%tensorflow_version 1.x</code> magic:\n",
       "<a href=\"https://colab.research.google.com/notebooks/tensorflow_version.ipynb\" target=\"_blank\">more info</a>.</p>\n"
      ],
      "text/plain": [
       "<IPython.core.display.HTML object>"
      ]
     },
     "metadata": {
      "tags": []
     },
     "output_type": "display_data"
    }
   ],
   "source": [
    "import numpy as np\n",
    "from google.colab import files\n",
    "import matplotlib.pyplot as plt\n",
    "from sklearn.model_selection import train_test_split\n",
    "from tensorflow.keras.models import Sequential\n",
    "from tensorflow.keras.layers import Flatten, Dense\n",
    "from tensorflow.keras import datasets\n",
    "from tensorflow.keras.callbacks import EarlyStopping\n",
    "from tensorflow.keras.layers import Input, Dense, BatchNormalization, Activation\n",
    "from tensorflow.keras.models import Model\n",
    "from tensorflow.keras.layers import Conv2D, AveragePooling2D, MaxPooling2D, add, concatenate\n",
    "from tensorflow.keras.optimizers import Adam, SGD\n",
    "from tensorflow.keras.utils import to_categorical"
   ]
  },
  {
   "cell_type": "markdown",
   "metadata": {},
   "source": [
    "### Load CIFAR10 dataset"
   ]
  },
  {
   "cell_type": "code",
   "execution_count": 0,
   "metadata": {
    "colab": {
     "base_uri": "https://localhost:8080/",
     "height": 35
    },
    "colab_type": "code",
    "executionInfo": {
     "elapsed": 3499,
     "status": "ok",
     "timestamp": 1573626579804,
     "user": {
      "displayName": "Kritika Gupta",
      "photoUrl": "https://lh3.googleusercontent.com/a-/AAuE7mCgwK3Moc4SnVPKwBeZeYUEdvlrnhYWLjYp7qtZWQ=s64",
      "userId": "12877228453155369040"
     },
     "user_tz": -330
    },
    "id": "n_6RUvmIbPJn",
    "outputId": "3ee02763-906c-4321-b221-6db1eb29eb96"
   },
   "outputs": [
    {
     "name": "stdout",
     "output_type": "stream",
     "text": [
      "(50000, 32, 32, 3) (10000, 32, 32, 3)\n"
     ]
    }
   ],
   "source": [
    "data = datasets.cifar10.load_data()\n",
    "((x_train, y_train), (x_test, y_test)) = data\n",
    "print(x_train.shape, x_test.shape)"
   ]
  },
  {
   "cell_type": "code",
   "execution_count": 0,
   "metadata": {
    "colab": {
     "base_uri": "https://localhost:8080/",
     "height": 35
    },
    "colab_type": "code",
    "executionInfo": {
     "elapsed": 3231,
     "status": "ok",
     "timestamp": 1573626579807,
     "user": {
      "displayName": "Kritika Gupta",
      "photoUrl": "https://lh3.googleusercontent.com/a-/AAuE7mCgwK3Moc4SnVPKwBeZeYUEdvlrnhYWLjYp7qtZWQ=s64",
      "userId": "12877228453155369040"
     },
     "user_tz": -330
    },
    "id": "kDrEtPCLbRR7",
    "outputId": "edfb3116-0139-414e-8c2c-92254dacb93b"
   },
   "outputs": [
    {
     "name": "stdout",
     "output_type": "stream",
     "text": [
      "Number of classes =  10\n"
     ]
    }
   ],
   "source": [
    "x_train = x_train.astype('float') / 255\n",
    "x_test = x_test.astype('float') / 255\n",
    "num_classes = len(np.unique(y_train))\n",
    "print(\"Number of classes = \", num_classes)"
   ]
  },
  {
   "cell_type": "code",
   "execution_count": 0,
   "metadata": {
    "colab": {},
    "colab_type": "code",
    "id": "o5jl6lzHblG0"
   },
   "outputs": [],
   "source": [
    "y_train = to_categorical(y_train, num_classes)\n",
    "y_test = to_categorical(y_test, num_classes)"
   ]
  },
  {
   "cell_type": "markdown",
   "metadata": {
    "colab_type": "text",
    "id": "k0S_BigHUpum"
   },
   "source": [
    "### Model Construction"
   ]
  },
  {
   "cell_type": "code",
   "execution_count": 0,
   "metadata": {
    "colab": {
     "base_uri": "https://localhost:8080/",
     "height": 242
    },
    "colab_type": "code",
    "executionInfo": {
     "elapsed": 2310,
     "status": "ok",
     "timestamp": 1573629256941,
     "user": {
      "displayName": "Kritika Gupta",
      "photoUrl": "https://lh3.googleusercontent.com/a-/AAuE7mCgwK3Moc4SnVPKwBeZeYUEdvlrnhYWLjYp7qtZWQ=s64",
      "userId": "12877228453155369040"
     },
     "user_tz": -330
    },
    "id": "fXFf1CVfbwJS",
    "outputId": "37862492-5336-4053-e156-448a4f8cc631"
   },
   "outputs": [
    {
     "name": "stdout",
     "output_type": "stream",
     "text": [
      "(?, 32, 32, 3)\n",
      "Stack 0\n",
      "Block 0\n",
      "Block 1\n",
      "Block 2\n",
      "Stack 1\n",
      "Block 0\n",
      "Block 1\n",
      "Block 2\n",
      "Stack 2\n",
      "Block 0\n",
      "Block 1\n",
      "Block 2\n"
     ]
    }
   ],
   "source": [
    "input_img = Input(shape=x_train.shape[1:])\n",
    "print(input_img.shape)\n",
    "\n",
    "# layer 1\n",
    "layer = Conv2D(16, (3, 3), padding='same', name = \"from_input_conv\")(input_img)\n",
    "x = BatchNormalization(name = \"from_input_batch\")(layer)\n",
    "# x = Activation('relu')(layer)\n",
    "numfilters = 16\n",
    "\n",
    "for stack in range(3):\n",
    "  print(\"Stack\", stack)\n",
    "  for block in range(3):\n",
    "    print(\"Block\", block)\n",
    "    strides = 1\n",
    "    if stack>0 and block==0:\n",
    "      strides = 2\n",
    "  \n",
    "    name = \"resnet\"+str(stack)+\"_\"+str(block)+\"_\"\n",
    "    # layer 2\n",
    "    layer = Conv2D(numfilters, (3,3), strides = strides, padding='same', name = name+\"1conv\")(x)\n",
    "    layer = BatchNormalization(name = name+\"1_batch\")(layer)\n",
    "    y = Activation('relu', name =name + \"1_acti\")(layer)\n",
    "\n",
    "    # layer 3\n",
    "    layer = Conv2D(numfilters, (3,3), padding='same', name =name+\"2_conv\")(y)\n",
    "    y = BatchNormalization(name = name+\"2_batch\")(layer)\n",
    "    # y = Activation('relu')(layer)\n",
    "    if stack > 0 and block == 0:\n",
    "      x = Conv2D(numfilters, (1,1), padding='same', strides = strides, name =name+\"skip\")(x)\n",
    "\n",
    "    x = add([y, x])\n",
    "    x = Activation('relu')(x)\n",
    "  numfilters *= 2\n"
   ]
  },
  {
   "cell_type": "code",
   "execution_count": 0,
   "metadata": {
    "colab": {},
    "colab_type": "code",
    "id": "iDOL02jFmKZf"
   },
   "outputs": [],
   "source": [
    "x = AveragePooling2D(pool_size=8,padding=\"same\")(x)\n",
    "\n",
    "y = Flatten()(x)\n",
    "# x = Dense(2018)(x)\n",
    "# x = Activation('relu')(x)\n",
    "# x = Dense(512)(x)\n",
    "# x = Activation('relu')(x)\n",
    "y = Dense(10)(y)\n",
    "op = Activation('softmax')(y)"
   ]
  },
  {
   "cell_type": "code",
   "execution_count": 0,
   "metadata": {
    "colab": {},
    "colab_type": "code",
    "id": "zP9jU0tZm3uE"
   },
   "outputs": [],
   "source": [
    "model = Model(inputs=input_img, outputs=op)"
   ]
  },
  {
   "cell_type": "code",
   "execution_count": 0,
   "metadata": {
    "colab": {
     "base_uri": "https://localhost:8080/",
     "height": 1000
    },
    "colab_type": "code",
    "executionInfo": {
     "elapsed": 1240,
     "status": "ok",
     "timestamp": 1573629261458,
     "user": {
      "displayName": "Kritika Gupta",
      "photoUrl": "https://lh3.googleusercontent.com/a-/AAuE7mCgwK3Moc4SnVPKwBeZeYUEdvlrnhYWLjYp7qtZWQ=s64",
      "userId": "12877228453155369040"
     },
     "user_tz": -330
    },
    "id": "yqoYZb43jL_4",
    "outputId": "51d3289f-02df-4548-d28f-ea4799680697"
   },
   "outputs": [
    {
     "name": "stdout",
     "output_type": "stream",
     "text": [
      "Model: \"model_5\"\n",
      "__________________________________________________________________________________________________\n",
      "Layer (type)                    Output Shape         Param #     Connected to                     \n",
      "==================================================================================================\n",
      "input_9 (InputLayer)            [(None, 32, 32, 3)]  0                                            \n",
      "__________________________________________________________________________________________________\n",
      "from_input_conv (Conv2D)        (None, 32, 32, 16)   448         input_9[0][0]                    \n",
      "__________________________________________________________________________________________________\n",
      "from_input_batch (BatchNormaliz (None, 32, 32, 16)   64          from_input_conv[0][0]            \n",
      "__________________________________________________________________________________________________\n",
      "resnet0_0_1conv (Conv2D)        (None, 32, 32, 16)   2320        from_input_batch[0][0]           \n",
      "__________________________________________________________________________________________________\n",
      "resnet0_0_1_batch (BatchNormali (None, 32, 32, 16)   64          resnet0_0_1conv[0][0]            \n",
      "__________________________________________________________________________________________________\n",
      "resnet0_0_1_acti (Activation)   (None, 32, 32, 16)   0           resnet0_0_1_batch[0][0]          \n",
      "__________________________________________________________________________________________________\n",
      "resnet0_0_2_conv (Conv2D)       (None, 32, 32, 16)   2320        resnet0_0_1_acti[0][0]           \n",
      "__________________________________________________________________________________________________\n",
      "resnet0_0_2_batch (BatchNormali (None, 32, 32, 16)   64          resnet0_0_2_conv[0][0]           \n",
      "__________________________________________________________________________________________________\n",
      "add_49 (Add)                    (None, 32, 32, 16)   0           resnet0_0_2_batch[0][0]          \n",
      "                                                                 from_input_batch[0][0]           \n",
      "__________________________________________________________________________________________________\n",
      "activation_50 (Activation)      (None, 32, 32, 16)   0           add_49[0][0]                     \n",
      "__________________________________________________________________________________________________\n",
      "resnet0_1_1conv (Conv2D)        (None, 32, 32, 16)   2320        activation_50[0][0]              \n",
      "__________________________________________________________________________________________________\n",
      "resnet0_1_1_batch (BatchNormali (None, 32, 32, 16)   64          resnet0_1_1conv[0][0]            \n",
      "__________________________________________________________________________________________________\n",
      "resnet0_1_1_acti (Activation)   (None, 32, 32, 16)   0           resnet0_1_1_batch[0][0]          \n",
      "__________________________________________________________________________________________________\n",
      "resnet0_1_2_conv (Conv2D)       (None, 32, 32, 16)   2320        resnet0_1_1_acti[0][0]           \n",
      "__________________________________________________________________________________________________\n",
      "resnet0_1_2_batch (BatchNormali (None, 32, 32, 16)   64          resnet0_1_2_conv[0][0]           \n",
      "__________________________________________________________________________________________________\n",
      "add_50 (Add)                    (None, 32, 32, 16)   0           resnet0_1_2_batch[0][0]          \n",
      "                                                                 activation_50[0][0]              \n",
      "__________________________________________________________________________________________________\n",
      "activation_51 (Activation)      (None, 32, 32, 16)   0           add_50[0][0]                     \n",
      "__________________________________________________________________________________________________\n",
      "resnet0_2_1conv (Conv2D)        (None, 32, 32, 16)   2320        activation_51[0][0]              \n",
      "__________________________________________________________________________________________________\n",
      "resnet0_2_1_batch (BatchNormali (None, 32, 32, 16)   64          resnet0_2_1conv[0][0]            \n",
      "__________________________________________________________________________________________________\n",
      "resnet0_2_1_acti (Activation)   (None, 32, 32, 16)   0           resnet0_2_1_batch[0][0]          \n",
      "__________________________________________________________________________________________________\n",
      "resnet0_2_2_conv (Conv2D)       (None, 32, 32, 16)   2320        resnet0_2_1_acti[0][0]           \n",
      "__________________________________________________________________________________________________\n",
      "resnet0_2_2_batch (BatchNormali (None, 32, 32, 16)   64          resnet0_2_2_conv[0][0]           \n",
      "__________________________________________________________________________________________________\n",
      "add_51 (Add)                    (None, 32, 32, 16)   0           resnet0_2_2_batch[0][0]          \n",
      "                                                                 activation_51[0][0]              \n",
      "__________________________________________________________________________________________________\n",
      "activation_52 (Activation)      (None, 32, 32, 16)   0           add_51[0][0]                     \n",
      "__________________________________________________________________________________________________\n",
      "resnet1_0_1conv (Conv2D)        (None, 16, 16, 32)   4640        activation_52[0][0]              \n",
      "__________________________________________________________________________________________________\n",
      "resnet1_0_1_batch (BatchNormali (None, 16, 16, 32)   128         resnet1_0_1conv[0][0]            \n",
      "__________________________________________________________________________________________________\n",
      "resnet1_0_1_acti (Activation)   (None, 16, 16, 32)   0           resnet1_0_1_batch[0][0]          \n",
      "__________________________________________________________________________________________________\n",
      "resnet1_0_2_conv (Conv2D)       (None, 16, 16, 32)   9248        resnet1_0_1_acti[0][0]           \n",
      "__________________________________________________________________________________________________\n",
      "resnet1_0_2_batch (BatchNormali (None, 16, 16, 32)   128         resnet1_0_2_conv[0][0]           \n",
      "__________________________________________________________________________________________________\n",
      "resnet1_0_skip (Conv2D)         (None, 16, 16, 32)   544         activation_52[0][0]              \n",
      "__________________________________________________________________________________________________\n",
      "add_52 (Add)                    (None, 16, 16, 32)   0           resnet1_0_2_batch[0][0]          \n",
      "                                                                 resnet1_0_skip[0][0]             \n",
      "__________________________________________________________________________________________________\n",
      "activation_53 (Activation)      (None, 16, 16, 32)   0           add_52[0][0]                     \n",
      "__________________________________________________________________________________________________\n",
      "resnet1_1_1conv (Conv2D)        (None, 16, 16, 32)   9248        activation_53[0][0]              \n",
      "__________________________________________________________________________________________________\n",
      "resnet1_1_1_batch (BatchNormali (None, 16, 16, 32)   128         resnet1_1_1conv[0][0]            \n",
      "__________________________________________________________________________________________________\n",
      "resnet1_1_1_acti (Activation)   (None, 16, 16, 32)   0           resnet1_1_1_batch[0][0]          \n",
      "__________________________________________________________________________________________________\n",
      "resnet1_1_2_conv (Conv2D)       (None, 16, 16, 32)   9248        resnet1_1_1_acti[0][0]           \n",
      "__________________________________________________________________________________________________\n",
      "resnet1_1_2_batch (BatchNormali (None, 16, 16, 32)   128         resnet1_1_2_conv[0][0]           \n",
      "__________________________________________________________________________________________________\n",
      "add_53 (Add)                    (None, 16, 16, 32)   0           resnet1_1_2_batch[0][0]          \n",
      "                                                                 activation_53[0][0]              \n",
      "__________________________________________________________________________________________________\n",
      "activation_54 (Activation)      (None, 16, 16, 32)   0           add_53[0][0]                     \n",
      "__________________________________________________________________________________________________\n",
      "resnet1_2_1conv (Conv2D)        (None, 16, 16, 32)   9248        activation_54[0][0]              \n",
      "__________________________________________________________________________________________________\n",
      "resnet1_2_1_batch (BatchNormali (None, 16, 16, 32)   128         resnet1_2_1conv[0][0]            \n",
      "__________________________________________________________________________________________________\n",
      "resnet1_2_1_acti (Activation)   (None, 16, 16, 32)   0           resnet1_2_1_batch[0][0]          \n",
      "__________________________________________________________________________________________________\n",
      "resnet1_2_2_conv (Conv2D)       (None, 16, 16, 32)   9248        resnet1_2_1_acti[0][0]           \n",
      "__________________________________________________________________________________________________\n",
      "resnet1_2_2_batch (BatchNormali (None, 16, 16, 32)   128         resnet1_2_2_conv[0][0]           \n",
      "__________________________________________________________________________________________________\n",
      "add_54 (Add)                    (None, 16, 16, 32)   0           resnet1_2_2_batch[0][0]          \n",
      "                                                                 activation_54[0][0]              \n",
      "__________________________________________________________________________________________________\n",
      "activation_55 (Activation)      (None, 16, 16, 32)   0           add_54[0][0]                     \n",
      "__________________________________________________________________________________________________\n",
      "resnet2_0_1conv (Conv2D)        (None, 8, 8, 64)     18496       activation_55[0][0]              \n",
      "__________________________________________________________________________________________________\n",
      "resnet2_0_1_batch (BatchNormali (None, 8, 8, 64)     256         resnet2_0_1conv[0][0]            \n",
      "__________________________________________________________________________________________________\n",
      "resnet2_0_1_acti (Activation)   (None, 8, 8, 64)     0           resnet2_0_1_batch[0][0]          \n",
      "__________________________________________________________________________________________________\n",
      "resnet2_0_2_conv (Conv2D)       (None, 8, 8, 64)     36928       resnet2_0_1_acti[0][0]           \n",
      "__________________________________________________________________________________________________\n",
      "resnet2_0_2_batch (BatchNormali (None, 8, 8, 64)     256         resnet2_0_2_conv[0][0]           \n",
      "__________________________________________________________________________________________________\n",
      "resnet2_0_skip (Conv2D)         (None, 8, 8, 64)     2112        activation_55[0][0]              \n",
      "__________________________________________________________________________________________________\n",
      "add_55 (Add)                    (None, 8, 8, 64)     0           resnet2_0_2_batch[0][0]          \n",
      "                                                                 resnet2_0_skip[0][0]             \n",
      "__________________________________________________________________________________________________\n",
      "activation_56 (Activation)      (None, 8, 8, 64)     0           add_55[0][0]                     \n",
      "__________________________________________________________________________________________________\n",
      "resnet2_1_1conv (Conv2D)        (None, 8, 8, 64)     36928       activation_56[0][0]              \n",
      "__________________________________________________________________________________________________\n",
      "resnet2_1_1_batch (BatchNormali (None, 8, 8, 64)     256         resnet2_1_1conv[0][0]            \n",
      "__________________________________________________________________________________________________\n",
      "resnet2_1_1_acti (Activation)   (None, 8, 8, 64)     0           resnet2_1_1_batch[0][0]          \n",
      "__________________________________________________________________________________________________\n",
      "resnet2_1_2_conv (Conv2D)       (None, 8, 8, 64)     36928       resnet2_1_1_acti[0][0]           \n",
      "__________________________________________________________________________________________________\n",
      "resnet2_1_2_batch (BatchNormali (None, 8, 8, 64)     256         resnet2_1_2_conv[0][0]           \n",
      "__________________________________________________________________________________________________\n",
      "add_56 (Add)                    (None, 8, 8, 64)     0           resnet2_1_2_batch[0][0]          \n",
      "                                                                 activation_56[0][0]              \n",
      "__________________________________________________________________________________________________\n",
      "activation_57 (Activation)      (None, 8, 8, 64)     0           add_56[0][0]                     \n",
      "__________________________________________________________________________________________________\n",
      "resnet2_2_1conv (Conv2D)        (None, 8, 8, 64)     36928       activation_57[0][0]              \n",
      "__________________________________________________________________________________________________\n",
      "resnet2_2_1_batch (BatchNormali (None, 8, 8, 64)     256         resnet2_2_1conv[0][0]            \n",
      "__________________________________________________________________________________________________\n",
      "resnet2_2_1_acti (Activation)   (None, 8, 8, 64)     0           resnet2_2_1_batch[0][0]          \n",
      "__________________________________________________________________________________________________\n",
      "resnet2_2_2_conv (Conv2D)       (None, 8, 8, 64)     36928       resnet2_2_1_acti[0][0]           \n",
      "__________________________________________________________________________________________________\n",
      "resnet2_2_2_batch (BatchNormali (None, 8, 8, 64)     256         resnet2_2_2_conv[0][0]           \n",
      "__________________________________________________________________________________________________\n",
      "add_57 (Add)                    (None, 8, 8, 64)     0           resnet2_2_2_batch[0][0]          \n",
      "                                                                 activation_57[0][0]              \n",
      "__________________________________________________________________________________________________\n",
      "activation_58 (Activation)      (None, 8, 8, 64)     0           add_57[0][0]                     \n",
      "__________________________________________________________________________________________________\n",
      "average_pooling2d_5 (AveragePoo (None, 1, 1, 64)     0           activation_58[0][0]              \n",
      "__________________________________________________________________________________________________\n",
      "flatten_5 (Flatten)             (None, 64)           0           average_pooling2d_5[0][0]        \n",
      "__________________________________________________________________________________________________\n",
      "dense_5 (Dense)                 (None, 10)           650         flatten_5[0][0]                  \n",
      "__________________________________________________________________________________________________\n",
      "activation_59 (Activation)      (None, 10)           0           dense_5[0][0]                    \n",
      "==================================================================================================\n",
      "Total params: 274,442\n",
      "Trainable params: 273,066\n",
      "Non-trainable params: 1,376\n",
      "__________________________________________________________________________________________________\n"
     ]
    }
   ],
   "source": [
    "model.summary()"
   ]
  },
  {
   "cell_type": "code",
   "execution_count": 0,
   "metadata": {
    "colab": {
     "base_uri": "https://localhost:8080/",
     "height": 727
    },
    "colab_type": "code",
    "executionInfo": {
     "elapsed": 383967,
     "status": "ok",
     "timestamp": 1573629680890,
     "user": {
      "displayName": "Kritika Gupta",
      "photoUrl": "https://lh3.googleusercontent.com/a-/AAuE7mCgwK3Moc4SnVPKwBeZeYUEdvlrnhYWLjYp7qtZWQ=s64",
      "userId": "12877228453155369040"
     },
     "user_tz": -330
    },
    "id": "PxUATLnRkOvu",
    "outputId": "f321b881-594f-4bea-de7f-8802148c66d6"
   },
   "outputs": [
    {
     "name": "stdout",
     "output_type": "stream",
     "text": [
      "Train on 45000 samples, validate on 5000 samples\n",
      "Epoch 1/20\n",
      "45000/45000 [==============================] - 21s 462us/sample - loss: 1.5883 - acc: 0.4141 - val_loss: 1.4921 - val_acc: 0.4802\n",
      "Epoch 2/20\n",
      "45000/45000 [==============================] - 19s 418us/sample - loss: 1.2283 - acc: 0.5572 - val_loss: 1.4210 - val_acc: 0.5080\n",
      "Epoch 3/20\n",
      "45000/45000 [==============================] - 19s 429us/sample - loss: 1.0469 - acc: 0.6230 - val_loss: 1.4287 - val_acc: 0.5202\n",
      "Epoch 4/20\n",
      "45000/45000 [==============================] - 19s 418us/sample - loss: 0.9281 - acc: 0.6681 - val_loss: 1.0445 - val_acc: 0.6280\n",
      "Epoch 5/20\n",
      "45000/45000 [==============================] - 19s 420us/sample - loss: 0.8400 - acc: 0.7025 - val_loss: 1.0400 - val_acc: 0.6334\n",
      "Epoch 6/20\n",
      "45000/45000 [==============================] - 19s 417us/sample - loss: 0.7705 - acc: 0.7279 - val_loss: 0.9026 - val_acc: 0.6810\n",
      "Epoch 7/20\n",
      "45000/45000 [==============================] - 19s 418us/sample - loss: 0.7050 - acc: 0.7530 - val_loss: 0.8744 - val_acc: 0.6976\n",
      "Epoch 8/20\n",
      "45000/45000 [==============================] - 19s 418us/sample - loss: 0.6483 - acc: 0.7714 - val_loss: 0.8665 - val_acc: 0.7042\n",
      "Epoch 9/20\n",
      "45000/45000 [==============================] - 19s 419us/sample - loss: 0.5968 - acc: 0.7903 - val_loss: 1.2347 - val_acc: 0.6196\n",
      "Epoch 10/20\n",
      "45000/45000 [==============================] - 19s 420us/sample - loss: 0.5513 - acc: 0.8045 - val_loss: 1.2648 - val_acc: 0.6094\n",
      "Epoch 11/20\n",
      "45000/45000 [==============================] - 19s 417us/sample - loss: 0.5137 - acc: 0.8186 - val_loss: 0.8217 - val_acc: 0.7272\n",
      "Epoch 12/20\n",
      "45000/45000 [==============================] - 19s 417us/sample - loss: 0.4707 - acc: 0.8349 - val_loss: 0.9489 - val_acc: 0.6870\n",
      "Epoch 13/20\n",
      "45000/45000 [==============================] - 19s 416us/sample - loss: 0.4372 - acc: 0.8467 - val_loss: 1.2217 - val_acc: 0.6622\n",
      "Epoch 14/20\n",
      "45000/45000 [==============================] - 19s 422us/sample - loss: 0.4026 - acc: 0.8598 - val_loss: 1.1459 - val_acc: 0.6660\n",
      "Epoch 15/20\n",
      "45000/45000 [==============================] - 19s 418us/sample - loss: 0.3717 - acc: 0.8710 - val_loss: 1.3781 - val_acc: 0.6206\n",
      "Epoch 16/20\n",
      "45000/45000 [==============================] - 19s 419us/sample - loss: 0.3432 - acc: 0.8804 - val_loss: 1.0799 - val_acc: 0.6958\n",
      "Epoch 17/20\n",
      "45000/45000 [==============================] - 19s 420us/sample - loss: 0.3089 - acc: 0.8905 - val_loss: 1.2307 - val_acc: 0.6864\n",
      "Epoch 18/20\n",
      "45000/45000 [==============================] - 19s 420us/sample - loss: 0.2844 - acc: 0.9002 - val_loss: 1.7020 - val_acc: 0.6188\n",
      "Epoch 19/20\n",
      "45000/45000 [==============================] - 19s 423us/sample - loss: 0.2588 - acc: 0.9104 - val_loss: 1.6719 - val_acc: 0.5998\n",
      "Epoch 20/20\n",
      "45000/45000 [==============================] - 19s 419us/sample - loss: 0.2346 - acc: 0.9197 - val_loss: 1.4952 - val_acc: 0.6558\n"
     ]
    }
   ],
   "source": [
    "model.compile(loss='categorical_crossentropy',\n",
    "              optimizer='sgd',\n",
    "              metrics=['accuracy'])\n",
    "esCallback = EarlyStopping(monitor='val_loss',\n",
    "                             min_delta=0,\n",
    "                             patience=0,\n",
    "                             verbose=0,\n",
    "                             mode='min')\n",
    "history = model.fit(x_train,y_train,\n",
    "              epochs=20,\n",
    "              validation_split=0.1,\n",
    "              shuffle=True,verbose=1)"
   ]
  },
  {
   "cell_type": "code",
   "execution_count": 0,
   "metadata": {
    "colab": {
     "base_uri": "https://localhost:8080/",
     "height": 69
    },
    "colab_type": "code",
    "executionInfo": {
     "elapsed": 384672,
     "status": "ok",
     "timestamp": 1573629681993,
     "user": {
      "displayName": "Kritika Gupta",
      "photoUrl": "https://lh3.googleusercontent.com/a-/AAuE7mCgwK3Moc4SnVPKwBeZeYUEdvlrnhYWLjYp7qtZWQ=s64",
      "userId": "12877228453155369040"
     },
     "user_tz": -330
    },
    "id": "i_tGd7YlBkko",
    "outputId": "79d65338-7ef0-4b34-8258-b6cc517694e0"
   },
   "outputs": [
    {
     "name": "stdout",
     "output_type": "stream",
     "text": [
      "10000/10000 [==============================] - 2s 159us/sample - loss: 1.5643 - acc: 0.6457\n",
      "Test loss: 1.5642582077026368\n",
      "Test accuracy: 0.6457\n"
     ]
    }
   ],
   "source": [
    "scores = model.evaluate(x_test, y_test, verbose=1)\n",
    "print('Test loss:', scores[0])\n",
    "print('Test accuracy:', scores[1])"
   ]
  },
  {
   "cell_type": "code",
   "execution_count": 0,
   "metadata": {
    "colab": {},
    "colab_type": "code",
    "id": "77OtVkc5U12X"
   },
   "outputs": [],
   "source": []
  }
 ],
 "metadata": {
  "accelerator": "GPU",
  "colab": {
   "collapsed_sections": [],
   "name": "ML4DM_Lab6.ipynb",
   "provenance": []
  },
  "kernelspec": {
   "display_name": "Python 3",
   "language": "python",
   "name": "python3"
  },
  "language_info": {
   "codemirror_mode": {
    "name": "ipython",
    "version": 3
   },
   "file_extension": ".py",
   "mimetype": "text/x-python",
   "name": "python",
   "nbconvert_exporter": "python",
   "pygments_lexer": "ipython3",
   "version": "3.8.2"
  }
 },
 "nbformat": 4,
 "nbformat_minor": 1
}
