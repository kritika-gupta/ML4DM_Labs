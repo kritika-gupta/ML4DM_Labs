{
 "cells": [
  {
   "cell_type": "markdown",
   "metadata": {
    "colab_type": "text",
    "id": "8-xD0KNGKGAz"
   },
   "source": [
    "## Multiclass Classification of EEG Brain Data using ANN and k-fold cross validation\n",
    "\n"
   ]
  },
  {
   "cell_type": "code",
   "execution_count": 0,
   "metadata": {
    "colab": {
     "base_uri": "https://localhost:8080/",
     "height": 170
    },
    "colab_type": "code",
    "executionInfo": {
     "elapsed": 20649,
     "status": "ok",
     "timestamp": 1573408488617,
     "user": {
      "displayName": "Kritika Gupta",
      "photoUrl": "https://lh3.googleusercontent.com/a-/AAuE7mCgwK3Moc4SnVPKwBeZeYUEdvlrnhYWLjYp7qtZWQ=s64",
      "userId": "12877228453155369040"
     },
     "user_tz": -330
    },
    "id": "WUw2R8wGMFTs",
    "outputId": "61e00097-d9b3-4caa-d167-f79dc92b8df3"
   },
   "outputs": [
    {
     "data": {
      "text/html": [
       "<p style=\"color: red;\">\n",
       "The default version of TensorFlow in Colab will soon switch to TensorFlow 2.x.<br>\n",
       "We recommend you <a href=\"https://www.tensorflow.org/guide/migrate\" target=\"_blank\">upgrade</a> now \n",
       "or ensure your notebook will continue to use TensorFlow 1.x via the <code>%tensorflow_version 1.x</code> magic:\n",
       "<a href=\"https://colab.research.google.com/notebooks/tensorflow_version.ipynb\" target=\"_blank\">more info</a>.</p>\n"
      ],
      "text/plain": [
       "<IPython.core.display.HTML object>"
      ]
     },
     "metadata": {
      "tags": []
     },
     "output_type": "display_data"
    },
    {
     "name": "stdout",
     "output_type": "stream",
     "text": [
      "Go to this URL in a browser: https://accounts.google.com/o/oauth2/auth?client_id=947318989803-6bn6qk8qdgf4n4g3pfee6491hc0brc4i.apps.googleusercontent.com&redirect_uri=urn%3Aietf%3Awg%3Aoauth%3A2.0%3Aoob&scope=email%20https%3A%2F%2Fwww.googleapis.com%2Fauth%2Fdocs.test%20https%3A%2F%2Fwww.googleapis.com%2Fauth%2Fdrive%20https%3A%2F%2Fwww.googleapis.com%2Fauth%2Fdrive.photos.readonly%20https%3A%2F%2Fwww.googleapis.com%2Fauth%2Fpeopleapi.readonly&response_type=code\n",
      "\n",
      "Enter your authorization code:\n",
      "··········\n",
      "Mounted at /content/drive\n"
     ]
    }
   ],
   "source": [
    "import scipy.io\n",
    "import numpy as np\n",
    "from sklearn.decomposition import PCA\n",
    "from sklearn.preprocessing import StandardScaler\n",
    "from sklearn.model_selection import train_test_split\n",
    "from tensorflow.keras.models import Sequential\n",
    "from tensorflow.keras.layers import Dense, Flatten\n",
    "from sklearn.model_selection import StratifiedKFold\n",
    "from tensorflow.keras.utils import to_categorical\n",
    "from tensorflow.keras import optimizers\n",
    "from tensorflow.keras.regularizers import l2\n",
    "from tensorflow.keras.callbacks import EarlyStopping \n",
    "from tensorflow.keras import datasets\n",
    "import matplotlib.pyplot as plt\n",
    "from google.colab import drive\n",
    "from google.colab import files\n",
    "\n",
    "drive.mount('/content/drive')"
   ]
  },
  {
   "cell_type": "code",
   "execution_count": 0,
   "metadata": {
    "colab": {},
    "colab_type": "code",
    "id": "BXk5CYbhPyMc"
   },
   "outputs": [],
   "source": [
    "def load_subject(sub):\n",
    "  mat = scipy.io.loadmat('/content/drive/My Drive/ML4DM_data/'+sub+'.mat')\n",
    "  T = int(mat['T'])\n",
    "  N = int(mat['N'])\n",
    "  categoryLabels = mat['categoryLabels'][0]\n",
    "  X_3D = mat['X_3D'].T\n",
    "  print(\"X_3D :\", X_3D.shape)\n",
    "  print(\"Category labels :\", categoryLabels.shape)\n",
    "  print(\"N = \", N)\n",
    "  print(\"T = \", T)\n",
    "  categoryLabels = categoryLabels - 1\n",
    "  print(len(np.unique(categoryLabels)))\n",
    "\n",
    "  return X_3D, categoryLabels, N, T"
   ]
  },
  {
   "cell_type": "code",
   "execution_count": 0,
   "metadata": {
    "colab": {},
    "colab_type": "code",
    "id": "6LSPsHiJNHom"
   },
   "outputs": [],
   "source": [
    "def kfold_multiclass(X_3D, categoryLabels, N, T, sub): \n",
    "  accuracies = dict.fromkeys(range(0, N))\n",
    "  histories = dict.fromkeys(range(0, N))\n",
    "\n",
    "  for time in range(N):\n",
    "    data = X_3D[:, time, :]\n",
    "    data = StandardScaler().fit_transform(data)\n",
    "    pca = PCA(n_components=0.95)\n",
    "    pca.fit(data)\n",
    "    print(\"T = \", time, \"Components = \", pca.n_components_)\n",
    "    data_pca = pca.transform(data)\n",
    "    y = (categoryLabels)\n",
    "    X = data_pca\n",
    "    classes = len(np.unique(categoryLabels))\n",
    "    print(X.shape, y.shape)\n",
    "\n",
    "    kfold = StratifiedKFold(n_splits=10, shuffle=True, random_state=0)\n",
    "    cvscores = []\n",
    "    for train, test in kfold.split(X, y):\n",
    "      X_train, y_train = X[train], y[train]\n",
    "      X_test, y_test = X[test], y[test]\n",
    "\n",
    "      y_train = to_categorical(y_train)\n",
    "      y_test = to_categorical(y_test)\n",
    "\n",
    "      model = Sequential()\n",
    "      model.add(Dense(int(pca.n_components_), activation='relu', input_shape=(X_train.shape[1], )))\n",
    "      model.add(Dense(classes, activation='softmax'))\n",
    "\n",
    "      opt = optimizers.Adam()\n",
    "      esCallback = EarlyStopping(monitor='val_loss',\n",
    "                             min_delta=0,\n",
    "                             patience=0,\n",
    "                             verbose=0,\n",
    "                             mode='min')\n",
    "\n",
    "      model.compile(loss='categorical_crossentropy', optimizer=opt, metrics=['accuracy'])\n",
    "\n",
    "      fit_history = model.fit(X_train, y_train, batch_size=64, epochs=100, validation_split=0.2, verbose = False, callbacks = [esCallback])\n",
    "      scores = (model.evaluate(X_test, y_test, verbose = False))\n",
    "      cvscores.append(scores[1] * 100)\n",
    "\n",
    "    print(\"%.2f%% (+/- %.2f%%)\" % (np.mean(cvscores), np.std(cvscores)))\n",
    "\n",
    "    accuracies[time] = np.mean(cvscores)\n",
    "    # np.save(sub+\"_\"+str(time)+\"_multiclass_accuracy.npy\", accuracies[time])\n",
    "    # files.download(sub+\"_\"+str(time)+\"_multiclass_accuracy.npy\")\n",
    "  np.save(sub+\"_multiclass_accuracies.npy\", accuracies)\n",
    "  \n",
    "  return accuracies\n"
   ]
  },
  {
   "cell_type": "code",
   "execution_count": 0,
   "metadata": {
    "colab": {},
    "colab_type": "code",
    "id": "Ov5zkLb6PZkP"
   },
   "outputs": [],
   "source": [
    "def run(subject):  \n",
    "  X_3D, categoryLabels, N, T = load_subject(subject)\n",
    "  a = kfold_multiclass(X_3D, categoryLabels, N, T, subject)"
   ]
  },
  {
   "cell_type": "code",
   "execution_count": 0,
   "metadata": {
    "colab": {
     "base_uri": "https://localhost:8080/",
     "height": 1000
    },
    "colab_type": "code",
    "executionInfo": {
     "elapsed": 95279,
     "status": "error",
     "timestamp": 1572934675840,
     "user": {
      "displayName": "Kritika Gupta",
      "photoUrl": "https://lh3.googleusercontent.com/a-/AAuE7mCgwK3Moc4SnVPKwBeZeYUEdvlrnhYWLjYp7qtZWQ=s64",
      "userId": "12877228453155369040"
     },
     "user_tz": -330
    },
    "id": "5AUJxzp9R6O0",
    "outputId": "3d08c15f-7fcb-4c4d-c169-d131e9077d62"
   },
   "outputs": [
    {
     "name": "stdout",
     "output_type": "stream",
     "text": [
      "X_3D : (5188, 32, 124)\n",
      "Category labels : (5188,)\n",
      "N =  32\n",
      "T =  5188\n",
      "6\n",
      "T =  0 Components =  52\n",
      "(5188, 52) (5188,)\n",
      "16.79% (+/- 1.54%)\n",
      "T =  1 Components =  52\n",
      "(5188, 52) (5188,)\n",
      "16.35% (+/- 1.43%)\n",
      "T =  2 Components =  52\n",
      "(5188, 52) (5188,)\n",
      "16.59% (+/- 1.47%)\n",
      "T =  3 Components =  51\n",
      "(5188, 51) (5188,)\n",
      "16.52% (+/- 1.26%)\n",
      "T =  4 Components =  51\n",
      "(5188, 51) (5188,)\n",
      "17.11% (+/- 1.22%)\n",
      "T =  5 Components =  51\n",
      "(5188, 51) (5188,)\n",
      "17.90% (+/- 1.93%)\n",
      "T =  6 Components =  51\n",
      "(5188, 51) (5188,)\n",
      "17.91% (+/- 1.34%)\n",
      "T =  7 Components =  51\n",
      "(5188, 51) (5188,)\n",
      "17.98% (+/- 1.46%)\n",
      "T =  8 Components =  52\n",
      "(5188, 52) (5188,)\n",
      "18.44% (+/- 1.74%)\n",
      "T =  9 Components =  51\n",
      "(5188, 51) (5188,)\n",
      "23.30% (+/- 1.55%)\n",
      "T =  10 Components =  50\n",
      "(5188, 50) (5188,)\n",
      "23.23% (+/- 1.33%)\n",
      "T =  11 Components =  53\n",
      "(5188, 53) (5188,)\n",
      "24.13% (+/- 1.43%)\n",
      "T =  12 Components =  52\n",
      "(5188, 52) (5188,)\n",
      "25.27% (+/- 1.74%)\n",
      "T =  13 Components =  53\n",
      "(5188, 53) (5188,)\n",
      "24.00% (+/- 1.82%)\n",
      "T =  14 Components =  55\n",
      "(5188, 55) (5188,)\n",
      "23.44% (+/- 1.52%)\n",
      "T =  15 Components =  55\n",
      "(5188, 55) (5188,)\n",
      "22.69% (+/- 1.25%)\n",
      "T =  16 Components =  56\n",
      "(5188, 56) (5188,)\n",
      "23.65% (+/- 2.05%)\n",
      "T =  17 Components =  54\n",
      "(5188, 54) (5188,)\n",
      "23.11% (+/- 1.63%)\n",
      "T =  18 Components =  55\n",
      "(5188, 55) (5188,)\n",
      "22.51% (+/- 1.84%)\n",
      "T =  19 Components =  55\n",
      "(5188, 55) (5188,)\n",
      "24.09% (+/- 1.78%)\n",
      "T =  20 Components =  55\n",
      "(5188, 55) (5188,)\n",
      "21.80% (+/- 1.03%)\n",
      "T =  21 Components =  55\n",
      "(5188, 55) (5188,)\n",
      "20.82% (+/- 1.03%)\n",
      "T =  22 Components =  55\n",
      "(5188, 55) (5188,)\n",
      "21.01% (+/- 1.27%)\n",
      "T =  23 Components =  55\n",
      "(5188, 55) (5188,)\n",
      "19.93% (+/- 2.43%)\n",
      "T =  24 Components =  55\n",
      "(5188, 55) (5188,)\n",
      "20.06% (+/- 1.65%)\n",
      "T =  25 Components =  56\n",
      "(5188, 56) (5188,)\n",
      "20.43% (+/- 1.41%)\n",
      "T =  26 Components =  56\n",
      "(5188, 56) (5188,)\n",
      "21.47% (+/- 2.20%)\n",
      "T =  27 Components =  56\n",
      "(5188, 56) (5188,)\n",
      "20.78% (+/- 1.04%)\n",
      "T =  28 Components =  56\n",
      "(5188, 56) (5188,)\n",
      "20.12% (+/- 1.16%)\n",
      "T =  29 Components =  56\n",
      "(5188, 56) (5188,)\n",
      "19.45% (+/- 1.02%)\n",
      "T =  30 Components =  56\n",
      "(5188, 56) (5188,)\n",
      "19.18% (+/- 1.26%)\n",
      "T =  31 Components =  56\n",
      "(5188, 56) (5188,)\n",
      "19.32% (+/- 1.47%)\n"
     ]
    }
   ],
   "source": [
    "run('S1')"
   ]
  },
  {
   "cell_type": "code",
   "execution_count": 0,
   "metadata": {
    "colab": {
     "base_uri": "https://localhost:8080/",
     "height": 1000
    },
    "colab_type": "code",
    "executionInfo": {
     "elapsed": 3710485,
     "status": "error",
     "timestamp": 1573028516159,
     "user": {
      "displayName": "Kritika Gupta",
      "photoUrl": "https://lh3.googleusercontent.com/a-/AAuE7mCgwK3Moc4SnVPKwBeZeYUEdvlrnhYWLjYp7qtZWQ=s64",
      "userId": "12877228453155369040"
     },
     "user_tz": -330
    },
    "id": "1UQA5JfOJxPQ",
    "outputId": "1db0ff65-8bd4-453a-fcda-fbd045c10a68"
   },
   "outputs": [
    {
     "name": "stdout",
     "output_type": "stream",
     "text": [
      "X_3D : (5185, 32, 124)\n",
      "Category labels : (5185,)\n",
      "N =  32\n",
      "T =  5185\n",
      "6\n",
      "T =  0 Components =  65\n",
      "(5185, 65) (5185,)\n",
      "WARNING:tensorflow:From /usr/local/lib/python3.6/dist-packages/tensorflow_core/python/ops/resource_variable_ops.py:1630: calling BaseResourceVariable.__init__ (from tensorflow.python.ops.resource_variable_ops) with constraint is deprecated and will be removed in a future version.\n",
      "Instructions for updating:\n",
      "If using Keras pass *_constraint arguments to layers.\n",
      "16.99% (+/- 0.94%)\n",
      "T =  1 Components =  65\n",
      "(5185, 65) (5185,)\n",
      "16.26% (+/- 1.31%)\n",
      "T =  2 Components =  66\n",
      "(5185, 66) (5185,)\n",
      "17.33% (+/- 1.71%)\n",
      "T =  3 Components =  66\n",
      "(5185, 66) (5185,)\n",
      "15.91% (+/- 1.46%)\n",
      "T =  4 Components =  66\n",
      "(5185, 66) (5185,)\n",
      "17.29% (+/- 1.83%)\n",
      "T =  5 Components =  66\n",
      "(5185, 66) (5185,)\n",
      "16.67% (+/- 1.82%)\n",
      "T =  6 Components =  65\n",
      "(5185, 65) (5185,)\n",
      "15.82% (+/- 1.18%)\n",
      "T =  7 Components =  65\n",
      "(5185, 65) (5185,)\n",
      "18.61% (+/- 1.31%)\n",
      "T =  8 Components =  64\n",
      "(5185, 64) (5185,)\n",
      "19.54% (+/- 1.95%)\n",
      "T =  9 Components =  64\n",
      "(5185, 64) (5185,)\n",
      "23.80% (+/- 1.28%)\n",
      "T =  10 Components =  66\n",
      "(5185, 66) (5185,)\n",
      "24.55% (+/- 1.67%)\n",
      "T =  11 Components =  67\n",
      "(5185, 67) (5185,)\n",
      "22.08% (+/- 1.78%)\n",
      "T =  12 Components =  68\n",
      "(5185, 68) (5185,)\n",
      "21.21% (+/- 1.76%)\n",
      "T =  13 Components =  69\n",
      "(5185, 69) (5185,)\n",
      "21.34% (+/- 1.81%)\n",
      "T =  14 Components =  69\n",
      "(5185, 69) (5185,)\n",
      "20.23% (+/- 1.05%)\n",
      "T =  15 Components =  70\n",
      "(5185, 70) (5185,)\n",
      "21.27% (+/- 1.40%)\n",
      "T =  16 Components =  71\n",
      "(5185, 71) (5185,)\n",
      "23.77% (+/- 2.27%)\n",
      "T =  17 Components =  71\n",
      "(5185, 71) (5185,)\n",
      "24.13% (+/- 1.58%)\n",
      "T =  18 Components =  71\n",
      "(5185, 71) (5185,)\n",
      "24.31% (+/- 1.84%)\n",
      "T =  19 Components =  71\n",
      "(5185, 71) (5185,)\n",
      "20.85% (+/- 2.33%)\n",
      "T =  20 Components =  72\n",
      "(5185, 72) (5185,)\n",
      "17.86% (+/- 1.59%)\n",
      "T =  21 Components =  72\n",
      "(5185, 72) (5185,)\n",
      "17.60% (+/- 1.54%)\n",
      "T =  22 Components =  72\n",
      "(5185, 72) (5185,)\n",
      "18.61% (+/- 1.27%)\n",
      "T =  23 Components =  72\n",
      "(5185, 72) (5185,)\n",
      "19.31% (+/- 1.41%)\n",
      "T =  24 Components =  72\n",
      "(5185, 72) (5185,)\n",
      "18.83% (+/- 1.09%)\n",
      "T =  25 Components =  72\n",
      "(5185, 72) (5185,)\n",
      "18.90% (+/- 1.55%)\n",
      "T =  26 Components =  71\n",
      "(5185, 71) (5185,)\n",
      "18.68% (+/- 1.38%)\n",
      "T =  27 Components =  72\n",
      "(5185, 72) (5185,)\n",
      "18.69% (+/- 0.83%)\n",
      "T =  28 Components =  72\n",
      "(5185, 72) (5185,)\n",
      "18.32% (+/- 1.93%)\n",
      "T =  29 Components =  72\n",
      "(5185, 72) (5185,)\n",
      "18.26% (+/- 1.35%)\n",
      "T =  30 Components =  72\n",
      "(5185, 72) (5185,)\n",
      "18.68% (+/- 2.19%)\n",
      "T =  31 Components =  71\n",
      "(5185, 71) (5185,)\n",
      "18.42% (+/- 1.68%)\n"
     ]
    },
    {
     "ename": "MessageError",
     "evalue": "ignored",
     "output_type": "error",
     "traceback": [
      "\u001b[0;31m---------------------------------------------------------------------------\u001b[0m",
      "\u001b[0;31mMessageError\u001b[0m                              Traceback (most recent call last)",
      "\u001b[0;32m<ipython-input-5-d9d154e8d79d>\u001b[0m in \u001b[0;36m<module>\u001b[0;34m()\u001b[0m\n\u001b[0;32m----> 1\u001b[0;31m \u001b[0mrun\u001b[0m\u001b[0;34m(\u001b[0m\u001b[0;34m'S2'\u001b[0m\u001b[0;34m)\u001b[0m\u001b[0;34m\u001b[0m\u001b[0;34m\u001b[0m\u001b[0m\n\u001b[0m",
      "\u001b[0;32m<ipython-input-4-437cc4036dbb>\u001b[0m in \u001b[0;36mrun\u001b[0;34m(subject)\u001b[0m\n\u001b[1;32m      2\u001b[0m   \u001b[0mX_3D\u001b[0m\u001b[0;34m,\u001b[0m \u001b[0mcategoryLabels\u001b[0m\u001b[0;34m,\u001b[0m \u001b[0mN\u001b[0m\u001b[0;34m,\u001b[0m \u001b[0mT\u001b[0m \u001b[0;34m=\u001b[0m \u001b[0mload_subject\u001b[0m\u001b[0;34m(\u001b[0m\u001b[0msubject\u001b[0m\u001b[0;34m)\u001b[0m\u001b[0;34m\u001b[0m\u001b[0;34m\u001b[0m\u001b[0m\n\u001b[1;32m      3\u001b[0m   \u001b[0ma\u001b[0m \u001b[0;34m=\u001b[0m \u001b[0mkfold_multiclass\u001b[0m\u001b[0;34m(\u001b[0m\u001b[0mX_3D\u001b[0m\u001b[0;34m,\u001b[0m \u001b[0mcategoryLabels\u001b[0m\u001b[0;34m,\u001b[0m \u001b[0mN\u001b[0m\u001b[0;34m,\u001b[0m \u001b[0mT\u001b[0m\u001b[0;34m,\u001b[0m \u001b[0msubject\u001b[0m\u001b[0;34m)\u001b[0m\u001b[0;34m\u001b[0m\u001b[0;34m\u001b[0m\u001b[0m\n\u001b[0;32m----> 4\u001b[0;31m   \u001b[0mfiles\u001b[0m\u001b[0;34m.\u001b[0m\u001b[0mdownload\u001b[0m\u001b[0;34m(\u001b[0m\u001b[0;34m\"/content/\"\u001b[0m\u001b[0;34m+\u001b[0m\u001b[0msubject\u001b[0m\u001b[0;34m+\u001b[0m\u001b[0;34m\"_multiclass_accuracies.npy\"\u001b[0m\u001b[0;34m)\u001b[0m\u001b[0;34m\u001b[0m\u001b[0;34m\u001b[0m\u001b[0m\n\u001b[0m",
      "\u001b[0;32m/usr/local/lib/python3.6/dist-packages/google/colab/files.py\u001b[0m in \u001b[0;36mdownload\u001b[0;34m(filename)\u001b[0m\n\u001b[1;32m    176\u001b[0m       \u001b[0;34m'port'\u001b[0m\u001b[0;34m:\u001b[0m \u001b[0mport\u001b[0m\u001b[0;34m,\u001b[0m\u001b[0;34m\u001b[0m\u001b[0;34m\u001b[0m\u001b[0m\n\u001b[1;32m    177\u001b[0m       \u001b[0;34m'path'\u001b[0m\u001b[0;34m:\u001b[0m \u001b[0m_os\u001b[0m\u001b[0;34m.\u001b[0m\u001b[0mpath\u001b[0m\u001b[0;34m.\u001b[0m\u001b[0mabspath\u001b[0m\u001b[0;34m(\u001b[0m\u001b[0mfilename\u001b[0m\u001b[0;34m)\u001b[0m\u001b[0;34m,\u001b[0m\u001b[0;34m\u001b[0m\u001b[0;34m\u001b[0m\u001b[0m\n\u001b[0;32m--> 178\u001b[0;31m       \u001b[0;34m'name'\u001b[0m\u001b[0;34m:\u001b[0m \u001b[0m_os\u001b[0m\u001b[0;34m.\u001b[0m\u001b[0mpath\u001b[0m\u001b[0;34m.\u001b[0m\u001b[0mbasename\u001b[0m\u001b[0;34m(\u001b[0m\u001b[0mfilename\u001b[0m\u001b[0;34m)\u001b[0m\u001b[0;34m,\u001b[0m\u001b[0;34m\u001b[0m\u001b[0;34m\u001b[0m\u001b[0m\n\u001b[0m\u001b[1;32m    179\u001b[0m   })\n",
      "\u001b[0;32m/usr/local/lib/python3.6/dist-packages/google/colab/output/_js.py\u001b[0m in \u001b[0;36meval_js\u001b[0;34m(script, ignore_result)\u001b[0m\n\u001b[1;32m     37\u001b[0m   \u001b[0;32mif\u001b[0m \u001b[0mignore_result\u001b[0m\u001b[0;34m:\u001b[0m\u001b[0;34m\u001b[0m\u001b[0;34m\u001b[0m\u001b[0m\n\u001b[1;32m     38\u001b[0m     \u001b[0;32mreturn\u001b[0m\u001b[0;34m\u001b[0m\u001b[0;34m\u001b[0m\u001b[0m\n\u001b[0;32m---> 39\u001b[0;31m   \u001b[0;32mreturn\u001b[0m \u001b[0m_message\u001b[0m\u001b[0;34m.\u001b[0m\u001b[0mread_reply_from_input\u001b[0m\u001b[0;34m(\u001b[0m\u001b[0mrequest_id\u001b[0m\u001b[0;34m)\u001b[0m\u001b[0;34m\u001b[0m\u001b[0;34m\u001b[0m\u001b[0m\n\u001b[0m\u001b[1;32m     40\u001b[0m \u001b[0;34m\u001b[0m\u001b[0m\n\u001b[1;32m     41\u001b[0m \u001b[0;34m\u001b[0m\u001b[0m\n",
      "\u001b[0;32m/usr/local/lib/python3.6/dist-packages/google/colab/_message.py\u001b[0m in \u001b[0;36mread_reply_from_input\u001b[0;34m(message_id, timeout_sec)\u001b[0m\n\u001b[1;32m    104\u001b[0m         reply.get('colab_msg_id') == message_id):\n\u001b[1;32m    105\u001b[0m       \u001b[0;32mif\u001b[0m \u001b[0;34m'error'\u001b[0m \u001b[0;32min\u001b[0m \u001b[0mreply\u001b[0m\u001b[0;34m:\u001b[0m\u001b[0;34m\u001b[0m\u001b[0;34m\u001b[0m\u001b[0m\n\u001b[0;32m--> 106\u001b[0;31m         \u001b[0;32mraise\u001b[0m \u001b[0mMessageError\u001b[0m\u001b[0;34m(\u001b[0m\u001b[0mreply\u001b[0m\u001b[0;34m[\u001b[0m\u001b[0;34m'error'\u001b[0m\u001b[0;34m]\u001b[0m\u001b[0;34m)\u001b[0m\u001b[0;34m\u001b[0m\u001b[0;34m\u001b[0m\u001b[0m\n\u001b[0m\u001b[1;32m    107\u001b[0m       \u001b[0;32mreturn\u001b[0m \u001b[0mreply\u001b[0m\u001b[0;34m.\u001b[0m\u001b[0mget\u001b[0m\u001b[0;34m(\u001b[0m\u001b[0;34m'data'\u001b[0m\u001b[0;34m,\u001b[0m \u001b[0;32mNone\u001b[0m\u001b[0;34m)\u001b[0m\u001b[0;34m\u001b[0m\u001b[0;34m\u001b[0m\u001b[0m\n\u001b[1;32m    108\u001b[0m \u001b[0;34m\u001b[0m\u001b[0m\n",
      "\u001b[0;31mMessageError\u001b[0m: TypeError: Failed to fetch"
     ]
    }
   ],
   "source": [
    "run('S2')"
   ]
  },
  {
   "cell_type": "code",
   "execution_count": 0,
   "metadata": {
    "colab": {},
    "colab_type": "code",
    "id": "UAZHvdikwy3E"
   },
   "outputs": [],
   "source": [
    "files.download(\"/content/S2_multiclass_accuracies.npy\")"
   ]
  },
  {
   "cell_type": "code",
   "execution_count": 0,
   "metadata": {
    "colab": {},
    "colab_type": "code",
    "id": "Jealqsu4SAok"
   },
   "outputs": [],
   "source": [
    "plt.figure()\n",
    "plt.title('S3')\n",
    "plt.plot(a.keys(), a.values())\n",
    "plt.xlabel(\"time stamp\")\n",
    "plt.ylabel(\"accuracy\")\n",
    "plt.show()"
   ]
  },
  {
   "cell_type": "code",
   "execution_count": 0,
   "metadata": {
    "colab": {
     "base_uri": "https://localhost:8080/",
     "height": 1000
    },
    "colab_type": "code",
    "executionInfo": {
     "elapsed": 4654818,
     "status": "ok",
     "timestamp": 1573331186101,
     "user": {
      "displayName": "Kritika Gupta",
      "photoUrl": "https://lh3.googleusercontent.com/a-/AAuE7mCgwK3Moc4SnVPKwBeZeYUEdvlrnhYWLjYp7qtZWQ=s64",
      "userId": "12877228453155369040"
     },
     "user_tz": -330
    },
    "id": "55cabWQvCXae",
    "outputId": "a96c3a34-8803-4812-9257-052afb785910"
   },
   "outputs": [
    {
     "name": "stdout",
     "output_type": "stream",
     "text": [
      "X_3D : (5188, 32, 124)\n",
      "Category labels : (5188,)\n",
      "N =  32\n",
      "T =  5188\n",
      "6\n",
      "T =  0 Components =  52\n",
      "(5188, 52) (5188,)\n",
      "WARNING:tensorflow:From /usr/local/lib/python3.6/dist-packages/tensorflow_core/python/ops/resource_variable_ops.py:1630: calling BaseResourceVariable.__init__ (from tensorflow.python.ops.resource_variable_ops) with constraint is deprecated and will be removed in a future version.\n",
      "Instructions for updating:\n",
      "If using Keras pass *_constraint arguments to layers.\n",
      "17.08% (+/- 1.06%)\n",
      "T =  1 Components =  52\n",
      "(5188, 52) (5188,)\n",
      "15.61% (+/- 1.33%)\n",
      "T =  2 Components =  52\n",
      "(5188, 52) (5188,)\n",
      "16.13% (+/- 1.53%)\n",
      "T =  3 Components =  51\n",
      "(5188, 51) (5188,)\n",
      "16.82% (+/- 1.65%)\n",
      "T =  4 Components =  51\n",
      "(5188, 51) (5188,)\n",
      "17.53% (+/- 1.75%)\n",
      "T =  5 Components =  51\n",
      "(5188, 51) (5188,)\n",
      "17.56% (+/- 1.61%)\n",
      "T =  6 Components =  51\n",
      "(5188, 51) (5188,)\n",
      "17.17% (+/- 1.23%)\n",
      "T =  7 Components =  51\n",
      "(5188, 51) (5188,)\n",
      "17.96% (+/- 1.63%)\n",
      "T =  8 Components =  52\n",
      "(5188, 52) (5188,)\n",
      "19.69% (+/- 1.43%)\n",
      "T =  9 Components =  51\n",
      "(5188, 51) (5188,)\n",
      "21.95% (+/- 2.31%)\n",
      "T =  10 Components =  50\n",
      "(5188, 50) (5188,)\n",
      "23.90% (+/- 1.09%)\n",
      "T =  11 Components =  53\n",
      "(5188, 53) (5188,)\n",
      "23.39% (+/- 1.53%)\n",
      "T =  12 Components =  52\n",
      "(5188, 52) (5188,)\n",
      "24.98% (+/- 1.55%)\n",
      "T =  13 Components =  53\n",
      "(5188, 53) (5188,)\n",
      "23.42% (+/- 3.49%)\n",
      "T =  14 Components =  55\n",
      "(5188, 55) (5188,)\n",
      "23.46% (+/- 1.06%)\n",
      "T =  15 Components =  55\n",
      "(5188, 55) (5188,)\n",
      "21.57% (+/- 1.39%)\n",
      "T =  16 Components =  56\n",
      "(5188, 56) (5188,)\n",
      "23.67% (+/- 1.35%)\n",
      "T =  17 Components =  54\n",
      "(5188, 54) (5188,)\n",
      "23.48% (+/- 1.65%)\n",
      "T =  18 Components =  55\n",
      "(5188, 55) (5188,)\n",
      "24.07% (+/- 1.41%)\n",
      "T =  19 Components =  55\n",
      "(5188, 55) (5188,)\n",
      "23.15% (+/- 1.85%)\n",
      "T =  20 Components =  55\n",
      "(5188, 55) (5188,)\n",
      "22.13% (+/- 2.04%)\n",
      "T =  21 Components =  55\n",
      "(5188, 55) (5188,)\n",
      "21.36% (+/- 1.07%)\n",
      "T =  22 Components =  55\n",
      "(5188, 55) (5188,)\n",
      "21.30% (+/- 1.85%)\n",
      "T =  23 Components =  55\n",
      "(5188, 55) (5188,)\n",
      "19.47% (+/- 1.35%)\n",
      "T =  24 Components =  55\n",
      "(5188, 55) (5188,)\n",
      "20.47% (+/- 1.84%)\n",
      "T =  25 Components =  56\n",
      "(5188, 56) (5188,)\n",
      "20.55% (+/- 1.69%)\n",
      "T =  26 Components =  56\n",
      "(5188, 56) (5188,)\n",
      "21.42% (+/- 1.74%)\n",
      "T =  27 Components =  56\n",
      "(5188, 56) (5188,)\n",
      "20.74% (+/- 1.70%)\n",
      "T =  28 Components =  56\n",
      "(5188, 56) (5188,)\n",
      "21.28% (+/- 1.29%)\n",
      "T =  29 Components =  56\n",
      "(5188, 56) (5188,)\n",
      "20.74% (+/- 0.93%)\n",
      "T =  30 Components =  56\n",
      "(5188, 56) (5188,)\n",
      "19.18% (+/- 1.72%)\n",
      "T =  31 Components =  56\n",
      "(5188, 56) (5188,)\n",
      "18.79% (+/- 2.09%)\n"
     ]
    }
   ],
   "source": [
    "run('S1')"
   ]
  },
  {
   "cell_type": "code",
   "execution_count": 0,
   "metadata": {
    "colab": {},
    "colab_type": "code",
    "id": "eOBlB7J88FQ5"
   },
   "outputs": [],
   "source": [
    "files.download(\"/content/S1_multiclass_accuracies.npy\")"
   ]
  },
  {
   "cell_type": "code",
   "execution_count": 0,
   "metadata": {
    "colab": {
     "base_uri": "https://localhost:8080/",
     "height": 1000
    },
    "colab_type": "code",
    "executionInfo": {
     "elapsed": 3951939,
     "status": "ok",
     "timestamp": 1573375815046,
     "user": {
      "displayName": "Kritika Gupta",
      "photoUrl": "https://lh3.googleusercontent.com/a-/AAuE7mCgwK3Moc4SnVPKwBeZeYUEdvlrnhYWLjYp7qtZWQ=s64",
      "userId": "12877228453155369040"
     },
     "user_tz": -330
    },
    "id": "DFxsNojp2s_0",
    "outputId": "ebdda3ec-7e49-449e-8b79-4cd96c153027"
   },
   "outputs": [
    {
     "name": "stdout",
     "output_type": "stream",
     "text": [
      "X_3D : (5186, 32, 124)\n",
      "Category labels : (5186,)\n",
      "N =  32\n",
      "T =  5186\n",
      "6\n",
      "T =  0 Components =  45\n",
      "(5186, 45) (5186,)\n",
      "WARNING:tensorflow:From /usr/local/lib/python3.6/dist-packages/tensorflow_core/python/ops/resource_variable_ops.py:1630: calling BaseResourceVariable.__init__ (from tensorflow.python.ops.resource_variable_ops) with constraint is deprecated and will be removed in a future version.\n",
      "Instructions for updating:\n",
      "If using Keras pass *_constraint arguments to layers.\n",
      "16.62% (+/- 1.54%)\n",
      "T =  1 Components =  44\n",
      "(5186, 44) (5186,)\n",
      "17.14% (+/- 0.86%)\n",
      "T =  2 Components =  44\n",
      "(5186, 44) (5186,)\n",
      "17.66% (+/- 1.50%)\n",
      "T =  3 Components =  43\n",
      "(5186, 43) (5186,)\n",
      "17.01% (+/- 0.72%)\n",
      "T =  4 Components =  43\n",
      "(5186, 43) (5186,)\n",
      "17.76% (+/- 1.08%)\n",
      "T =  5 Components =  44\n",
      "(5186, 44) (5186,)\n",
      "16.75% (+/- 2.11%)\n",
      "T =  6 Components =  44\n",
      "(5186, 44) (5186,)\n",
      "16.41% (+/- 1.27%)\n",
      "T =  7 Components =  44\n",
      "(5186, 44) (5186,)\n",
      "18.53% (+/- 1.44%)\n",
      "T =  8 Components =  45\n",
      "(5186, 45) (5186,)\n",
      "19.13% (+/- 1.43%)\n",
      "T =  9 Components =  44\n",
      "(5186, 44) (5186,)\n",
      "18.78% (+/- 1.33%)\n",
      "T =  10 Components =  44\n",
      "(5186, 44) (5186,)\n",
      "23.97% (+/- 1.99%)\n",
      "T =  11 Components =  44\n",
      "(5186, 44) (5186,)\n",
      "23.10% (+/- 1.40%)\n",
      "T =  12 Components =  44\n",
      "(5186, 44) (5186,)\n",
      "22.66% (+/- 1.26%)\n",
      "T =  13 Components =  45\n",
      "(5186, 45) (5186,)\n",
      "24.60% (+/- 2.01%)\n",
      "T =  14 Components =  45\n",
      "(5186, 45) (5186,)\n",
      "24.68% (+/- 1.71%)\n",
      "T =  15 Components =  45\n",
      "(5186, 45) (5186,)\n",
      "23.62% (+/- 2.42%)\n",
      "T =  16 Components =  45\n",
      "(5186, 45) (5186,)\n",
      "24.28% (+/- 1.53%)\n",
      "T =  17 Components =  45\n",
      "(5186, 45) (5186,)\n",
      "22.57% (+/- 1.90%)\n",
      "T =  18 Components =  44\n",
      "(5186, 44) (5186,)\n",
      "24.57% (+/- 2.47%)\n",
      "T =  19 Components =  44\n",
      "(5186, 44) (5186,)\n",
      "22.64% (+/- 1.58%)\n",
      "T =  20 Components =  44\n",
      "(5186, 44) (5186,)\n",
      "20.00% (+/- 1.55%)\n",
      "T =  21 Components =  45\n",
      "(5186, 45) (5186,)\n",
      "20.35% (+/- 1.21%)\n",
      "T =  22 Components =  43\n",
      "(5186, 43) (5186,)\n",
      "18.82% (+/- 1.23%)\n",
      "T =  23 Components =  43\n",
      "(5186, 43) (5186,)\n",
      "19.23% (+/- 1.87%)\n",
      "T =  24 Components =  43\n",
      "(5186, 43) (5186,)\n",
      "19.07% (+/- 2.10%)\n",
      "T =  25 Components =  42\n",
      "(5186, 42) (5186,)\n",
      "18.03% (+/- 1.88%)\n",
      "T =  26 Components =  44\n",
      "(5186, 44) (5186,)\n",
      "18.61% (+/- 1.92%)\n",
      "T =  27 Components =  43\n",
      "(5186, 43) (5186,)\n",
      "19.15% (+/- 1.85%)\n",
      "T =  28 Components =  42\n",
      "(5186, 42) (5186,)\n",
      "20.07% (+/- 1.90%)\n",
      "T =  29 Components =  44\n",
      "(5186, 44) (5186,)\n",
      "18.70% (+/- 1.74%)\n",
      "T =  30 Components =  43\n",
      "(5186, 43) (5186,)\n",
      "18.39% (+/- 2.32%)\n",
      "T =  31 Components =  44\n",
      "(5186, 44) (5186,)\n",
      "18.37% (+/- 1.13%)\n"
     ]
    }
   ],
   "source": [
    "run('S4')"
   ]
  },
  {
   "cell_type": "code",
   "execution_count": 0,
   "metadata": {
    "colab": {},
    "colab_type": "code",
    "id": "Q4fcN7_U2wpP"
   },
   "outputs": [],
   "source": [
    "files.download(\"/content/S4_multiclass_accuracies.npy\")"
   ]
  },
  {
   "cell_type": "code",
   "execution_count": 0,
   "metadata": {
    "colab": {
     "base_uri": "https://localhost:8080/",
     "height": 1000
    },
    "colab_type": "code",
    "executionInfo": {
     "elapsed": 4147298,
     "status": "ok",
     "timestamp": 1573413024423,
     "user": {
      "displayName": "Kritika Gupta",
      "photoUrl": "https://lh3.googleusercontent.com/a-/AAuE7mCgwK3Moc4SnVPKwBeZeYUEdvlrnhYWLjYp7qtZWQ=s64",
      "userId": "12877228453155369040"
     },
     "user_tz": -330
    },
    "id": "SFAPc3tTgxjP",
    "outputId": "651f75eb-4553-4251-b4c8-ae83a1597c9f"
   },
   "outputs": [
    {
     "name": "stdout",
     "output_type": "stream",
     "text": [
      "X_3D : (5185, 32, 124)\n",
      "Category labels : (5185,)\n",
      "N =  32\n",
      "T =  5185\n",
      "6\n",
      "T =  0 Components =  63\n",
      "(5185, 63) (5185,)\n",
      "WARNING:tensorflow:From /usr/local/lib/python3.6/dist-packages/tensorflow_core/python/ops/resource_variable_ops.py:1630: calling BaseResourceVariable.__init__ (from tensorflow.python.ops.resource_variable_ops) with constraint is deprecated and will be removed in a future version.\n",
      "Instructions for updating:\n",
      "If using Keras pass *_constraint arguments to layers.\n",
      "15.80% (+/- 2.10%)\n",
      "T =  1 Components =  63\n",
      "(5185, 63) (5185,)\n",
      "16.24% (+/- 1.14%)\n",
      "T =  2 Components =  62\n",
      "(5185, 62) (5185,)\n",
      "16.09% (+/- 1.16%)\n",
      "T =  3 Components =  63\n",
      "(5185, 63) (5185,)\n",
      "16.56% (+/- 1.11%)\n",
      "T =  4 Components =  63\n",
      "(5185, 63) (5185,)\n",
      "16.68% (+/- 1.65%)\n",
      "T =  5 Components =  63\n",
      "(5185, 63) (5185,)\n",
      "16.57% (+/- 0.96%)\n",
      "T =  6 Components =  63\n",
      "(5185, 63) (5185,)\n",
      "17.20% (+/- 1.63%)\n",
      "T =  7 Components =  62\n",
      "(5185, 62) (5185,)\n",
      "19.48% (+/- 1.67%)\n",
      "T =  8 Components =  61\n",
      "(5185, 61) (5185,)\n",
      "22.82% (+/- 2.31%)\n",
      "T =  9 Components =  61\n",
      "(5185, 61) (5185,)\n",
      "29.03% (+/- 1.79%)\n",
      "T =  10 Components =  62\n",
      "(5185, 62) (5185,)\n",
      "29.27% (+/- 2.58%)\n",
      "T =  11 Components =  62\n",
      "(5185, 62) (5185,)\n",
      "27.96% (+/- 2.52%)\n",
      "T =  12 Components =  62\n",
      "(5185, 62) (5185,)\n",
      "28.56% (+/- 2.19%)\n",
      "T =  13 Components =  64\n",
      "(5185, 64) (5185,)\n",
      "28.73% (+/- 1.74%)\n",
      "T =  14 Components =  64\n",
      "(5185, 64) (5185,)\n",
      "26.60% (+/- 1.56%)\n",
      "T =  15 Components =  64\n",
      "(5185, 64) (5185,)\n",
      "27.21% (+/- 1.06%)\n",
      "T =  16 Components =  64\n",
      "(5185, 64) (5185,)\n",
      "24.73% (+/- 2.09%)\n",
      "T =  17 Components =  63\n",
      "(5185, 63) (5185,)\n",
      "23.15% (+/- 1.78%)\n",
      "T =  18 Components =  62\n",
      "(5185, 62) (5185,)\n",
      "23.13% (+/- 1.63%)\n",
      "T =  19 Components =  62\n",
      "(5185, 62) (5185,)\n",
      "24.16% (+/- 2.06%)\n",
      "T =  20 Components =  62\n",
      "(5185, 62) (5185,)\n",
      "21.65% (+/- 1.69%)\n",
      "T =  21 Components =  62\n",
      "(5185, 62) (5185,)\n",
      "20.34% (+/- 2.36%)\n",
      "T =  22 Components =  62\n",
      "(5185, 62) (5185,)\n",
      "20.52% (+/- 1.71%)\n",
      "T =  23 Components =  62\n",
      "(5185, 62) (5185,)\n",
      "19.64% (+/- 1.75%)\n",
      "T =  24 Components =  62\n",
      "(5185, 62) (5185,)\n",
      "20.12% (+/- 1.42%)\n",
      "T =  25 Components =  62\n",
      "(5185, 62) (5185,)\n",
      "20.23% (+/- 1.08%)\n",
      "T =  26 Components =  62\n",
      "(5185, 62) (5185,)\n",
      "20.02% (+/- 1.36%)\n",
      "T =  27 Components =  62\n",
      "(5185, 62) (5185,)\n",
      "20.08% (+/- 1.68%)\n",
      "T =  28 Components =  62\n",
      "(5185, 62) (5185,)\n",
      "20.48% (+/- 1.64%)\n",
      "T =  29 Components =  62\n",
      "(5185, 62) (5185,)\n",
      "19.00% (+/- 1.68%)\n",
      "T =  30 Components =  62\n",
      "(5185, 62) (5185,)\n",
      "17.75% (+/- 1.81%)\n",
      "T =  31 Components =  62\n",
      "(5185, 62) (5185,)\n",
      "18.25% (+/- 1.05%)\n"
     ]
    }
   ],
   "source": [
    "run('S5')"
   ]
  },
  {
   "cell_type": "code",
   "execution_count": 0,
   "metadata": {
    "colab": {},
    "colab_type": "code",
    "id": "p-637gang2EQ"
   },
   "outputs": [],
   "source": [
    "files.download(\"/content/S5_multiclass_accuracies.npy\")"
   ]
  },
  {
   "cell_type": "markdown",
   "metadata": {
    "colab_type": "text",
    "id": "45mfZrHdyUos"
   },
   "source": [
    "### Results"
   ]
  },
  {
   "cell_type": "code",
   "execution_count": 0,
   "metadata": {
    "colab": {
     "base_uri": "https://localhost:8080/",
     "height": 557
    },
    "colab_type": "code",
    "executionInfo": {
     "elapsed": 1747,
     "status": "ok",
     "timestamp": 1573415026664,
     "user": {
      "displayName": "Kritika Gupta",
      "photoUrl": "https://lh3.googleusercontent.com/a-/AAuE7mCgwK3Moc4SnVPKwBeZeYUEdvlrnhYWLjYp7qtZWQ=s64",
      "userId": "12877228453155369040"
     },
     "user_tz": -330
    },
    "id": "U0TK_lUZQzdi",
    "outputId": "2d29093f-49d9-41b7-9904-26be4e154624"
   },
   "outputs": [
    {
     "data": {
      "image/png": "[encoded data removed]",
      "text/plain": [
       "<Figure size 432x288 with 1 Axes>"
      ]
     },
     "metadata": {
      "tags": []
     },
     "output_type": "display_data"
    },
    {
     "data": {
      "image/png": "[encoded data removed]",
      "text/plain": [
       "<Figure size 432x288 with 1 Axes>"
      ]
     },
     "metadata": {
      "tags": []
     },
     "output_type": "display_data"
    }
   ],
   "source": [
    "plt.figure()\n",
    "accuracies = np.zeros((32, 1))\n",
    "for i in range(1, 6):\n",
    " \n",
    "  acc = np.load(\"/content/drive/My Drive/ML4DM_data/Results/S\"+str(i)+\"_multiclass_accuracies.npy\", allow_pickle=True)\n",
    "  acc = acc.item()\n",
    "  accuracies += np.asarray(list(acc.values())).reshape(-1, 1)\n",
    "  plt.plot(list(acc.keys()), list(acc.values()), label = \"Subject \"+str(i))\n",
    "plt.xlabel(\"Time Stamp (T)\")\n",
    "plt.ylabel(\"Accuracy (in %)\")\n",
    "plt.legend(loc = 0)\n",
    "plt.show()\n",
    "\n",
    "  \n",
    "# print((accuracies))\n",
    "plt.figure()\n",
    "plt.title('Multiclass Classification Accuracies')\n",
    "plt.plot(list(acc.keys()), accuracies/5)\n",
    "plt.xlabel(\"Time Stamp (T)\")\n",
    "plt.ylabel(\"Accuracy (in %)\")\n",
    "# plt.savefig(\"S3_binary.png\", dpi = 300)\n",
    "plt.show()"
   ]
  },
  {
   "cell_type": "code",
   "execution_count": 0,
   "metadata": {
    "colab": {},
    "colab_type": "code",
    "id": "EuWDrCTZ1KRi"
   },
   "outputs": [],
   "source": []
  }
 ],
 "metadata": {
  "colab": {
   "collapsed_sections": [],
   "name": "ML4DM_Assignment_q1_part2.ipynb",
   "provenance": []
  },
  "kernelspec": {
   "display_name": "Python 3",
   "language": "python",
   "name": "python3"
  },
  "language_info": {
   "codemirror_mode": {
    "name": "ipython",
    "version": 3
   },
   "file_extension": ".py",
   "mimetype": "text/x-python",
   "name": "python",
   "nbconvert_exporter": "python",
   "pygments_lexer": "ipython3",
   "version": "3.8.2"
  }
 },
 "nbformat": 4,
 "nbformat_minor": 1
}
