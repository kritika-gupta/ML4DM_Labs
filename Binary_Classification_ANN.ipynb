{
 "cells": [
  {
   "cell_type": "markdown",
   "metadata": {
    "colab_type": "text",
    "id": "vEqPF1PMJ-uQ"
   },
   "source": [
    "## Binary Classification of EEG Brain Data using ANN and k-fold cross validation\n",
    "\n"
   ]
  },
  {
   "cell_type": "code",
   "execution_count": 0,
   "metadata": {
    "colab": {},
    "colab_type": "code",
    "id": "p4kkxgEDLiRT"
   },
   "outputs": [],
   "source": [
    "def ANN(X, y):\n",
    "    kfold = StratifiedKFold(n_splits=10, shuffle=True, random_state=0)\n",
    "    cvscores = []\n",
    "\n",
    "    for train, test in kfold.split(X, y):\n",
    "        X_train, y_train = X[train], y[train]\n",
    "        X_test, y_test = X[test], y[test]\n",
    "        y_train = to_categorical(y_train)\n",
    "        y_test = to_categorical(y_test)\n",
    "\n",
    "        model = Sequential()\n",
    "\n",
    "        model.add(Dense(51, activation = 'relu', input_shape = [X_train.shape[1]]))\n",
    "        model.add(Dense(2, activation = 'softmax'))\n",
    "        esCallback = EarlyStopping(monitor='val_loss',\n",
    "                             min_delta=0,\n",
    "                             patience=0,\n",
    "                             verbose=0,\n",
    "                             mode='min')\n",
    "        \n",
    "        model.compile(optimizer='sgd', loss='categorical_crossentropy', metrics=['accuracy'])\n",
    "        fit_history = model.fit(X_train, y_train, batch_size = 128, validation_split = 0.2, epochs=100, verbose = False, callbacks = [esCallback])\n",
    "        scores = (model.evaluate(X_test, y_test, verbose = False))\n",
    "\n",
    "#         print(\"%s: %.2f%%\" % (model.metrics_names[1], scores[1]*100))\n",
    "        cvscores.append(scores[1] * 100)\n",
    "\n",
    "    print(\"%.2f%% (+/- %.2f%%)\" % (np.mean(cvscores), np.std(cvscores)), \"\\n\")\n",
    "    return np.mean(cvscores), fit_history"
   ]
  },
  {
   "cell_type": "code",
   "execution_count": 0,
   "metadata": {
    "colab": {},
    "colab_type": "code",
    "id": "LZzhSIxYLiRY",
    "scrolled": true
   },
   "outputs": [],
   "source": [
    "def kfold_binary(X_3D, categoryLabels, N, T, sub):\n",
    "  accuracies = dict.fromkeys(range(0, N))\n",
    "\n",
    "  for time in range(0,N):\n",
    "      print(\"Time stamp =\", time)\n",
    "      data = X_3D[:, time, :]\n",
    "      data = StandardScaler().fit_transform(data)\n",
    "      pca = PCA(.95)\n",
    "      pca.fit(data)\n",
    "      data_pca = pca.transform(data)\n",
    "\n",
    "      idxs = np.where((categoryLabels==2) | (categoryLabels==6))[0]\n",
    "      y = categoryLabels[idxs, :]\n",
    "      X = data_pca[idxs,:]\n",
    "\n",
    "      classes = 2\n",
    "      # class 2 is denoted by 0\n",
    "      # class 6 is denoted by 1\n",
    "      y[y == 2] = 0\n",
    "      y[y == 6] = 1\n",
    "\n",
    "      accuracies[time], fit_history = ANN(X, y)\n",
    "      # np.save(sub+\"_\"+str(time)+\"_accuracy.npy\", accuracies[time])\n",
    "      # files.download(sub+\"_\"+str(time)+\"_accuracy.npy\")\n",
    "\n",
    "  np.save(sub+\"_accuracies.npy\", accuracies)\n",
    "  return accuracies"
   ]
  },
  {
   "cell_type": "code",
   "execution_count": 0,
   "metadata": {
    "colab": {
     "base_uri": "https://localhost:8080/",
     "height": 63
    },
    "colab_type": "code",
    "executionInfo": {
     "elapsed": 3504,
     "status": "ok",
     "timestamp": 1573415115026,
     "user": {
      "displayName": "Kritika Gupta",
      "photoUrl": "https://lh3.googleusercontent.com/a-/AAuE7mCgwK3Moc4SnVPKwBeZeYUEdvlrnhYWLjYp7qtZWQ=s64",
      "userId": "12877228453155369040"
     },
     "user_tz": -330
    },
    "id": "iymX8pX5LiQ1",
    "outputId": "3372aad4-a31e-46c2-ffd3-bb0e508aba3d"
   },
   "outputs": [
    {
     "data": {
      "text/html": [
       "<p style=\"color: red;\">\n",
       "The default version of TensorFlow in Colab will soon switch to TensorFlow 2.x.<br>\n",
       "We recommend you <a href=\"https://www.tensorflow.org/guide/migrate\" target=\"_blank\">upgrade</a> now \n",
       "or ensure your notebook will continue to use TensorFlow 1.x via the <code>%tensorflow_version 1.x</code> magic:\n",
       "<a href=\"https://colab.research.google.com/notebooks/tensorflow_version.ipynb\" target=\"_blank\">more info</a>.</p>\n"
      ],
      "text/plain": [
       "<IPython.core.display.HTML object>"
      ]
     },
     "metadata": {
      "tags": []
     },
     "output_type": "display_data"
    }
   ],
   "source": [
    "import scipy.io\n",
    "import numpy as np\n",
    "from sklearn.decomposition import PCA\n",
    "from sklearn.preprocessing import StandardScaler\n",
    "from sklearn.model_selection import train_test_split\n",
    "from tensorflow.keras.models import Sequential\n",
    "from tensorflow.keras.layers import Dense, Flatten\n",
    "from sklearn.model_selection import StratifiedKFold\n",
    "from tensorflow.keras import datasets\n",
    "from tensorflow.keras.utils import to_categorical\n",
    "from tensorflow.keras.callbacks import EarlyStopping \n",
    "from google.colab import files\n",
    "\n",
    "\n",
    "import matplotlib.pyplot as plt"
   ]
  },
  {
   "cell_type": "code",
   "execution_count": 0,
   "metadata": {
    "colab": {
     "base_uri": "https://localhost:8080/",
     "height": 124
    },
    "colab_type": "code",
    "executionInfo": {
     "elapsed": 19193,
     "status": "ok",
     "timestamp": 1573415133533,
     "user": {
      "displayName": "Kritika Gupta",
      "photoUrl": "https://lh3.googleusercontent.com/a-/AAuE7mCgwK3Moc4SnVPKwBeZeYUEdvlrnhYWLjYp7qtZWQ=s64",
      "userId": "12877228453155369040"
     },
     "user_tz": -330
    },
    "id": "jHO1dBCUi5Ho",
    "outputId": "1083ca87-7c3a-4cec-e304-9c58312a3609"
   },
   "outputs": [
    {
     "name": "stdout",
     "output_type": "stream",
     "text": [
      "Go to this URL in a browser: https://accounts.google.com/o/oauth2/auth?client_id=947318989803-6bn6qk8qdgf4n4g3pfee6491hc0brc4i.apps.googleusercontent.com&redirect_uri=urn%3Aietf%3Awg%3Aoauth%3A2.0%3Aoob&scope=email%20https%3A%2F%2Fwww.googleapis.com%2Fauth%2Fdocs.test%20https%3A%2F%2Fwww.googleapis.com%2Fauth%2Fdrive%20https%3A%2F%2Fwww.googleapis.com%2Fauth%2Fdrive.photos.readonly%20https%3A%2F%2Fwww.googleapis.com%2Fauth%2Fpeopleapi.readonly&response_type=code\n",
      "\n",
      "Enter your authorization code:\n",
      "··········\n",
      "Mounted at /content/drive\n"
     ]
    }
   ],
   "source": [
    "from google.colab import drive\n",
    "drive.mount('/content/drive')"
   ]
  },
  {
   "cell_type": "markdown",
   "metadata": {
    "colab_type": "text",
    "id": "6T5yiwIzKxhE"
   },
   "source": [
    "1. Fs : Sampling freq. of data\n",
    "2. T : number of trials\n",
    "3. N : number of time samples per trial\n",
    "4. exemplarLabels : exemplar label for each trial\n",
    "5. categoryLabels : category label for each trial\n",
    "6. X_2D : (T, 124 * N) : Each row is one trial, each column is one electrode from one sample, hence total of 124 * N columns. (N time samples for electrode1 then N from electrode2 and so on...)\n",
    "7. X_3D : "
   ]
  },
  {
   "cell_type": "code",
   "execution_count": 0,
   "metadata": {
    "colab": {},
    "colab_type": "code",
    "id": "Cp1RS2c4jEoi"
   },
   "outputs": [],
   "source": [
    "def run(subject):  \n",
    "  mat = scipy.io.loadmat('/content/drive/My Drive/ML4DM_data/'+subject+'.mat')\n",
    "  T = int(mat['T'])\n",
    "  N = int(mat['N'])\n",
    "  categoryLabels = mat['categoryLabels'][0].reshape(T, 1)\n",
    "  X_3D = mat['X_3D'].T\n",
    "  print(\"X_3D :\", X_3D.shape)\n",
    "  print(\"Category labels :\", categoryLabels.shape)\n",
    "  kfold_binary(X_3D, categoryLabels, N, T, subject)\n",
    "  \n"
   ]
  },
  {
   "cell_type": "code",
   "execution_count": 0,
   "metadata": {
    "colab": {},
    "colab_type": "code",
    "id": "NKFigUOzLmOw"
   },
   "outputs": [],
   "source": [
    "run('S1')"
   ]
  },
  {
   "cell_type": "code",
   "execution_count": 0,
   "metadata": {
    "colab": {},
    "colab_type": "code",
    "id": "MWppVwHVlO2E"
   },
   "outputs": [],
   "source": [
    "run('S2')"
   ]
  },
  {
   "cell_type": "code",
   "execution_count": 0,
   "metadata": {
    "colab": {},
    "colab_type": "code",
    "id": "SzXbZY7llRHU"
   },
   "outputs": [],
   "source": [
    "run('S3')"
   ]
  },
  {
   "cell_type": "code",
   "execution_count": 0,
   "metadata": {
    "colab": {},
    "colab_type": "code",
    "id": "wZ_iGIzUwNc5"
   },
   "outputs": [],
   "source": [
    "files.download(\"/content/S3_accuracies.npy\")"
   ]
  },
  {
   "cell_type": "code",
   "execution_count": 0,
   "metadata": {
    "colab": {},
    "colab_type": "code",
    "id": "Kj9cBIWHJpSA"
   },
   "outputs": [],
   "source": [
    "run('S4')"
   ]
  },
  {
   "cell_type": "code",
   "execution_count": 0,
   "metadata": {
    "colab": {},
    "colab_type": "code",
    "id": "qBfwdy9hwRby"
   },
   "outputs": [],
   "source": [
    "files.download(\"/content/S4_accuracies.npy\")"
   ]
  },
  {
   "cell_type": "code",
   "execution_count": 0,
   "metadata": {
    "colab": {},
    "colab_type": "code",
    "id": "sKIc4WGgJrC8"
   },
   "outputs": [],
   "source": [
    "run('S2')"
   ]
  },
  {
   "cell_type": "code",
   "execution_count": 0,
   "metadata": {
    "colab": {},
    "colab_type": "code",
    "id": "N3Uh-tQ4lRVZ"
   },
   "outputs": [],
   "source": [
    "files.download(\"/content/S2_accuracies.npy\")"
   ]
  },
  {
   "cell_type": "code",
   "execution_count": 0,
   "metadata": {
    "colab": {
     "base_uri": "https://localhost:8080/",
     "height": 557
    },
    "colab_type": "code",
    "executionInfo": {
     "elapsed": 4120,
     "status": "ok",
     "timestamp": 1573415140676,
     "user": {
      "displayName": "Kritika Gupta",
      "photoUrl": "https://lh3.googleusercontent.com/a-/AAuE7mCgwK3Moc4SnVPKwBeZeYUEdvlrnhYWLjYp7qtZWQ=s64",
      "userId": "12877228453155369040"
     },
     "user_tz": -330
    },
    "id": "qG7-L5QedYsK",
    "outputId": "d8e4a6ed-08fb-480c-a8bf-3b40b6b67d45"
   },
   "outputs": [
    {
     "data": {
      "image/png": "[encoded data removed]",
      "text/plain": [
       "<Figure size 432x288 with 1 Axes>"
      ]
     },
     "metadata": {
      "tags": []
     },
     "output_type": "display_data"
    },
    {
     "data": {
      "image/png": "[encoded data removed]",
      "text/plain": [
       "<Figure size 432x288 with 1 Axes>"
      ]
     },
     "metadata": {
      "tags": []
     },
     "output_type": "display_data"
    }
   ],
   "source": [
    "plt.figure()\n",
    "accuracies = np.zeros((32, 1))\n",
    "for i in range(1, 6):\n",
    " \n",
    "  acc = np.load(\"/content/drive/My Drive/ML4DM_data/Results/S\"+str(i)+\"_accuracies.npy\", allow_pickle=True)\n",
    "  acc = acc.item()\n",
    "  accuracies += np.asarray(list(acc.values())).reshape(-1, 1)\n",
    "  plt.plot(list(acc.keys()), list(acc.values()), label = \"Subject \"+str(i))\n",
    "plt.xlabel(\"Time Stamp (T)\")\n",
    "plt.ylabel(\"Accuracy (in %)\")\n",
    "plt.legend(loc = 0)\n",
    "plt.show()\n",
    "\n",
    "  \n",
    "# print((accuracies))\n",
    "plt.figure()\n",
    "plt.title('Binary Classification Accuracies')\n",
    "plt.plot(list(acc.keys()), accuracies/5)\n",
    "plt.xlabel(\"Time Stamp (T)\")\n",
    "plt.ylabel(\"Accuracy (in %)\")\n",
    "# plt.savefig(\"S3_binary.png\", dpi = 300)\n",
    "plt.show()"
   ]
  }
 ],
 "metadata": {
  "colab": {
   "collapsed_sections": [],
   "name": "ML4DM_assignment_q1_part1.ipynb",
   "provenance": []
  },
  "kernelspec": {
   "display_name": "Python 3",
   "language": "python",
   "name": "python3"
  },
  "language_info": {
   "codemirror_mode": {
    "name": "ipython",
    "version": 3
   },
   "file_extension": ".py",
   "mimetype": "text/x-python",
   "name": "python",
   "nbconvert_exporter": "python",
   "pygments_lexer": "ipython3",
   "version": "3.8.2"
  }
 },
 "nbformat": 4,
 "nbformat_minor": 1
}
