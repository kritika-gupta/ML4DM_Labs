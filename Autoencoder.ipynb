{
 "cells": [
  {
   "cell_type": "markdown",
   "metadata": {
    "colab_type": "text",
    "id": "5eicFOmOVh1B"
   },
   "source": [
    "## Auto encoder"
   ]
  },
  {
   "cell_type": "code",
   "execution_count": 1,
   "metadata": {
    "colab": {
     "base_uri": "https://localhost:8080/",
     "height": 171
    },
    "colab_type": "code",
    "executionInfo": {
     "elapsed": 19607,
     "status": "ok",
     "timestamp": 1574108760524,
     "user": {
      "displayName": "Kritika Gupta",
      "photoUrl": "https://lh3.googleusercontent.com/a-/AAuE7mCgwK3Moc4SnVPKwBeZeYUEdvlrnhYWLjYp7qtZWQ=s64",
      "userId": "12877228453155369040"
     },
     "user_tz": -330
    },
    "id": "P86zAy7Qefi9",
    "outputId": "f0e44da1-3b6e-490c-e3a1-44e795323ef0"
   },
   "outputs": [
    {
     "data": {
      "text/html": [
       "<p style=\"color: red;\">\n",
       "The default version of TensorFlow in Colab will soon switch to TensorFlow 2.x.<br>\n",
       "We recommend you <a href=\"https://www.tensorflow.org/guide/migrate\" target=\"_blank\">upgrade</a> now \n",
       "or ensure your notebook will continue to use TensorFlow 1.x via the <code>%tensorflow_version 1.x</code> magic:\n",
       "<a href=\"https://colab.research.google.com/notebooks/tensorflow_version.ipynb\" target=\"_blank\">more info</a>.</p>\n"
      ],
      "text/plain": [
       "<IPython.core.display.HTML object>"
      ]
     },
     "metadata": {
      "tags": []
     },
     "output_type": "display_data"
    },
    {
     "name": "stdout",
     "output_type": "stream",
     "text": [
      "Go to this URL in a browser: https://accounts.google.com/o/oauth2/auth?client_id=947318989803-6bn6qk8qdgf4n4g3pfee6491hc0brc4i.apps.googleusercontent.com&redirect_uri=urn%3aietf%3awg%3aoauth%3a2.0%3aoob&response_type=code&scope=email%20https%3a%2f%2fwww.googleapis.com%2fauth%2fdocs.test%20https%3a%2f%2fwww.googleapis.com%2fauth%2fdrive%20https%3a%2f%2fwww.googleapis.com%2fauth%2fdrive.photos.readonly%20https%3a%2f%2fwww.googleapis.com%2fauth%2fpeopleapi.readonly\n",
      "\n",
      "Enter your authorization code:\n",
      "··········\n",
      "Mounted at /content/drive\n"
     ]
    }
   ],
   "source": [
    "import scipy.io\n",
    "import numpy as np\n",
    "from sklearn.decomposition import PCA\n",
    "from sklearn.preprocessing import StandardScaler\n",
    "from sklearn.model_selection import train_test_split\n",
    "from tensorflow.keras.models import Sequential\n",
    "from tensorflow.keras.layers import Dense, Flatten\n",
    "from sklearn.model_selection import StratifiedKFold\n",
    "from tensorflow.keras.callbacks import EarlyStopping \n",
    "\n",
    "from tensorflow.keras import datasets\n",
    "import matplotlib.pyplot as plt\n",
    "from google.colab import drive\n",
    "drive.mount('/content/drive')"
   ]
  },
  {
   "cell_type": "code",
   "execution_count": 2,
   "metadata": {
    "colab": {
     "base_uri": "https://localhost:8080/",
     "height": 34
    },
    "colab_type": "code",
    "executionInfo": {
     "elapsed": 7567,
     "status": "ok",
     "timestamp": 1574108769559,
     "user": {
      "displayName": "Kritika Gupta",
      "photoUrl": "https://lh3.googleusercontent.com/a-/AAuE7mCgwK3Moc4SnVPKwBeZeYUEdvlrnhYWLjYp7qtZWQ=s64",
      "userId": "12877228453155369040"
     },
     "user_tz": -330
    },
    "id": "x1anIKmqfImE",
    "outputId": "652ea602-555d-42cc-9af7-3618ccb12351"
   },
   "outputs": [
    {
     "name": "stdout",
     "output_type": "stream",
     "text": [
      "dict_keys(['__header__', '__version__', '__globals__', 'D', 'SR', 'class_label', 'time_vect'])\n"
     ]
    }
   ],
   "source": [
    "mat = scipy.io.loadmat('/content/drive/My Drive/ML4DM_data/SUB_100307_S2.mat')\n",
    "print(mat.keys())"
   ]
  },
  {
   "cell_type": "code",
   "execution_count": 3,
   "metadata": {
    "colab": {
     "base_uri": "https://localhost:8080/",
     "height": 52
    },
    "colab_type": "code",
    "executionInfo": {
     "elapsed": 11179,
     "status": "ok",
     "timestamp": 1574108773496,
     "user": {
      "displayName": "Kritika Gupta",
      "photoUrl": "https://lh3.googleusercontent.com/a-/AAuE7mCgwK3Moc4SnVPKwBeZeYUEdvlrnhYWLjYp7qtZWQ=s64",
      "userId": "12877228453155369040"
     },
     "user_tz": -330
    },
    "id": "QuuY_dKCfxnl",
    "outputId": "e7316485-7442-4265-d195-fc449e12ec7e"
   },
   "outputs": [
    {
     "name": "stdout",
     "output_type": "stream",
     "text": [
      "(240, 2035, 124)\n",
      "(240, 252340)\n"
     ]
    }
   ],
   "source": [
    "D = mat['D']\n",
    "print(D.shape)\n",
    "D2 = D.reshape(D.shape[0], -1)\n",
    "print(D2.shape)\n",
    "D2_scaled = StandardScaler().fit_transform(D2)"
   ]
  },
  {
   "cell_type": "code",
   "execution_count": 4,
   "metadata": {
    "colab": {
     "base_uri": "https://localhost:8080/",
     "height": 34
    },
    "colab_type": "code",
    "executionInfo": {
     "elapsed": 10354,
     "status": "ok",
     "timestamp": 1574108773499,
     "user": {
      "displayName": "Kritika Gupta",
      "photoUrl": "https://lh3.googleusercontent.com/a-/AAuE7mCgwK3Moc4SnVPKwBeZeYUEdvlrnhYWLjYp7qtZWQ=s64",
      "userId": "12877228453155369040"
     },
     "user_tz": -330
    },
    "id": "8vRG4_dlmBum",
    "outputId": "851142c2-5607-466b-b55b-488ec9e0ef66"
   },
   "outputs": [
    {
     "name": "stdout",
     "output_type": "stream",
     "text": [
      "(124, 1)\n"
     ]
    }
   ],
   "source": [
    "labels = mat['class_label']\n",
    "print(labels.shape)"
   ]
  },
  {
   "cell_type": "code",
   "execution_count": 5,
   "metadata": {
    "colab": {
     "base_uri": "https://localhost:8080/",
     "height": 86
    },
    "colab_type": "code",
    "executionInfo": {
     "elapsed": 40444,
     "status": "ok",
     "timestamp": 1574108804507,
     "user": {
      "displayName": "Kritika Gupta",
      "photoUrl": "https://lh3.googleusercontent.com/a-/AAuE7mCgwK3Moc4SnVPKwBeZeYUEdvlrnhYWLjYp7qtZWQ=s64",
      "userId": "12877228453155369040"
     },
     "user_tz": -330
    },
    "id": "TUHU_PR1gZTo",
    "outputId": "30ad8632-9a2f-4592-9fc4-f2142f649bfa"
   },
   "outputs": [
    {
     "name": "stdout",
     "output_type": "stream",
     "text": [
      "Components =  85\n",
      "(240, 85)\n",
      "(240, 252340)\n",
      "RMSE =  0.22309658735769633\n"
     ]
    }
   ],
   "source": [
    "pca = PCA(.95)\n",
    "pca.fit(D2_scaled)\n",
    "print(\"Components = \", pca.n_components_)\n",
    "data_pca = pca.transform(D2_scaled)\n",
    "print(data_pca.shape)\n",
    "reprojection = data_pca@pca.components_\n",
    "print(reprojection.shape)\n",
    "from sklearn.metrics import mean_squared_error\n",
    "mse = mean_squared_error(D2_scaled, reprojection)\n",
    "print(\"RMSE = \", np.sqrt(mse))"
   ]
  },
  {
   "cell_type": "markdown",
   "metadata": {
    "colab_type": "text",
    "id": "N2hXxIkrkNuG"
   },
   "source": [
    "# Auto encoder"
   ]
  },
  {
   "cell_type": "code",
   "execution_count": 6,
   "metadata": {
    "colab": {
     "base_uri": "https://localhost:8080/",
     "height": 34
    },
    "colab_type": "code",
    "executionInfo": {
     "elapsed": 1503,
     "status": "ok",
     "timestamp": 1574108806028,
     "user": {
      "displayName": "Kritika Gupta",
      "photoUrl": "https://lh3.googleusercontent.com/a-/AAuE7mCgwK3Moc4SnVPKwBeZeYUEdvlrnhYWLjYp7qtZWQ=s64",
      "userId": "12877228453155369040"
     },
     "user_tz": -330
    },
    "id": "OtDYAUEKjur_",
    "outputId": "f6f96d56-a250-4b01-cafa-b1b4b8bec286"
   },
   "outputs": [
    {
     "name": "stderr",
     "output_type": "stream",
     "text": [
      "Using TensorFlow backend.\n"
     ]
    }
   ],
   "source": [
    "from keras.layers import Input, Dense\n",
    "from keras.models import Model"
   ]
  },
  {
   "cell_type": "code",
   "execution_count": 0,
   "metadata": {
    "colab": {
     "base_uri": "https://localhost:8080/",
     "height": 1000
    },
    "colab_type": "code",
    "executionInfo": {
     "elapsed": 35742,
     "status": "ok",
     "timestamp": 1571174303646,
     "user": {
      "displayName": "Kritika Gupta",
      "photoUrl": "https://lh3.googleusercontent.com/a-/AAuE7mCgwK3Moc4SnVPKwBeZeYUEdvlrnhYWLjYp7qtZWQ=s64",
      "userId": "12877228453155369040"
     },
     "user_tz": -330
    },
    "id": "aBgtTkDcoo2a",
    "outputId": "adba69df-f379-4ddd-9cef-d6f459de6360"
   },
   "outputs": [
    {
     "name": "stdout",
     "output_type": "stream",
     "text": [
      "AUTOENCODER STRUCTURE:\n",
      "Model: \"model_2\"\n",
      "_________________________________________________________________\n",
      "Layer (type)                 Output Shape              Param #   \n",
      "=================================================================\n",
      "input_2 (InputLayer)         (None, 252340)            0         \n",
      "_________________________________________________________________\n",
      "dense_3 (Dense)              (None, 85)                21448985  \n",
      "_________________________________________________________________\n",
      "dense_4 (Dense)              (None, 252340)            21701240  \n",
      "=================================================================\n",
      "Total params: 43,150,225\n",
      "Trainable params: 43,150,225\n",
      "Non-trainable params: 0\n",
      "_________________________________________________________________\n",
      "None\n",
      "Train on 192 samples, validate on 48 samples\n",
      "Epoch 1/100\n",
      "WARNING:tensorflow:From /usr/local/lib/python3.6/dist-packages/keras/backend/tensorflow_backend.py:190: The name tf.get_default_session is deprecated. Please use tf.compat.v1.get_default_session instead.\n",
      "\n",
      "WARNING:tensorflow:From /usr/local/lib/python3.6/dist-packages/keras/backend/tensorflow_backend.py:197: The name tf.ConfigProto is deprecated. Please use tf.compat.v1.ConfigProto instead.\n",
      "\n",
      "WARNING:tensorflow:From /usr/local/lib/python3.6/dist-packages/keras/backend/tensorflow_backend.py:207: The name tf.global_variables is deprecated. Please use tf.compat.v1.global_variables instead.\n",
      "\n",
      "WARNING:tensorflow:From /usr/local/lib/python3.6/dist-packages/keras/backend/tensorflow_backend.py:216: The name tf.is_variable_initialized is deprecated. Please use tf.compat.v1.is_variable_initialized instead.\n",
      "\n",
      "WARNING:tensorflow:From /usr/local/lib/python3.6/dist-packages/keras/backend/tensorflow_backend.py:223: The name tf.variables_initializer is deprecated. Please use tf.compat.v1.variables_initializer instead.\n",
      "\n",
      "192/192 [==============================] - 3s 16ms/step - loss: 2.2601 - val_loss: 2.0208\n",
      "Epoch 2/100\n",
      "192/192 [==============================] - 1s 6ms/step - loss: 1.7002 - val_loss: 1.7726\n",
      "Epoch 3/100\n",
      "192/192 [==============================] - 1s 6ms/step - loss: 1.0537 - val_loss: 0.9406\n",
      "Epoch 4/100\n",
      "192/192 [==============================] - 1s 6ms/step - loss: 0.8286 - val_loss: 0.7571\n",
      "Epoch 5/100\n",
      "192/192 [==============================] - 1s 6ms/step - loss: 0.6958 - val_loss: 0.5923\n",
      "Epoch 6/100\n",
      "192/192 [==============================] - 1s 6ms/step - loss: 0.5475 - val_loss: 0.5426\n",
      "Epoch 7/100\n",
      "192/192 [==============================] - 1s 6ms/step - loss: 0.4544 - val_loss: 0.4764\n",
      "Epoch 8/100\n",
      "192/192 [==============================] - 1s 6ms/step - loss: 0.4020 - val_loss: 0.4139\n",
      "Epoch 9/100\n",
      "192/192 [==============================] - 1s 6ms/step - loss: 0.3566 - val_loss: 0.3874\n",
      "Epoch 10/100\n",
      "192/192 [==============================] - 1s 6ms/step - loss: 0.3060 - val_loss: 0.3362\n",
      "Epoch 11/100\n",
      "192/192 [==============================] - 1s 6ms/step - loss: 0.2788 - val_loss: 0.3073\n",
      "Epoch 12/100\n",
      "192/192 [==============================] - 1s 6ms/step - loss: 0.2473 - val_loss: 0.2877\n",
      "Epoch 13/100\n",
      "192/192 [==============================] - 1s 6ms/step - loss: 0.2305 - val_loss: 0.2784\n",
      "Epoch 14/100\n",
      "192/192 [==============================] - 1s 6ms/step - loss: 0.2189 - val_loss: 0.2660\n",
      "Epoch 15/100\n",
      "192/192 [==============================] - 1s 6ms/step - loss: 0.2041 - val_loss: 0.2514\n",
      "Epoch 16/100\n",
      "192/192 [==============================] - 1s 6ms/step - loss: 0.1915 - val_loss: 0.2400\n",
      "Epoch 17/100\n",
      "192/192 [==============================] - 1s 6ms/step - loss: 0.1831 - val_loss: 0.2384\n",
      "Epoch 18/100\n",
      "192/192 [==============================] - 1s 6ms/step - loss: 0.1736 - val_loss: 0.2281\n",
      "Epoch 19/100\n",
      "192/192 [==============================] - 1s 6ms/step - loss: 0.1641 - val_loss: 0.2210\n",
      "Epoch 20/100\n",
      "192/192 [==============================] - 1s 6ms/step - loss: 0.1578 - val_loss: 0.2137\n",
      "Epoch 21/100\n",
      "192/192 [==============================] - 1s 6ms/step - loss: 0.1505 - val_loss: 0.2085\n",
      "Epoch 22/100\n",
      "192/192 [==============================] - 1s 6ms/step - loss: 0.1454 - val_loss: 0.2035\n",
      "Epoch 23/100\n",
      "192/192 [==============================] - 1s 6ms/step - loss: 0.1402 - val_loss: 0.1997\n",
      "Epoch 24/100\n",
      "192/192 [==============================] - 1s 6ms/step - loss: 0.1352 - val_loss: 0.1943\n",
      "Epoch 25/100\n",
      "192/192 [==============================] - 1s 6ms/step - loss: 0.1302 - val_loss: 0.1904\n",
      "Epoch 26/100\n",
      "192/192 [==============================] - 1s 6ms/step - loss: 0.1254 - val_loss: 0.1870\n",
      "Epoch 27/100\n",
      "192/192 [==============================] - 1s 6ms/step - loss: 0.1223 - val_loss: 0.1831\n",
      "Epoch 28/100\n",
      "192/192 [==============================] - 1s 6ms/step - loss: 0.1194 - val_loss: 0.1843\n"
     ]
    },
    {
     "data": {
      "image/png": "[encoded data removed]",
      "text/plain": [
       "<Figure size 432x288 with 1 Axes>"
      ]
     },
     "metadata": {
      "tags": []
     },
     "output_type": "display_data"
    }
   ],
   "source": [
    "input_dim = D2_scaled.shape[1]\n",
    "encoding_dim = pca.n_components_  \n",
    "input_data = Input(shape=(input_dim,))\n",
    "\n",
    "# hidden layer using number of neurons = number of components\n",
    "encoded = Dense(encoding_dim, activation='linear')(input_data)\n",
    "\n",
    "# output layer\n",
    "decoded = Dense(input_dim, activation='linear')(encoded)\n",
    "\n",
    "autoencoder = Model(input_data, decoded)\n",
    "esCallback = EarlyStopping(monitor='val_loss',\n",
    "                             min_delta=0,\n",
    "                             patience=0,\n",
    "                             verbose=0,\n",
    "                             mode='min')\n",
    "autoencoder.compile(optimizer='adam', loss='mse')\n",
    "\n",
    "print(\"AUTOENCODER STRUCTURE:\")\n",
    "print(autoencoder.summary())\n",
    "\n",
    "# train data is X\n",
    "history = autoencoder.fit(D2_scaled, D2_scaled,\n",
    "                epochs=100,\n",
    "                shuffle=True,\n",
    "                validation_split=0.2,\n",
    "                verbose = 1,\n",
    "                callbacks = [esCallback])\n",
    "\n",
    " \n",
    "plt.plot(history.history['loss'])\n",
    "plt.plot(history.history['val_loss'])\n",
    "plt.title('model train vs validation loss')\n",
    "plt.ylabel('loss')\n",
    "plt.xlabel('epoch')\n",
    "plt.legend(['train', 'validation'], loc='upper right')\n",
    "plt.show()\n",
    "\n",
    "\n"
   ]
  },
  {
   "cell_type": "code",
   "execution_count": 0,
   "metadata": {
    "colab": {
     "base_uri": "https://localhost:8080/",
     "height": 512
    },
    "colab_type": "code",
    "executionInfo": {
     "elapsed": 23734,
     "status": "ok",
     "timestamp": 1571174304428,
     "user": {
      "displayName": "Kritika Gupta",
      "photoUrl": "https://lh3.googleusercontent.com/a-/AAuE7mCgwK3Moc4SnVPKwBeZeYUEdvlrnhYWLjYp7qtZWQ=s64",
      "userId": "12877228453155369040"
     },
     "user_tz": -330
    },
    "id": "3ek_owYzO30y",
    "outputId": "5fd14630-9e98-4cfb-bcac-a71548372d95"
   },
   "outputs": [
    {
     "name": "stdout",
     "output_type": "stream",
     "text": [
      "ENCODER STRUCTURE:\n",
      "Model: \"model_3\"\n",
      "_________________________________________________________________\n",
      "Layer (type)                 Output Shape              Param #   \n",
      "=================================================================\n",
      "input_2 (InputLayer)         (None, 252340)            0         \n",
      "_________________________________________________________________\n",
      "dense_3 (Dense)              (None, 85)                21448985  \n",
      "=================================================================\n",
      "Total params: 21,448,985\n",
      "Trainable params: 21,448,985\n",
      "Non-trainable params: 0\n",
      "_________________________________________________________________\n",
      "None\n",
      "DECODER STRUCTURE:\n",
      "Model: \"model_4\"\n",
      "_________________________________________________________________\n",
      "Layer (type)                 Output Shape              Param #   \n",
      "=================================================================\n",
      "input_3 (InputLayer)         (None, 85)                0         \n",
      "_________________________________________________________________\n",
      "dense_4 (Dense)              (None, 252340)            21701240  \n",
      "=================================================================\n",
      "Total params: 21,701,240\n",
      "Trainable params: 21,701,240\n",
      "Non-trainable params: 0\n",
      "_________________________________________________________________\n",
      "None\n"
     ]
    }
   ],
   "source": [
    "# use the encoded layer to encode the training input\n",
    "encoder = Model(input_data, encoded)\n",
    "print(\"ENCODER STRUCTURE:\")\n",
    "print(encoder.summary())\n",
    "\n",
    "encoded_input = Input(shape=(encoding_dim,))\n",
    "decoder_layer = autoencoder.layers[-1]\n",
    "\n",
    "decoder = Model(encoded_input, decoder_layer(encoded_input))\n",
    "print(\"DECODER STRUCTURE:\")\n",
    "print(decoder.summary())\n",
    "\n",
    "encoded_data = encoder.predict(D2_scaled)\n",
    "decoded_data = decoder.predict(encoded_data)"
   ]
  },
  {
   "cell_type": "code",
   "execution_count": 0,
   "metadata": {
    "colab": {
     "base_uri": "https://localhost:8080/",
     "height": 52
    },
    "colab_type": "code",
    "executionInfo": {
     "elapsed": 24183,
     "status": "ok",
     "timestamp": 1571174305241,
     "user": {
      "displayName": "Kritika Gupta",
      "photoUrl": "https://lh3.googleusercontent.com/a-/AAuE7mCgwK3Moc4SnVPKwBeZeYUEdvlrnhYWLjYp7qtZWQ=s64",
      "userId": "12877228453155369040"
     },
     "user_tz": -330
    },
    "id": "biQBhko4sPdC",
    "outputId": "57db2bfa-6c71-4be5-8cb9-98385f6f602c"
   },
   "outputs": [
    {
     "name": "stdout",
     "output_type": "stream",
     "text": [
      "(240, 252340) (240, 252340)\n",
      "RMSE =  0.35925970774173205\n"
     ]
    }
   ],
   "source": [
    "print(D2_scaled.shape, decoded_data.shape)\n",
    "\n",
    "mse = mean_squared_error(D2_scaled, decoded_data)\n",
    "print(\"RMSE = \", np.sqrt(mse))"
   ]
  },
  {
   "cell_type": "code",
   "execution_count": 11,
   "metadata": {
    "colab": {
     "base_uri": "https://localhost:8080/",
     "height": 1000
    },
    "colab_type": "code",
    "executionInfo": {
     "elapsed": 38590,
     "status": "ok",
     "timestamp": 1574108982786,
     "user": {
      "displayName": "Kritika Gupta",
      "photoUrl": "https://lh3.googleusercontent.com/a-/AAuE7mCgwK3Moc4SnVPKwBeZeYUEdvlrnhYWLjYp7qtZWQ=s64",
      "userId": "12877228453155369040"
     },
     "user_tz": -330
    },
    "id": "lun_t-UbXI5i",
    "outputId": "6e99f474-7483-43d0-8e01-d7000c0a1bae"
   },
   "outputs": [
    {
     "name": "stdout",
     "output_type": "stream",
     "text": [
      "AUTOENCODER STRUCTURE:\n",
      "Model: \"model_5\"\n",
      "_________________________________________________________________\n",
      "Layer (type)                 Output Shape              Param #   \n",
      "=================================================================\n",
      "input_4 (InputLayer)         (None, 252340)            0         \n",
      "_________________________________________________________________\n",
      "dense_5 (Dense)              (None, 85)                21448985  \n",
      "_________________________________________________________________\n",
      "dense_6 (Dense)              (None, 252340)            21701240  \n",
      "=================================================================\n",
      "Total params: 43,150,225\n",
      "Trainable params: 43,150,225\n",
      "Non-trainable params: 0\n",
      "_________________________________________________________________\n",
      "None\n",
      "Train on 192 samples, validate on 48 samples\n",
      "Epoch 1/100\n",
      "192/192 [==============================] - 1s 8ms/step - loss: 0.9581 - val_loss: 0.9665\n",
      "Epoch 2/100\n",
      "192/192 [==============================] - 1s 4ms/step - loss: 0.8386 - val_loss: 0.8455\n",
      "Epoch 3/100\n",
      "192/192 [==============================] - 1s 4ms/step - loss: 0.7430 - val_loss: 0.7672\n",
      "Epoch 4/100\n",
      "192/192 [==============================] - 1s 4ms/step - loss: 0.6821 - val_loss: 0.7190\n",
      "Epoch 5/100\n",
      "192/192 [==============================] - 1s 4ms/step - loss: 0.6429 - val_loss: 0.6878\n",
      "Epoch 6/100\n",
      "192/192 [==============================] - 1s 4ms/step - loss: 0.6138 - val_loss: 0.6621\n",
      "Epoch 7/100\n",
      "192/192 [==============================] - 1s 4ms/step - loss: 0.5889 - val_loss: 0.6411\n",
      "Epoch 8/100\n",
      "192/192 [==============================] - 1s 4ms/step - loss: 0.5684 - val_loss: 0.6244\n",
      "Epoch 9/100\n",
      "192/192 [==============================] - 1s 4ms/step - loss: 0.5505 - val_loss: 0.6065\n",
      "Epoch 10/100\n",
      "192/192 [==============================] - 1s 4ms/step - loss: 0.5325 - val_loss: 0.5913\n",
      "Epoch 11/100\n",
      "192/192 [==============================] - 1s 4ms/step - loss: 0.5179 - val_loss: 0.5786\n",
      "Epoch 12/100\n",
      "192/192 [==============================] - 1s 4ms/step - loss: 0.5040 - val_loss: 0.5645\n",
      "Epoch 13/100\n",
      "192/192 [==============================] - 1s 4ms/step - loss: 0.4906 - val_loss: 0.5530\n",
      "Epoch 14/100\n",
      "192/192 [==============================] - 1s 4ms/step - loss: 0.4797 - val_loss: 0.5430\n",
      "Epoch 15/100\n",
      "192/192 [==============================] - 1s 4ms/step - loss: 0.4708 - val_loss: 0.5345\n",
      "Epoch 16/100\n",
      "192/192 [==============================] - 1s 4ms/step - loss: 0.4628 - val_loss: 0.5273\n",
      "Epoch 17/100\n",
      "192/192 [==============================] - 1s 4ms/step - loss: 0.4535 - val_loss: 0.5186\n",
      "Epoch 18/100\n",
      "192/192 [==============================] - 1s 4ms/step - loss: 0.4463 - val_loss: 0.5124\n",
      "Epoch 19/100\n",
      "192/192 [==============================] - 1s 4ms/step - loss: 0.4394 - val_loss: 0.5057\n",
      "Epoch 20/100\n",
      "192/192 [==============================] - 1s 4ms/step - loss: 0.4335 - val_loss: 0.4999\n",
      "Epoch 21/100\n",
      "192/192 [==============================] - 1s 4ms/step - loss: 0.4267 - val_loss: 0.4931\n",
      "Epoch 22/100\n",
      "192/192 [==============================] - 1s 4ms/step - loss: 0.4211 - val_loss: 0.4874\n",
      "Epoch 23/100\n",
      "192/192 [==============================] - 1s 4ms/step - loss: 0.4167 - val_loss: 0.4825\n",
      "Epoch 24/100\n",
      "192/192 [==============================] - 1s 4ms/step - loss: 0.4119 - val_loss: 0.4774\n",
      "Epoch 25/100\n",
      "192/192 [==============================] - 1s 4ms/step - loss: 0.4067 - val_loss: 0.4729\n",
      "Epoch 26/100\n",
      "192/192 [==============================] - 1s 4ms/step - loss: 0.4028 - val_loss: 0.4696\n",
      "Epoch 27/100\n",
      "192/192 [==============================] - 1s 4ms/step - loss: 0.3990 - val_loss: 0.4667\n",
      "Epoch 28/100\n",
      "192/192 [==============================] - 1s 4ms/step - loss: 0.3944 - val_loss: 0.4644\n",
      "Epoch 29/100\n",
      "192/192 [==============================] - 1s 4ms/step - loss: 0.3907 - val_loss: 0.4623\n",
      "Epoch 30/100\n",
      "192/192 [==============================] - 1s 4ms/step - loss: 0.3876 - val_loss: 0.4590\n",
      "Epoch 31/100\n",
      "192/192 [==============================] - 1s 4ms/step - loss: 0.3840 - val_loss: 0.4566\n",
      "Epoch 32/100\n",
      "192/192 [==============================] - 1s 4ms/step - loss: 0.3803 - val_loss: 0.4541\n",
      "Epoch 33/100\n",
      "192/192 [==============================] - 1s 4ms/step - loss: 0.3775 - val_loss: 0.4530\n",
      "Epoch 34/100\n",
      "192/192 [==============================] - 1s 4ms/step - loss: 0.3754 - val_loss: 0.4513\n",
      "Epoch 35/100\n",
      "192/192 [==============================] - 1s 4ms/step - loss: 0.3729 - val_loss: 0.4506\n",
      "Epoch 36/100\n",
      "192/192 [==============================] - 1s 4ms/step - loss: 0.3701 - val_loss: 0.4481\n",
      "Epoch 37/100\n",
      "192/192 [==============================] - 1s 4ms/step - loss: 0.3675 - val_loss: 0.4452\n",
      "Epoch 38/100\n",
      "192/192 [==============================] - 1s 4ms/step - loss: 0.3653 - val_loss: 0.4439\n",
      "Epoch 39/100\n",
      "192/192 [==============================] - 1s 4ms/step - loss: 0.3630 - val_loss: 0.4421\n",
      "Epoch 40/100\n",
      "192/192 [==============================] - 1s 4ms/step - loss: 0.3611 - val_loss: 0.4421\n",
      "Epoch 41/100\n",
      "192/192 [==============================] - 1s 4ms/step - loss: 0.3598 - val_loss: 0.4405\n",
      "Epoch 42/100\n",
      "192/192 [==============================] - 1s 4ms/step - loss: 0.3575 - val_loss: 0.4386\n",
      "Epoch 43/100\n",
      "192/192 [==============================] - 1s 4ms/step - loss: 0.3554 - val_loss: 0.4367\n",
      "Epoch 44/100\n",
      "192/192 [==============================] - 1s 4ms/step - loss: 0.3534 - val_loss: 0.4345\n",
      "Epoch 45/100\n",
      "192/192 [==============================] - 1s 4ms/step - loss: 0.3514 - val_loss: 0.4351\n"
     ]
    },
    {
     "data": {
      "image/png": "[encoded data removed]",
      "text/plain": [
       "<Figure size 432x288 with 1 Axes>"
      ]
     },
     "metadata": {
      "tags": []
     },
     "output_type": "display_data"
    }
   ],
   "source": [
    "input_dim = D2_scaled.shape[1]\n",
    "encoding_dim = pca.n_components_  \n",
    "input_data = Input(shape=(input_dim,))\n",
    "\n",
    "# hidden layer using number of neurons = number of components\n",
    "encoded = Dense(encoding_dim, activation='tanh')(input_data)\n",
    "\n",
    "# output layer\n",
    "decoded = Dense(input_dim, activation='tanh')(encoded)\n",
    "\n",
    "autoencoder = Model(input_data, decoded)\n",
    "esCallback = EarlyStopping(monitor='val_loss',\n",
    "                             min_delta=0,\n",
    "                             patience=0,\n",
    "                             verbose=0,\n",
    "                             mode='min')\n",
    "autoencoder.compile(optimizer='adam', loss='mse')\n",
    "\n",
    "print(\"AUTOENCODER STRUCTURE:\")\n",
    "print(autoencoder.summary())\n",
    "\n",
    "# train data is X\n",
    "history = autoencoder.fit(D2_scaled, D2_scaled,\n",
    "                epochs=100,\n",
    "                shuffle=True,\n",
    "                validation_split=0.2,\n",
    "                verbose = 1,\n",
    "                callbacks = [esCallback])\n",
    "\n",
    " \n",
    "plt.plot(history.history['loss'])\n",
    "plt.plot(history.history['val_loss'])\n",
    "plt.title('model train vs validation loss')\n",
    "plt.ylabel('loss')\n",
    "plt.xlabel('epoch')\n",
    "plt.legend(['train', 'validation'], loc='upper right')\n",
    "plt.show()\n",
    "\n",
    "\n"
   ]
  },
  {
   "cell_type": "code",
   "execution_count": 12,
   "metadata": {
    "colab": {
     "base_uri": "https://localhost:8080/",
     "height": 503
    },
    "colab_type": "code",
    "executionInfo": {
     "elapsed": 12018,
     "status": "ok",
     "timestamp": 1574108983216,
     "user": {
      "displayName": "Kritika Gupta",
      "photoUrl": "https://lh3.googleusercontent.com/a-/AAuE7mCgwK3Moc4SnVPKwBeZeYUEdvlrnhYWLjYp7qtZWQ=s64",
      "userId": "12877228453155369040"
     },
     "user_tz": -330
    },
    "id": "S4IAuuP1Meak",
    "outputId": "9003125f-91bf-4444-966a-63445f343960"
   },
   "outputs": [
    {
     "name": "stdout",
     "output_type": "stream",
     "text": [
      "ENCODER STRUCTURE:\n",
      "Model: \"model_6\"\n",
      "_________________________________________________________________\n",
      "Layer (type)                 Output Shape              Param #   \n",
      "=================================================================\n",
      "input_4 (InputLayer)         (None, 252340)            0         \n",
      "_________________________________________________________________\n",
      "dense_5 (Dense)              (None, 85)                21448985  \n",
      "=================================================================\n",
      "Total params: 21,448,985\n",
      "Trainable params: 21,448,985\n",
      "Non-trainable params: 0\n",
      "_________________________________________________________________\n",
      "None\n",
      "DECODER STRUCTURE:\n",
      "Model: \"model_7\"\n",
      "_________________________________________________________________\n",
      "Layer (type)                 Output Shape              Param #   \n",
      "=================================================================\n",
      "input_5 (InputLayer)         (None, 85)                0         \n",
      "_________________________________________________________________\n",
      "dense_6 (Dense)              (None, 252340)            21701240  \n",
      "=================================================================\n",
      "Total params: 21,701,240\n",
      "Trainable params: 21,701,240\n",
      "Non-trainable params: 0\n",
      "_________________________________________________________________\n",
      "None\n"
     ]
    }
   ],
   "source": [
    "# use the encoded layer to encode the training input\n",
    "encoder = Model(input_data, encoded)\n",
    "print(\"ENCODER STRUCTURE:\")\n",
    "print(encoder.summary())\n",
    "\n",
    "encoded_input = Input(shape=(encoding_dim,))\n",
    "decoder_layer = autoencoder.layers[-1]\n",
    "\n",
    "decoder = Model(encoded_input, decoder_layer(encoded_input))\n",
    "print(\"DECODER STRUCTURE:\")\n",
    "print(decoder.summary())\n",
    "\n",
    "encoded_data = encoder.predict(D2_scaled)\n",
    "decoded_data = decoder.predict(encoded_data)"
   ]
  },
  {
   "cell_type": "code",
   "execution_count": 13,
   "metadata": {
    "colab": {
     "base_uri": "https://localhost:8080/",
     "height": 52
    },
    "colab_type": "code",
    "executionInfo": {
     "elapsed": 11914,
     "status": "ok",
     "timestamp": 1574108983656,
     "user": {
      "displayName": "Kritika Gupta",
      "photoUrl": "https://lh3.googleusercontent.com/a-/AAuE7mCgwK3Moc4SnVPKwBeZeYUEdvlrnhYWLjYp7qtZWQ=s64",
      "userId": "12877228453155369040"
     },
     "user_tz": -330
    },
    "id": "DFZkJjCuMlC8",
    "outputId": "73a9446b-c2fd-44d0-eeff-9e7ce997097b"
   },
   "outputs": [
    {
     "name": "stdout",
     "output_type": "stream",
     "text": [
      "(240, 252340) (240, 252340)\n",
      "RMSE =  0.6059370861927666\n"
     ]
    }
   ],
   "source": [
    "print(D2_scaled.shape, decoded_data.shape)\n",
    "\n",
    "mse = mean_squared_error(D2_scaled, decoded_data)\n",
    "print(\"RMSE = \", np.sqrt(mse))"
   ]
  },
  {
   "cell_type": "code",
   "execution_count": 0,
   "metadata": {
    "colab": {},
    "colab_type": "code",
    "id": "d5wzTt1dMnNf"
   },
   "outputs": [],
   "source": []
  }
 ],
 "metadata": {
  "accelerator": "GPU",
  "colab": {
   "collapsed_sections": [],
   "name": "ML4DM_assignment_q2.ipynb",
   "provenance": []
  },
  "kernelspec": {
   "display_name": "Python 3",
   "language": "python",
   "name": "python3"
  },
  "language_info": {
   "codemirror_mode": {
    "name": "ipython",
    "version": 3
   },
   "file_extension": ".py",
   "mimetype": "text/x-python",
   "name": "python",
   "nbconvert_exporter": "python",
   "pygments_lexer": "ipython3",
   "version": "3.8.2"
  }
 },
 "nbformat": 4,
 "nbformat_minor": 1
}
