{
 "cells": [
  {
   "cell_type": "markdown",
   "metadata": {
    "colab_type": "text",
    "id": "daFxzKvcUgwR"
   },
   "source": [
    "## Implementation of Auxiliary Classifiers (Inception v1 architecture (GoogleNet))"
   ]
  },
  {
   "cell_type": "code",
   "execution_count": 0,
   "metadata": {
    "colab": {},
    "colab_type": "code",
    "id": "UTNcEBqp56H2"
   },
   "outputs": [],
   "source": [
    "import numpy as np\n",
    "from google.colab import files\n",
    "import matplotlib.pyplot as plt\n",
    "from sklearn.model_selection import train_test_split\n",
    "from tensorflow.keras.models import Sequential\n",
    "from tensorflow.keras.layers import Flatten, Dense\n",
    "from tensorflow.keras import datasets\n",
    "from tensorflow.keras.callbacks import EarlyStopping\n",
    "from tensorflow.keras.layers import Input, Dense, BatchNormalization, Activation\n",
    "from tensorflow.keras.models import Model\n",
    "from tensorflow.keras.layers import Conv2D, AveragePooling2D, MaxPooling2D, add, concatenate\n",
    "from tensorflow.keras.optimizers import Adam, SGD\n",
    "from tensorflow.keras.utils import to_categorical"
   ]
  },
  {
   "cell_type": "markdown",
   "metadata": {},
   "source": [
    "### Load CIFAR10 dataset"
   ]
  },
  {
   "cell_type": "code",
   "execution_count": 0,
   "metadata": {
    "colab": {
     "base_uri": "https://localhost:8080/",
     "height": 69
    },
    "colab_type": "code",
    "executionInfo": {
     "elapsed": 11674,
     "status": "ok",
     "timestamp": 1573590967741,
     "user": {
      "displayName": "Kritika Gupta",
      "photoUrl": "https://lh3.googleusercontent.com/a-/AAuE7mCgwK3Moc4SnVPKwBeZeYUEdvlrnhYWLjYp7qtZWQ=s64",
      "userId": "12877228453155369040"
     },
     "user_tz": -330
    },
    "id": "n_6RUvmIbPJn",
    "outputId": "c601b30b-1906-47f7-a73c-90edfc6cd7f7"
   },
   "outputs": [
    {
     "name": "stdout",
     "output_type": "stream",
     "text": [
      "Downloading data from https://www.cs.toronto.edu/~kriz/cifar-10-python.tar.gz\n",
      "170500096/170498071 [==============================] - 6s 0us/step\n",
      "(50000, 32, 32, 3) (10000, 32, 32, 3)\n"
     ]
    }
   ],
   "source": [
    "data = datasets.cifar10.load_data()\n",
    "((x_train, y_train), (x_test, y_test)) = data\n",
    "print(x_train.shape, x_test.shape)"
   ]
  },
  {
   "cell_type": "code",
   "execution_count": 0,
   "metadata": {
    "colab": {
     "base_uri": "https://localhost:8080/",
     "height": 35
    },
    "colab_type": "code",
    "executionInfo": {
     "elapsed": 12257,
     "status": "ok",
     "timestamp": 1573590968333,
     "user": {
      "displayName": "Kritika Gupta",
      "photoUrl": "https://lh3.googleusercontent.com/a-/AAuE7mCgwK3Moc4SnVPKwBeZeYUEdvlrnhYWLjYp7qtZWQ=s64",
      "userId": "12877228453155369040"
     },
     "user_tz": -330
    },
    "id": "kDrEtPCLbRR7",
    "outputId": "32ab7138-daa0-4f24-8afe-423b22afa35e"
   },
   "outputs": [
    {
     "name": "stdout",
     "output_type": "stream",
     "text": [
      "Number of classes =  10\n"
     ]
    }
   ],
   "source": [
    "x_train = x_train.astype('float') / 255\n",
    "x_test = x_test.astype('float') / 255\n",
    "num_classes = len(np.unique(y_train))\n",
    "print(\"Number of classes = \", num_classes)"
   ]
  },
  {
   "cell_type": "code",
   "execution_count": 0,
   "metadata": {
    "colab": {},
    "colab_type": "code",
    "id": "o5jl6lzHblG0"
   },
   "outputs": [],
   "source": [
    "y_train = to_categorical(y_train, num_classes)\n",
    "y_test = to_categorical(y_test, num_classes)"
   ]
  },
  {
   "cell_type": "markdown",
   "metadata": {
    "colab_type": "text",
    "id": "k0S_BigHUpum"
   },
   "source": [
    "### Model Construction"
   ]
  },
  {
   "cell_type": "code",
   "execution_count": 0,
   "metadata": {
    "colab": {},
    "colab_type": "code",
    "id": "G5KhTZHRd8Z6"
   },
   "outputs": [],
   "source": [
    "def inception_module(prev_layer):\n",
    "    x1 = Conv2D(filters = 64, kernel_size = (1,1), padding = 'same')(prev_layer)\n",
    "    x2 = Conv2D(filters = 64, kernel_size = (3,3), padding = 'same')(prev_layer)\n",
    "    x3 = Conv2D(filters = 64, kernel_size = (5,5), padding = 'same')(prev_layer)\n",
    "    x4 = MaxPooling2D(strides = (1,1),padding = 'same')(prev_layer)\n",
    "    concat = concatenate([x1,x2,x3,x4] , axis = 3) \n",
    "    return concat\n",
    "\n"
   ]
  },
  {
   "cell_type": "code",
   "execution_count": 0,
   "metadata": {
    "colab": {},
    "colab_type": "code",
    "id": "fNhbVpGqiM4M"
   },
   "outputs": [],
   "source": [
    "def auxiliary_output(prev_layer, numclasses):\n",
    "    aux = AveragePooling2D(pool_size=(5,5), strides = (3,3), padding = 'same')(prev_layer)\n",
    "    aux = Conv2D(filters = 128, kernel_size = (1,1), padding = 'same')(aux)\n",
    "    aux = BatchNormalization()(aux)\n",
    "    aux = Flatten()(aux)\n",
    "    aux = Dense(1024, activation = 'relu')(aux)\n",
    "    aux = Dense(num_classes, activation = 'softmax')(aux)\n",
    "    return aux"
   ]
  },
  {
   "cell_type": "code",
   "execution_count": 0,
   "metadata": {
    "colab": {},
    "colab_type": "code",
    "id": "fXFf1CVfbwJS"
   },
   "outputs": [],
   "source": [
    "input_img = Input(shape=x_train.shape[1:])\n",
    "num_classes = 10\n",
    "\n",
    "def with_aux(input_img, num_classes):\n",
    "  conv1 = Conv2D(15, kernel_size = (3,3))(input_img)\n",
    "  prev_layer = conv1\n",
    "\n",
    "  aux_ouput = []\n",
    "  for i in range(3):\n",
    "      x = inception_module(prev_layer)\n",
    "      x2 = MaxPooling2D( padding = 'same')(x)\n",
    "      prev_layer = x2\n",
    "      aux_ouput.append(auxiliary_output(prev_layer, num_classes))\n",
    "      \n",
    "  avgpool = AveragePooling2D( padding = 'same')(prev_layer)\n",
    "  flat = Flatten()(avgpool)\n",
    "  den1 = Dense(64, activation='relu')(flat)\n",
    "  main_output = Dense(num_classes, activation = 'softmax')(den1)\n",
    "  model = Model(inputs=[input_img], outputs=[main_output]+aux_ouput)\n",
    "  model.summary()\n",
    "  model.compile(loss='categorical_crossentropy',\n",
    "                optimizer='adam',\n",
    "                metrics=['accuracy'])\n",
    "  esCallback = EarlyStopping(monitor='val_loss',\n",
    "                              min_delta=0,\n",
    "                              patience=0,\n",
    "                              verbose=0,\n",
    "                              mode='min')\n",
    "  history = model.fit(x_train,[y_train, y_train, y_train, y_train],\n",
    "                epochs=50,\n",
    "                validation_split=0.1,\n",
    "                shuffle=True,verbose=1, callbacks = [esCallback])\n",
    "\n",
    "\n",
    "  scores = model.evaluate(x_test, [y_test, y_test, y_test, y_test], verbose=1)\n",
    "  print('Test loss:', scores[0])\n",
    "  print('Test accuracy:', scores[1])\n",
    "\n",
    "def without_aux(input_img, num_classes):\n",
    "  conv1 = Conv2D(15, kernel_size = (3,3))(input_img)\n",
    "  prev_layer = conv1\n",
    "\n",
    "  aux_ouput = []\n",
    "  for i in range(3):\n",
    "      x = inception_module(prev_layer)\n",
    "      x2 = MaxPooling2D( padding = 'same')(x)\n",
    "      prev_layer = x2\n",
    "      \n",
    "  avgpool = AveragePooling2D( padding = 'same')(prev_layer)\n",
    "  flat = Flatten()(avgpool)\n",
    "  den1 = Dense(64, activation='relu')(flat)\n",
    "  main_output = Dense(num_classes, activation = 'softmax')(den1)\n",
    "  model = Model(inputs=[input_img], outputs=[main_output])\n",
    "  model.summary()\n",
    "  model.compile(loss='categorical_crossentropy',\n",
    "                optimizer='adam',\n",
    "                metrics=['accuracy'])\n",
    "  esCallback = EarlyStopping(monitor='val_loss',\n",
    "                              min_delta=0,\n",
    "                              patience=0,\n",
    "                              verbose=0,\n",
    "                              mode='min')\n",
    "  history = model.fit(x_train,[y_train],\n",
    "                epochs=50,\n",
    "                validation_split=0.1,\n",
    "                shuffle=True,verbose=1, callbacks = [esCallback])\n",
    "\n",
    "\n",
    "  scores = model.evaluate(x_test, [y_test], verbose=1)\n",
    "  print('Test loss:', scores[0])\n",
    "  print('Test accuracy:', scores[1])"
   ]
  },
  {
   "cell_type": "code",
   "execution_count": 0,
   "metadata": {
    "colab": {
     "base_uri": "https://localhost:8080/",
     "height": 1000
    },
    "colab_type": "code",
    "executionInfo": {
     "elapsed": 164201,
     "status": "ok",
     "timestamp": 1573596190208,
     "user": {
      "displayName": "Kritika Gupta",
      "photoUrl": "https://lh3.googleusercontent.com/a-/AAuE7mCgwK3Moc4SnVPKwBeZeYUEdvlrnhYWLjYp7qtZWQ=s64",
      "userId": "12877228453155369040"
     },
     "user_tz": -330
    },
    "id": "yqoYZb43jL_4",
    "outputId": "b9e309c6-8de8-48f1-acd7-138519eb7d49"
   },
   "outputs": [
    {
     "name": "stdout",
     "output_type": "stream",
     "text": [
      "Model: \"model_4\"\n",
      "__________________________________________________________________________________________________\n",
      "Layer (type)                    Output Shape         Param #     Connected to                     \n",
      "==================================================================================================\n",
      "input_9 (InputLayer)            [(None, 32, 32, 3)]  0                                            \n",
      "__________________________________________________________________________________________________\n",
      "conv2d_85 (Conv2D)              (None, 30, 30, 15)   420         input_9[0][0]                    \n",
      "__________________________________________________________________________________________________\n",
      "conv2d_86 (Conv2D)              (None, 30, 30, 64)   1024        conv2d_85[0][0]                  \n",
      "__________________________________________________________________________________________________\n",
      "conv2d_87 (Conv2D)              (None, 30, 30, 64)   8704        conv2d_85[0][0]                  \n",
      "__________________________________________________________________________________________________\n",
      "conv2d_88 (Conv2D)              (None, 30, 30, 64)   24064       conv2d_85[0][0]                  \n",
      "__________________________________________________________________________________________________\n",
      "max_pooling2d_44 (MaxPooling2D) (None, 30, 30, 15)   0           conv2d_85[0][0]                  \n",
      "__________________________________________________________________________________________________\n",
      "concatenate_22 (Concatenate)    (None, 30, 30, 207)  0           conv2d_86[0][0]                  \n",
      "                                                                 conv2d_87[0][0]                  \n",
      "                                                                 conv2d_88[0][0]                  \n",
      "                                                                 max_pooling2d_44[0][0]           \n",
      "__________________________________________________________________________________________________\n",
      "max_pooling2d_45 (MaxPooling2D) (None, 15, 15, 207)  0           concatenate_22[0][0]             \n",
      "__________________________________________________________________________________________________\n",
      "conv2d_90 (Conv2D)              (None, 15, 15, 64)   13312       max_pooling2d_45[0][0]           \n",
      "__________________________________________________________________________________________________\n",
      "conv2d_91 (Conv2D)              (None, 15, 15, 64)   119296      max_pooling2d_45[0][0]           \n",
      "__________________________________________________________________________________________________\n",
      "conv2d_92 (Conv2D)              (None, 15, 15, 64)   331264      max_pooling2d_45[0][0]           \n",
      "__________________________________________________________________________________________________\n",
      "max_pooling2d_46 (MaxPooling2D) (None, 15, 15, 207)  0           max_pooling2d_45[0][0]           \n",
      "__________________________________________________________________________________________________\n",
      "concatenate_23 (Concatenate)    (None, 15, 15, 399)  0           conv2d_90[0][0]                  \n",
      "                                                                 conv2d_91[0][0]                  \n",
      "                                                                 conv2d_92[0][0]                  \n",
      "                                                                 max_pooling2d_46[0][0]           \n",
      "__________________________________________________________________________________________________\n",
      "max_pooling2d_47 (MaxPooling2D) (None, 8, 8, 399)    0           concatenate_23[0][0]             \n",
      "__________________________________________________________________________________________________\n",
      "conv2d_94 (Conv2D)              (None, 8, 8, 64)     25600       max_pooling2d_47[0][0]           \n",
      "__________________________________________________________________________________________________\n",
      "conv2d_95 (Conv2D)              (None, 8, 8, 64)     229888      max_pooling2d_47[0][0]           \n",
      "__________________________________________________________________________________________________\n",
      "conv2d_96 (Conv2D)              (None, 8, 8, 64)     638464      max_pooling2d_47[0][0]           \n",
      "__________________________________________________________________________________________________\n",
      "max_pooling2d_48 (MaxPooling2D) (None, 8, 8, 399)    0           max_pooling2d_47[0][0]           \n",
      "__________________________________________________________________________________________________\n",
      "concatenate_24 (Concatenate)    (None, 8, 8, 591)    0           conv2d_94[0][0]                  \n",
      "                                                                 conv2d_95[0][0]                  \n",
      "                                                                 conv2d_96[0][0]                  \n",
      "                                                                 max_pooling2d_48[0][0]           \n",
      "__________________________________________________________________________________________________\n",
      "max_pooling2d_49 (MaxPooling2D) (None, 4, 4, 591)    0           concatenate_24[0][0]             \n",
      "__________________________________________________________________________________________________\n",
      "average_pooling2d_12 (AveragePo (None, 5, 5, 207)    0           max_pooling2d_45[0][0]           \n",
      "__________________________________________________________________________________________________\n",
      "average_pooling2d_13 (AveragePo (None, 3, 3, 399)    0           max_pooling2d_47[0][0]           \n",
      "__________________________________________________________________________________________________\n",
      "average_pooling2d_14 (AveragePo (None, 2, 2, 591)    0           max_pooling2d_49[0][0]           \n",
      "__________________________________________________________________________________________________\n",
      "conv2d_89 (Conv2D)              (None, 5, 5, 128)    26624       average_pooling2d_12[0][0]       \n",
      "__________________________________________________________________________________________________\n",
      "conv2d_93 (Conv2D)              (None, 3, 3, 128)    51200       average_pooling2d_13[0][0]       \n",
      "__________________________________________________________________________________________________\n",
      "conv2d_97 (Conv2D)              (None, 2, 2, 128)    75776       average_pooling2d_14[0][0]       \n",
      "__________________________________________________________________________________________________\n",
      "average_pooling2d_15 (AveragePo (None, 2, 2, 591)    0           max_pooling2d_49[0][0]           \n",
      "__________________________________________________________________________________________________\n",
      "batch_normalization_11 (BatchNo (None, 5, 5, 128)    512         conv2d_89[0][0]                  \n",
      "__________________________________________________________________________________________________\n",
      "batch_normalization_12 (BatchNo (None, 3, 3, 128)    512         conv2d_93[0][0]                  \n",
      "__________________________________________________________________________________________________\n",
      "batch_normalization_13 (BatchNo (None, 2, 2, 128)    512         conv2d_97[0][0]                  \n",
      "__________________________________________________________________________________________________\n",
      "flatten_12 (Flatten)            (None, 2364)         0           average_pooling2d_15[0][0]       \n",
      "__________________________________________________________________________________________________\n",
      "flatten_9 (Flatten)             (None, 3200)         0           batch_normalization_11[0][0]     \n",
      "__________________________________________________________________________________________________\n",
      "flatten_10 (Flatten)            (None, 1152)         0           batch_normalization_12[0][0]     \n",
      "__________________________________________________________________________________________________\n",
      "flatten_11 (Flatten)            (None, 512)          0           batch_normalization_13[0][0]     \n",
      "__________________________________________________________________________________________________\n",
      "dense_40 (Dense)                (None, 64)           151360      flatten_12[0][0]                 \n",
      "__________________________________________________________________________________________________\n",
      "dense_34 (Dense)                (None, 1024)         3277824     flatten_9[0][0]                  \n",
      "__________________________________________________________________________________________________\n",
      "dense_36 (Dense)                (None, 1024)         1180672     flatten_10[0][0]                 \n",
      "__________________________________________________________________________________________________\n",
      "dense_38 (Dense)                (None, 1024)         525312      flatten_11[0][0]                 \n",
      "__________________________________________________________________________________________________\n",
      "dense_41 (Dense)                (None, 10)           650         dense_40[0][0]                   \n",
      "__________________________________________________________________________________________________\n",
      "dense_35 (Dense)                (None, 10)           10250       dense_34[0][0]                   \n",
      "__________________________________________________________________________________________________\n",
      "dense_37 (Dense)                (None, 10)           10250       dense_36[0][0]                   \n",
      "__________________________________________________________________________________________________\n",
      "dense_39 (Dense)                (None, 10)           10250       dense_38[0][0]                   \n",
      "==================================================================================================\n",
      "Total params: 6,713,740\n",
      "Trainable params: 6,712,972\n",
      "Non-trainable params: 768\n",
      "__________________________________________________________________________________________________\n",
      "Train on 45000 samples, validate on 5000 samples\n",
      "Epoch 1/50\n",
      "45000/45000 [==============================] - 32s 707us/sample - loss: 5.2067 - dense_41_loss: 1.3449 - dense_35_loss: 1.2787 - dense_37_loss: 1.2795 - dense_39_loss: 1.3023 - dense_41_acc: 0.5182 - dense_35_acc: 0.5796 - dense_37_acc: 0.5536 - dense_39_acc: 0.5378 - val_loss: 4.9329 - val_dense_41_loss: 1.1380 - val_dense_35_loss: 1.3220 - val_dense_37_loss: 1.2321 - val_dense_39_loss: 1.2372 - val_dense_41_acc: 0.6108 - val_dense_35_acc: 0.5500 - val_dense_37_acc: 0.5976 - val_dense_39_acc: 0.5958\n",
      "Epoch 2/50\n",
      "45000/45000 [==============================] - 31s 679us/sample - loss: 3.6966 - dense_41_loss: 0.9394 - dense_35_loss: 0.9169 - dense_37_loss: 0.9331 - dense_39_loss: 0.9080 - dense_41_acc: 0.6744 - dense_35_acc: 0.6877 - dense_37_acc: 0.6728 - dense_39_acc: 0.6805 - val_loss: 4.2422 - val_dense_41_loss: 0.9462 - val_dense_35_loss: 1.2069 - val_dense_37_loss: 1.0536 - val_dense_39_loss: 1.0283 - val_dense_41_acc: 0.6774 - val_dense_35_acc: 0.6218 - val_dense_37_acc: 0.6350 - val_dense_39_acc: 0.6462\n",
      "Epoch 3/50\n",
      "45000/45000 [==============================] - 31s 682us/sample - loss: 3.1462 - dense_41_loss: 0.7933 - dense_35_loss: 0.7882 - dense_37_loss: 0.8055 - dense_39_loss: 0.7602 - dense_41_acc: 0.7280 - dense_35_acc: 0.7332 - dense_37_acc: 0.7208 - dense_39_acc: 0.7340 - val_loss: 4.1266 - val_dense_41_loss: 0.9046 - val_dense_35_loss: 1.0573 - val_dense_37_loss: 1.1715 - val_dense_39_loss: 0.9772 - val_dense_41_acc: 0.6968 - val_dense_35_acc: 0.6864 - val_dense_37_acc: 0.6438 - val_dense_39_acc: 0.6776\n",
      "Epoch 4/50\n",
      "45000/45000 [==============================] - 30s 674us/sample - loss: 2.7245 - dense_41_loss: 0.6820 - dense_35_loss: 0.6781 - dense_37_loss: 0.7162 - dense_39_loss: 0.6474 - dense_41_acc: 0.7666 - dense_35_acc: 0.7677 - dense_37_acc: 0.7498 - dense_39_acc: 0.7732 - val_loss: 3.4016 - val_dense_41_loss: 0.7704 - val_dense_35_loss: 1.0026 - val_dense_37_loss: 0.8576 - val_dense_39_loss: 0.7732 - val_dense_41_acc: 0.7450 - val_dense_35_acc: 0.6832 - val_dense_37_acc: 0.7188 - val_dense_39_acc: 0.7390\n",
      "Epoch 5/50\n",
      "45000/45000 [==============================] - 30s 674us/sample - loss: 2.3657 - dense_41_loss: 0.5870 - dense_35_loss: 0.5827 - dense_37_loss: 0.6397 - dense_39_loss: 0.5566 - dense_41_acc: 0.7981 - dense_35_acc: 0.8007 - dense_37_acc: 0.7788 - dense_39_acc: 0.8049 - val_loss: 3.5062 - val_dense_41_loss: 0.7971 - val_dense_35_loss: 1.0498 - val_dense_37_loss: 0.8972 - val_dense_39_loss: 0.7634 - val_dense_41_acc: 0.7464 - val_dense_35_acc: 0.7000 - val_dense_37_acc: 0.7130 - val_dense_39_acc: 0.7504\n",
      "10000/10000 [==============================] - 3s 323us/sample - loss: 3.7209 - dense_41_loss: 0.8451 - dense_35_loss: 1.1211 - dense_37_loss: 0.9410 - dense_39_loss: 0.8135 - dense_41_acc: 0.7251 - dense_35_acc: 0.6929 - dense_37_acc: 0.6987 - dense_39_acc: 0.7347\n",
      "Test loss: 3.720894997024536\n",
      "Test accuracy: 0.8451187\n"
     ]
    }
   ],
   "source": [
    "with_aux(input_img, num_classes)"
   ]
  },
  {
   "cell_type": "code",
   "execution_count": 0,
   "metadata": {
    "colab": {
     "base_uri": "https://localhost:8080/",
     "height": 1000
    },
    "colab_type": "code",
    "executionInfo": {
     "elapsed": 87336,
     "status": "ok",
     "timestamp": 1573596277624,
     "user": {
      "displayName": "Kritika Gupta",
      "photoUrl": "https://lh3.googleusercontent.com/a-/AAuE7mCgwK3Moc4SnVPKwBeZeYUEdvlrnhYWLjYp7qtZWQ=s64",
      "userId": "12877228453155369040"
     },
     "user_tz": -330
    },
    "id": "PxUATLnRkOvu",
    "outputId": "db7dcc61-276b-4273-8b2e-54c92ea6dfd7"
   },
   "outputs": [
    {
     "name": "stdout",
     "output_type": "stream",
     "text": [
      "Model: \"model_5\"\n",
      "__________________________________________________________________________________________________\n",
      "Layer (type)                    Output Shape         Param #     Connected to                     \n",
      "==================================================================================================\n",
      "input_9 (InputLayer)            [(None, 32, 32, 3)]  0                                            \n",
      "__________________________________________________________________________________________________\n",
      "conv2d_98 (Conv2D)              (None, 30, 30, 15)   420         input_9[0][0]                    \n",
      "__________________________________________________________________________________________________\n",
      "conv2d_99 (Conv2D)              (None, 30, 30, 64)   1024        conv2d_98[0][0]                  \n",
      "__________________________________________________________________________________________________\n",
      "conv2d_100 (Conv2D)             (None, 30, 30, 64)   8704        conv2d_98[0][0]                  \n",
      "__________________________________________________________________________________________________\n",
      "conv2d_101 (Conv2D)             (None, 30, 30, 64)   24064       conv2d_98[0][0]                  \n",
      "__________________________________________________________________________________________________\n",
      "max_pooling2d_50 (MaxPooling2D) (None, 30, 30, 15)   0           conv2d_98[0][0]                  \n",
      "__________________________________________________________________________________________________\n",
      "concatenate_25 (Concatenate)    (None, 30, 30, 207)  0           conv2d_99[0][0]                  \n",
      "                                                                 conv2d_100[0][0]                 \n",
      "                                                                 conv2d_101[0][0]                 \n",
      "                                                                 max_pooling2d_50[0][0]           \n",
      "__________________________________________________________________________________________________\n",
      "max_pooling2d_51 (MaxPooling2D) (None, 15, 15, 207)  0           concatenate_25[0][0]             \n",
      "__________________________________________________________________________________________________\n",
      "conv2d_102 (Conv2D)             (None, 15, 15, 64)   13312       max_pooling2d_51[0][0]           \n",
      "__________________________________________________________________________________________________\n",
      "conv2d_103 (Conv2D)             (None, 15, 15, 64)   119296      max_pooling2d_51[0][0]           \n",
      "__________________________________________________________________________________________________\n",
      "conv2d_104 (Conv2D)             (None, 15, 15, 64)   331264      max_pooling2d_51[0][0]           \n",
      "__________________________________________________________________________________________________\n",
      "max_pooling2d_52 (MaxPooling2D) (None, 15, 15, 207)  0           max_pooling2d_51[0][0]           \n",
      "__________________________________________________________________________________________________\n",
      "concatenate_26 (Concatenate)    (None, 15, 15, 399)  0           conv2d_102[0][0]                 \n",
      "                                                                 conv2d_103[0][0]                 \n",
      "                                                                 conv2d_104[0][0]                 \n",
      "                                                                 max_pooling2d_52[0][0]           \n",
      "__________________________________________________________________________________________________\n",
      "max_pooling2d_53 (MaxPooling2D) (None, 8, 8, 399)    0           concatenate_26[0][0]             \n",
      "__________________________________________________________________________________________________\n",
      "conv2d_105 (Conv2D)             (None, 8, 8, 64)     25600       max_pooling2d_53[0][0]           \n",
      "__________________________________________________________________________________________________\n",
      "conv2d_106 (Conv2D)             (None, 8, 8, 64)     229888      max_pooling2d_53[0][0]           \n",
      "__________________________________________________________________________________________________\n",
      "conv2d_107 (Conv2D)             (None, 8, 8, 64)     638464      max_pooling2d_53[0][0]           \n",
      "__________________________________________________________________________________________________\n",
      "max_pooling2d_54 (MaxPooling2D) (None, 8, 8, 399)    0           max_pooling2d_53[0][0]           \n",
      "__________________________________________________________________________________________________\n",
      "concatenate_27 (Concatenate)    (None, 8, 8, 591)    0           conv2d_105[0][0]                 \n",
      "                                                                 conv2d_106[0][0]                 \n",
      "                                                                 conv2d_107[0][0]                 \n",
      "                                                                 max_pooling2d_54[0][0]           \n",
      "__________________________________________________________________________________________________\n",
      "max_pooling2d_55 (MaxPooling2D) (None, 4, 4, 591)    0           concatenate_27[0][0]             \n",
      "__________________________________________________________________________________________________\n",
      "average_pooling2d_16 (AveragePo (None, 2, 2, 591)    0           max_pooling2d_55[0][0]           \n",
      "__________________________________________________________________________________________________\n",
      "flatten_13 (Flatten)            (None, 2364)         0           average_pooling2d_16[0][0]       \n",
      "__________________________________________________________________________________________________\n",
      "dense_42 (Dense)                (None, 64)           151360      flatten_13[0][0]                 \n",
      "__________________________________________________________________________________________________\n",
      "dense_43 (Dense)                (None, 10)           650         dense_42[0][0]                   \n",
      "==================================================================================================\n",
      "Total params: 1,544,046\n",
      "Trainable params: 1,544,046\n",
      "Non-trainable params: 0\n",
      "__________________________________________________________________________________________________\n",
      "Train on 45000 samples, validate on 5000 samples\n",
      "Epoch 1/50\n",
      "45000/45000 [==============================] - 21s 470us/sample - loss: 1.3146 - acc: 0.5306 - val_loss: 1.0279 - val_acc: 0.6480\n",
      "Epoch 2/50\n",
      "45000/45000 [==============================] - 20s 454us/sample - loss: 0.9058 - acc: 0.6853 - val_loss: 0.8058 - val_acc: 0.7212\n",
      "Epoch 3/50\n",
      "45000/45000 [==============================] - 20s 453us/sample - loss: 0.7471 - acc: 0.7436 - val_loss: 0.7656 - val_acc: 0.7384\n",
      "Epoch 4/50\n",
      "45000/45000 [==============================] - 20s 452us/sample - loss: 0.6200 - acc: 0.7863 - val_loss: 0.7860 - val_acc: 0.7384\n",
      "10000/10000 [==============================] - 2s 200us/sample - loss: 0.8302 - acc: 0.7244\n",
      "Test loss: 0.8302359462738037\n",
      "Test accuracy: 0.7244\n"
     ]
    }
   ],
   "source": [
    "without_aux(input_img, num_classes)"
   ]
  },
  {
   "cell_type": "markdown",
   "metadata": {
    "colab": {},
    "colab_type": "code",
    "id": "T1tMlv6zmTk1"
   },
   "source": [
    "### Observation\n",
    "    - Auxiliary output improves accuarcy from 0.724 to 0.84"
   ]
  },
  {
   "cell_type": "code",
   "execution_count": null,
   "metadata": {},
   "outputs": [],
   "source": []
  }
 ],
 "metadata": {
  "accelerator": "GPU",
  "colab": {
   "collapsed_sections": [],
   "name": "ML4DM_Lab6_Auxiliary",
   "provenance": [
    {
     "file_id": "139-HQH6XepJkFMbPPD3SAuOSDdSl2nEp",
     "timestamp": 1573590912180
    }
   ]
  },
  "kernelspec": {
   "display_name": "Python 3",
   "language": "python",
   "name": "python3"
  },
  "language_info": {
   "codemirror_mode": {
    "name": "ipython",
    "version": 3
   },
   "file_extension": ".py",
   "mimetype": "text/x-python",
   "name": "python",
   "nbconvert_exporter": "python",
   "pygments_lexer": "ipython3",
   "version": "3.8.2"
  }
 },
 "nbformat": 4,
 "nbformat_minor": 1
}
