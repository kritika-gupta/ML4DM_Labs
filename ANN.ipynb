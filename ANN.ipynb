{
 "cells": [
  {
   "cell_type": "markdown",
   "metadata": {
    "colab_type": "text",
    "id": "mRa6UnpBQsJx"
   },
   "source": [
    "## Regression using ANN"
   ]
  },
  {
   "cell_type": "code",
   "execution_count": 0,
   "metadata": {
    "colab": {},
    "colab_type": "code",
    "id": "LrJOvl-UNgsR"
   },
   "outputs": [],
   "source": [
    "import numpy as np\n",
    "import matplotlib.pyplot as plt\n",
    "import csv\n",
    "import pandas as pd\n",
    "from sklearn.model_selection import train_test_split\n",
    "from tensorflow.keras.models import Sequential\n",
    "from tensorflow.keras.layers import Dense, Flatten, InputLayer"
   ]
  },
  {
   "cell_type": "code",
   "execution_count": 0,
   "metadata": {
    "colab": {},
    "colab_type": "code",
    "id": "J768M31PNgsa"
   },
   "outputs": [],
   "source": [
    "def split(df, train_ratio):\n",
    "    idx = int(np.round(len(df)*0.7))\n",
    "    shuffled_df = df.sample(frac = 1).reset_index(drop = True)\n",
    "    train = shuffled_df[0:idx]\n",
    "    test = shuffled_df[idx:len(df)]\n",
    "    assert(len(train) + len(test)==len(df))\n",
    "    return train, test"
   ]
  },
  {
   "cell_type": "code",
   "execution_count": 0,
   "metadata": {
    "colab": {},
    "colab_type": "code",
    "id": "bhkWBdIZNgsh"
   },
   "outputs": [],
   "source": [
    "def plots(h_dict, val = True):\n",
    "    \n",
    "    plt.figure()\n",
    "    for num_layers in h_dict.keys():\n",
    "        print(h_dict[num_layers].history.keys())\n",
    "        plt.plot(h_dict[num_layers].history['loss'], label = 'train %0.f layers'%num_layers)\n",
    "        if(val):\n",
    "            plt.plot(h_dict[num_layers].history['val_loss'], label = \"validation %.0f layers\"%num_layers)\n",
    "\n",
    "    plt.title('model loss')\n",
    "    plt.ylabel('loss')\n",
    "    plt.xlabel('epoch')\n",
    "    plt.legend(loc = 0)\n",
    "    plt.grid()\n",
    "    plt.show()\n",
    "    \n",
    "    plt.figure()\n",
    "    for num_layers in h_dict.keys():\n",
    "        print(h_dict[num_layers].history.keys())\n",
    "        plt.plot(h_dict[num_layers].history['mean_squared_error'], label = 'train %0.f layers'%num_layers)\n",
    "        if(val):\n",
    "            plt.plot(h_dict[num_layers].history['val_mean_squared_error'], label = \"validation %.0f layers\"%num_layers)\n",
    "\n",
    "    plt.title('model mean_squared_error')\n",
    "    plt.ylabel('MSE')\n",
    "    plt.xlabel('epoch')\n",
    "    plt.legend(loc = 0)\n",
    "    plt.grid()\n",
    "    plt.show()\n",
    "    \n",
    "    plt.figure()\n",
    "    for num_layers in h_dict.keys():\n",
    "        print(h_dict[num_layers].history.keys())\n",
    "        plt.plot(h_dict[num_layers].history['mean_absolute_error'], label = 'train %0.f layers'%num_layers)\n",
    "        if(val):\n",
    "            plt.plot(h_dict[num_layers].history['val_mean_absolute_error'], label = \"validation %.0f layers\"%num_layers)\n",
    "\n",
    "    plt.title('model mean_absolute_error')\n",
    "    plt.ylabel('MAE')\n",
    "    plt.xlabel('epoch')\n",
    "    plt.legend(loc = 0)\n",
    "    plt.grid()\n",
    "    plt.show()"
   ]
  },
  {
   "cell_type": "code",
   "execution_count": 0,
   "metadata": {
    "colab": {},
    "colab_type": "code",
    "id": "LrKxXjD7Ngso"
   },
   "outputs": [],
   "source": [
    "def ANN(data, hidden_layers, nodes, epochs, activation_fn, metric, validation):\n",
    "    [x_train, y_train, x_test, y_test] = data\n",
    "    print(hidden_layers,\"hidden layers with\", activation_fn, \"activation and\", nodes,\"nodes.\\n\")\n",
    "    \n",
    "    model = Sequential()\n",
    "    model.add(Dense(nodes[0], activation = activation_fn, input_shape = [x_train.shape[1]]))\n",
    "   \n",
    "    for i in range(1, hidden_layers):\n",
    "\n",
    "        model.add(Dense(nodes[i], activation = activation_fn))\n",
    "        \n",
    "    model.add(Dense(1))\n",
    "    model.compile(optimizer='adam', loss='mean_squared_error', metrics=metric)\n",
    "    fit_history = model.fit(x_train, y_train, epochs=epochs, validation_split=validation, verbose = False)\n",
    "    print(model.summary(), \"\\n\")\n",
    "    print(model.evaluate(x_test, y_test, verbose = True), \"\\n\")\n",
    "    \n",
    "    return fit_history"
   ]
  },
  {
   "cell_type": "markdown",
   "metadata": {
    "colab_type": "text",
    "id": "L4FHQKQCNgsv"
   },
   "source": [
    "## get data"
   ]
  },
  {
   "cell_type": "code",
   "execution_count": 0,
   "metadata": {
    "colab": {},
    "colab_type": "code",
    "id": "OHlVLniLNgsx",
    "outputId": "2f716535-9e6b-4df6-ec98-8168c0f6cb45"
   },
   "outputs": [
    {
     "name": "stdout",
     "output_type": "stream",
     "text": [
      "Samples =  392 , features =  10\n"
     ]
    },
    {
     "data": {
      "text/html": [
       "<div>\n",
       "<style scoped>\n",
       "    .dataframe tbody tr th:only-of-type {\n",
       "        vertical-align: middle;\n",
       "    }\n",
       "\n",
       "    .dataframe tbody tr th {\n",
       "        vertical-align: top;\n",
       "    }\n",
       "\n",
       "    .dataframe thead th {\n",
       "        text-align: right;\n",
       "    }\n",
       "</style>\n",
       "<table border=\"1\" class=\"dataframe\">\n",
       "  <thead>\n",
       "    <tr style=\"text-align: right;\">\n",
       "      <th></th>\n",
       "      <th>mpg</th>\n",
       "      <th>cylinders</th>\n",
       "      <th>displacement</th>\n",
       "      <th>horsepower</th>\n",
       "      <th>weight</th>\n",
       "      <th>acceleration</th>\n",
       "      <th>model year</th>\n",
       "      <th>1.0</th>\n",
       "      <th>2.0</th>\n",
       "      <th>3.0</th>\n",
       "    </tr>\n",
       "  </thead>\n",
       "  <tbody>\n",
       "    <tr>\n",
       "      <th>0</th>\n",
       "      <td>18.0</td>\n",
       "      <td>8.0</td>\n",
       "      <td>307.0</td>\n",
       "      <td>130.0</td>\n",
       "      <td>3504.0</td>\n",
       "      <td>12.0</td>\n",
       "      <td>70.0</td>\n",
       "      <td>1</td>\n",
       "      <td>0</td>\n",
       "      <td>0</td>\n",
       "    </tr>\n",
       "    <tr>\n",
       "      <th>1</th>\n",
       "      <td>15.0</td>\n",
       "      <td>8.0</td>\n",
       "      <td>350.0</td>\n",
       "      <td>165.0</td>\n",
       "      <td>3693.0</td>\n",
       "      <td>11.5</td>\n",
       "      <td>70.0</td>\n",
       "      <td>1</td>\n",
       "      <td>0</td>\n",
       "      <td>0</td>\n",
       "    </tr>\n",
       "    <tr>\n",
       "      <th>2</th>\n",
       "      <td>18.0</td>\n",
       "      <td>8.0</td>\n",
       "      <td>318.0</td>\n",
       "      <td>150.0</td>\n",
       "      <td>3436.0</td>\n",
       "      <td>11.0</td>\n",
       "      <td>70.0</td>\n",
       "      <td>1</td>\n",
       "      <td>0</td>\n",
       "      <td>0</td>\n",
       "    </tr>\n",
       "    <tr>\n",
       "      <th>3</th>\n",
       "      <td>16.0</td>\n",
       "      <td>8.0</td>\n",
       "      <td>304.0</td>\n",
       "      <td>150.0</td>\n",
       "      <td>3433.0</td>\n",
       "      <td>12.0</td>\n",
       "      <td>70.0</td>\n",
       "      <td>1</td>\n",
       "      <td>0</td>\n",
       "      <td>0</td>\n",
       "    </tr>\n",
       "    <tr>\n",
       "      <th>4</th>\n",
       "      <td>17.0</td>\n",
       "      <td>8.0</td>\n",
       "      <td>302.0</td>\n",
       "      <td>140.0</td>\n",
       "      <td>3449.0</td>\n",
       "      <td>10.5</td>\n",
       "      <td>70.0</td>\n",
       "      <td>1</td>\n",
       "      <td>0</td>\n",
       "      <td>0</td>\n",
       "    </tr>\n",
       "  </tbody>\n",
       "</table>\n",
       "</div>"
      ],
      "text/plain": [
       "    mpg  cylinders  displacement  horsepower  weight  acceleration  \\\n",
       "0  18.0        8.0         307.0       130.0  3504.0          12.0   \n",
       "1  15.0        8.0         350.0       165.0  3693.0          11.5   \n",
       "2  18.0        8.0         318.0       150.0  3436.0          11.0   \n",
       "3  16.0        8.0         304.0       150.0  3433.0          12.0   \n",
       "4  17.0        8.0         302.0       140.0  3449.0          10.5   \n",
       "\n",
       "   model year  1.0  2.0  3.0  \n",
       "0        70.0    1    0    0  \n",
       "1        70.0    1    0    0  \n",
       "2        70.0    1    0    0  \n",
       "3        70.0    1    0    0  \n",
       "4        70.0    1    0    0  "
      ]
     },
     "execution_count": 27,
     "metadata": {
      "tags": []
     },
     "output_type": "execute_result"
    }
   ],
   "source": [
    "cols = ['mpg', 'cylinders','displacement','horsepower','weight','acceleration','model year','origin','car name']\n",
    "df = pd.read_csv(\"auto-mpg.data\", sep = \"\\s+\", names = cols)\n",
    "df = df.drop(cols[-1], axis = 1)\n",
    "df = df.replace('?', np.nan)\n",
    "df = df.dropna().astype('float32')\n",
    "one_hot = pd.get_dummies(df['origin'])\n",
    "df = pd.concat([df, one_hot], axis = 1)\n",
    "df = df.drop('origin', axis = 1)\n",
    "features = len(df.columns)\n",
    "samples = len(df)\n",
    "print(\"Samples = \", samples, \", features = \", features)\n",
    "df.head()\n"
   ]
  },
  {
   "cell_type": "markdown",
   "metadata": {
    "colab_type": "text",
    "id": "XtrEREptNgs5"
   },
   "source": [
    "## split and normalize data"
   ]
  },
  {
   "cell_type": "code",
   "execution_count": 0,
   "metadata": {
    "colab": {},
    "colab_type": "code",
    "id": "6EQ_TdsUNgs7",
    "outputId": "237c29ab-7588-4aee-e003-4a945024e8a4"
   },
   "outputs": [
    {
     "name": "stdout",
     "output_type": "stream",
     "text": [
      "(274, 9) (274, 1)\n",
      "(118, 9) (118, 1)\n"
     ]
    }
   ],
   "source": [
    "train_df, test_df = split(df, 0.7)\n",
    "y_train = train_df['mpg'].to_numpy().reshape(len(train_df),1)\n",
    "y_test = test_df['mpg'].to_numpy().reshape(len(test_df),1)\n",
    "\n",
    "x_train = train_df.drop('mpg', axis=1).to_numpy()\n",
    "x_test = test_df.drop('mpg', axis=1).to_numpy()\n",
    "x_train = (x_train - np.mean(x_train, axis = 0))/np.std(x_train, axis = 0)\n",
    "x_test = (x_test - np.mean(x_test, axis = 0))/np.std(x_test, axis = 0)\n",
    "\n",
    "assert(x_train.shape[0]+x_test.shape[0] == y_train.shape[0]+y_test.shape[0] == samples)\n",
    "assert(x_train.shape[1]+y_train.shape[1] == x_test.shape[1]+y_test.shape[1] == features)\n",
    "print(x_train.shape, y_train.shape)\n",
    "print(x_test.shape, y_test.shape)"
   ]
  },
  {
   "cell_type": "code",
   "execution_count": 0,
   "metadata": {
    "colab": {},
    "colab_type": "code",
    "id": "XJNB3ETENgtA",
    "outputId": "929a8138-455c-49b2-bc02-cd1f666fbdd4",
    "scrolled": false
   },
   "outputs": [
    {
     "name": "stdout",
     "output_type": "stream",
     "text": [
      "**************************************************************************************************** \n",
      "\n",
      "\n",
      "2 hidden layers with relu activation and [64, 64] nodes.\n",
      "\n",
      "Model: \"sequential_10\"\n",
      "_________________________________________________________________\n",
      "Layer (type)                 Output Shape              Param #   \n",
      "=================================================================\n",
      "dense_28 (Dense)             (None, 64)                640       \n",
      "_________________________________________________________________\n",
      "dense_29 (Dense)             (None, 64)                4160      \n",
      "_________________________________________________________________\n",
      "dense_30 (Dense)             (None, 1)                 65        \n",
      "=================================================================\n",
      "Total params: 4,865\n",
      "Trainable params: 4,865\n",
      "Non-trainable params: 0\n",
      "_________________________________________________________________\n",
      "None \n",
      "\n",
      "118/118 [==============================] - 0s 33us/sample - loss: 14.4582 - mean_squared_error: 14.4582 - mean_absolute_error: 2.6095\n",
      "[14.458155842150672, 14.458156, 2.6094923] \n",
      "\n"
     ]
    }
   ],
   "source": [
    "# layers = np.array([1, 3, 5, 7])\n",
    "layers = [2]\n",
    "h = dict.fromkeys(layers)\n",
    "data = [x_train, y_train, x_test, y_test]\n",
    "for num_layers in h:\n",
    "    print(\"*\"*100, \"\\n\\n\")\n",
    "    h[num_layers] = ANN(data, num_layers, [64]*num_layers, 100, 'relu', \\\n",
    "                        ['mean_squared_error','mean_absolute_error'], 0.3)"
   ]
  },
  {
   "cell_type": "code",
   "execution_count": 0,
   "metadata": {
    "colab": {},
    "colab_type": "code",
    "id": "oEP0R8H5NgtF",
    "outputId": "bf86bc37-d3b4-41f6-801a-91322934f164"
   },
   "outputs": [
    {
     "name": "stdout",
     "output_type": "stream",
     "text": [
      "dict_keys(['mean_squared_error', 'val_mean_absolute_error', 'val_loss', 'val_mean_squared_error', 'mean_absolute_error', 'loss'])\n"
     ]
    },
    {
     "data": {
      "image/png": "[encoded data removed]",
      "text/plain": [
       "<Figure size 432x288 with 1 Axes>"
      ]
     },
     "metadata": {
      "needs_background": "light",
      "tags": []
     },
     "output_type": "display_data"
    },
    {
     "name": "stdout",
     "output_type": "stream",
     "text": [
      "dict_keys(['mean_squared_error', 'val_mean_absolute_error', 'val_loss', 'val_mean_squared_error', 'mean_absolute_error', 'loss'])\n"
     ]
    },
    {
     "data": {
      "image/png": "[encoded data removed]",
      "text/plain": [
       "<Figure size 432x288 with 1 Axes>"
      ]
     },
     "metadata": {
      "needs_background": "light",
      "tags": []
     },
     "output_type": "display_data"
    },
    {
     "name": "stdout",
     "output_type": "stream",
     "text": [
      "dict_keys(['mean_squared_error', 'val_mean_absolute_error', 'val_loss', 'val_mean_squared_error', 'mean_absolute_error', 'loss'])\n"
     ]
    },
    {
     "data": {
      "image/png": "[encoded data removed]",
      "text/plain": [
       "<Figure size 432x288 with 1 Axes>"
      ]
     },
     "metadata": {
      "needs_background": "light",
      "tags": []
     },
     "output_type": "display_data"
    }
   ],
   "source": [
    "plots(h, 1)"
   ]
  },
  {
   "cell_type": "code",
   "execution_count": 0,
   "metadata": {
    "colab": {},
    "colab_type": "code",
    "id": "M4arQpXXNgtK"
   },
   "outputs": [],
   "source": []
  },
  {
   "cell_type": "code",
   "execution_count": 0,
   "metadata": {
    "colab": {},
    "colab_type": "code",
    "id": "0HMjBiWuNgtR"
   },
   "outputs": [],
   "source": []
  }
 ],
 "metadata": {
  "colab": {
   "collapsed_sections": [],
   "name": "ML4DM_Lab4.ipynb",
   "provenance": []
  },
  "kernelspec": {
   "display_name": "Python 3",
   "language": "python",
   "name": "python3"
  },
  "language_info": {
   "codemirror_mode": {
    "name": "ipython",
    "version": 3
   },
   "file_extension": ".py",
   "mimetype": "text/x-python",
   "name": "python",
   "nbconvert_exporter": "python",
   "pygments_lexer": "ipython3",
   "version": "3.8.2"
  }
 },
 "nbformat": 4,
 "nbformat_minor": 1
}
